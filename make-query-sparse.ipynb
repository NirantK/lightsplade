{
 "cells": [
  {
   "cell_type": "code",
   "execution_count": 1,
   "metadata": {},
   "outputs": [
    {
     "name": "stderr",
     "output_type": "stream",
     "text": [
      "/home/generall/projects/vector_search/tmp/msmacro/venv/lib/python3.11/site-packages/tqdm/auto.py:21: TqdmWarning: IProgress not found. Please update jupyter and ipywidgets. See https://ipywidgets.readthedocs.io/en/stable/user_install.html\n",
      "  from .autonotebook import tqdm as notebook_tqdm\n"
     ]
    }
   ],
   "source": [
    "from inference import SparseModel"
   ]
  },
  {
   "cell_type": "code",
   "execution_count": 2,
   "metadata": {},
   "outputs": [],
   "source": [
    "model = SparseModel()"
   ]
  },
  {
   "cell_type": "code",
   "execution_count": 4,
   "metadata": {},
   "outputs": [],
   "source": [
    "QDRANT_URL='http://localhost:6333'\n",
    "QDRANT_API_KEY=''\n",
    "COLLECTION_NAME=\"quora\""
   ]
  },
  {
   "cell_type": "code",
   "execution_count": 5,
   "metadata": {},
   "outputs": [
    {
     "name": "stderr",
     "output_type": "stream",
     "text": [
      "\u001b[32m2024-03-21 01:36:00.635\u001b[0m | \u001b[33m\u001b[1mWARNING \u001b[0m | \u001b[36mfastembed.embedding\u001b[0m:\u001b[36m<module>\u001b[0m:\u001b[36m7\u001b[0m - \u001b[33m\u001b[1mDefaultEmbedding, FlagEmbedding, JinaEmbedding are deprecated.Use from fastembed import TextEmbedding instead.\u001b[0m\n"
     ]
    }
   ],
   "source": [
    "from qdrant_client import QdrantClient, models\n",
    "import math"
   ]
  },
  {
   "cell_type": "code",
   "execution_count": 6,
   "metadata": {},
   "outputs": [],
   "source": [
    "def rescore_vector(vector: dict) -> dict:\n",
    "    new_vector = {}\n",
    "\n",
    "    sorted_vector = sorted(vector.items(), key=lambda x: x[1], reverse=True)\n",
    "\n",
    "    for num, (idx, _value) in enumerate(sorted_vector):\n",
    "        new_vector[idx] = 1. # math.log(1./(num + 1) + 1.) # * value\n",
    "    return new_vector\n"
   ]
  },
  {
   "cell_type": "code",
   "execution_count": 7,
   "metadata": {},
   "outputs": [],
   "source": [
    "def conver_sparse_vector(sparse_vector: dict) -> models.SparseVector:\n",
    "    indices = []\n",
    "    values = []\n",
    "\n",
    "    for (idx, value) in sparse_vector.items():\n",
    "        indices.append(int(idx))\n",
    "        values.append(value)\n",
    "\n",
    "    return models.SparseVector(\n",
    "        indices=indices,\n",
    "        values=values\n",
    "    )"
   ]
  },
  {
   "cell_type": "code",
   "execution_count": 9,
   "metadata": {},
   "outputs": [
    {
     "name": "stderr",
     "output_type": "stream",
     "text": [
      "/home/generall/projects/vector_search/tmp/msmacro/venv/lib/python3.11/site-packages/qdrant_client/qdrant_remote.py:122: UserWarning: Api key is used with unsecure connection.\n",
      "  warnings.warn(\"Api key is used with unsecure connection.\")\n"
     ]
    }
   ],
   "source": [
    "client = QdrantClient(QDRANT_URL, api_key=QDRANT_API_KEY)"
   ]
  },
  {
   "cell_type": "code",
   "execution_count": 21,
   "metadata": {},
   "outputs": [],
   "source": [
    "query = \"Should Indian Railways be privatized?\"\n",
    "sparse_vector = rescore_vector(next(model.encode([query])))\n",
    "sparse_vector_qdrant = conver_sparse_vector(sparse_vector)\n",
    "\n",
    "limit = 10\n",
    "result = client.search(\n",
    "    collection_name=COLLECTION_NAME,\n",
    "    query_vector=models.NamedSparseVector(\n",
    "        name=\"attention\",\n",
    "        vector=sparse_vector_qdrant\n",
    "    ),\n",
    "    with_payload=True,\n",
    "    with_vectors=True,\n",
    "    limit=limit\n",
    ")"
   ]
  },
  {
   "cell_type": "code",
   "execution_count": 22,
   "metadata": {},
   "outputs": [
    {
     "name": "stdout",
     "output_type": "stream",
     "text": [
      "0 id=406675 version=19064 score=14.264926 payload={'id': '418691', 'text': 'Why is the Indian government not privatising Indian Railways?'} vector={'attention': SparseVector(indices=[1029, 1996, 2003, 2025, 2231, 2339, 2796, 7111, 7741, 20203, 26927], values=[0.0005044635, 0.35384217, 0.4080243, 1.3043731, 2.009453, 0.83495766, 1.9742125, 4.6289215, 3.1114693, 4.0357103, 3.6255777])} shard_key=None\n",
      "1 id=277024 version=12986 score=13.902832 payload={'id': '285469', 'text': 'Why is Indian government not introducing privatisation in railways?'} vector={'attention': SparseVector(indices=[1029, 1999, 2003, 2025, 2231, 2339, 2796, 7111, 10449, 20203, 26652, 26927], values=[0.0005044635, 0.5242223, 0.4080243, 1.3043731, 2.009453, 0.83495766, 1.6121174, 4.6289215, 3.4818954, 4.0357103, 2.9424112, 3.6255777])} shard_key=None\n",
      "2 id=277025 version=12986 score=13.902832 payload={'id': '285470', 'text': 'Why is the Indian government not allowing privatisation in railways?'} vector={'attention': SparseVector(indices=[1029, 1996, 1999, 2003, 2025, 2231, 2339, 2796, 4352, 7111, 20203, 26652, 26927], values=[0.0005044635, 0.35384217, 0.5242223, 0.4080243, 1.3043731, 2.009453, 0.83495766, 1.6121174, 3.2567763, 4.6289215, 4.0357103, 2.9424112, 3.6255777])} shard_key=None\n",
      "3 id=311099 version=14582 score=13.868486 payload={'id': '320566', 'text': 'What would be the current economic scenario in India if it had privatized the economy in 1950(s) and there had been no Indo-China War?'} vector={'attention': SparseVector(indices=[1006, 1007, 1011, 1029, 1055, 1996, 1998, 1999, 2009, 2018, 2022, 2042, 2045, 2052, 2053, 2054, 2065, 2162, 2634, 2783, 2859, 3171, 3925, 4610, 5422, 11424, 11967, 20203, 26927], values=[1.5069067, 1.5061601, 1.3995286, 0.00061777025, 1.2901946, 0.4333181, 0.8411277, 0.64196706, 1.0694224, 2.2360127, 1.306738, 2.2006447, 1.545816, 1.576173, 2.1453772, 0.41970244, 1.2911927, 2.353963, 1.5240963, 2.6444452, 2.4091372, 3.1052327, 4.556147, 2.8461752, 3.7242136, 4.5898995, 3.5872943, 5.2113385, 3.6255777])} shard_key=None\n",
      "4 id=436587 version=20465 score=11.806942 payload={'id': '449407', 'text': 'Should indian airlines be privatised?'} vector={'attention': SparseVector(indices=[1029, 2022, 2323, 2796, 6924, 7608, 20203, 26927], values=[0.0005044635, 1.067066, 1.1038715, 1.9742125, 3.0559807, 4.465885, 4.0357103, 3.6255777])} shard_key=None\n",
      "5 id=184743 version=8660 score=11.625738 payload={'id': '190491', 'text': \"Shouldn't Modi Government privatize Railways and other Public Sector industries?\"} vector={'attention': SparseVector(indices=[1005, 1029, 1056, 1998, 2060, 2072, 2231, 2270, 4371, 4753, 5807, 6088, 7111, 16913, 20203, 26927], values=[0.871311, 0.0005044635, 1.2645645, 0.6868544, 1.5860941, 1.7101367, 2.009453, 2.1816142, 2.5991027, 2.6260426, 2.6801963, 3.4623697, 4.6289215, 2.6736531, 4.0357103, 2.9606016])} shard_key=None\n",
      "6 id=36342 version=1703 score=11.105029 payload={'id': '37484', 'text': 'What would be the pros and cons of education in the USA being privatized or state-regulated with no federal oversight?'} vector={'attention': SparseVector(indices=[1011, 1029, 1996, 1997, 1998, 1999, 2007, 2015, 2022, 2030, 2052, 2053, 2054, 2108, 2110, 2495, 2976, 3915, 4013, 5422, 9530, 12222, 15709, 20203, 26927], values=[1.1428376, 0.0005044635, 0.35384217, 0.6103701, 0.6868544, 0.5242223, 1.078015, 1.011294, 1.067066, 1.0288292, 1.2870833, 1.7518883, 0.3427238, 1.7424183, 2.0427442, 3.4798577, 2.8053508, 2.43303, 1.9370015, 3.0411465, 2.0636826, 3.6085765, 5.7022214, 4.0357103, 2.9606016])} shard_key=None\n",
      "7 id=399533 version=18728 score=10.702939 payload={'id': '411363', 'text': 'How many airports are privatized in India?'} vector={'attention': SparseVector(indices=[1029, 1999, 2024, 2116, 2129, 2634, 5422, 13586, 20203, 26927], values=[0.0005044635, 0.5242223, 0.6366482, 1.5324109, 0.5093057, 1.2445581, 3.0411465, 5.394504, 4.0357103, 3.6255777])} shard_key=None\n",
      "8 id=184744 version=8660 score=10.189344 payload={'id': '190492', 'text': 'Narendra Modi Government should not privatize Public Sector?'} vector={'attention': SparseVector(indices=[1029, 2025, 2072, 2231, 2270, 2323, 4371, 4753, 6583, 7265, 7389, 16913, 20203, 26927], values=[0.00061777025, 1.3043731, 1.7101367, 2.009453, 2.671623, 1.3518102, 2.5991027, 4.152678, 2.5459168, 2.873435, 3.0144362, 2.6736531, 5.2113385, 3.6255777])} shard_key=None\n",
      "9 id=442183 version=20729 score=9.297764 payload={'id': '455153', 'text': 'What happened to VSNL employees when it got privatized?'} vector={'attention': SparseVector(indices=[1029, 2000, 2009, 2043, 2054, 2288, 3047, 5126, 5422, 5443, 20203, 20554, 26927], values=[0.0005044635, 0.5377678, 0.873277, 1.228311, 0.3427238, 2.0297878, 2.1821659, 2.1019368, 3.0411465, 3.703, 3.295511, 4.712006, 2.9606016])} shard_key=None\n"
     ]
    }
   ],
   "source": [
    "for idx, hit in enumerate(result):\n",
    "    print(idx, hit)"
   ]
  },
  {
   "cell_type": "code",
   "execution_count": 16,
   "metadata": {},
   "outputs": [
    {
     "name": "stdout",
     "output_type": "stream",
     "text": [
      "railways: 1.0\n",
      "##vati: 1.0\n",
      "indian: 1.0\n",
      "pri: 1.0\n",
      "?: 1.0\n",
      "should: 1.0\n",
      "be: 1.0\n",
      "##zed: 1.0\n"
     ]
    }
   ],
   "source": [
    "for (idx, value) in zip(sparse_vector_qdrant.indices, sparse_vector_qdrant.values):\n",
    "    print(f\"{model.invert_vocab[idx]}: {value}\")"
   ]
  },
  {
   "cell_type": "code",
   "execution_count": 23,
   "metadata": {},
   "outputs": [
    {
     "name": "stdout",
     "output_type": "stream",
     "text": [
      "?: 0.0005044635 x 1.0 = 0.0005044635\n",
      "to: 0.5377678\n",
      "it: 0.873277\n",
      "when: 1.228311\n",
      "what: 0.3427238\n",
      "got: 2.0297878\n",
      "happened: 2.1821659\n",
      "employees: 2.1019368\n",
      "##zed: 3.0411465 x 1.0 = 3.0411465\n",
      "vs: 3.703\n",
      "##vati: 3.295511 x 1.0 = 3.295511\n",
      "##nl: 4.712006\n",
      "pri: 2.9606016 x 1.0 = 2.9606016\n"
     ]
    }
   ],
   "source": [
    "result_sparse_vector = result[9].vector['attention']\n",
    "\n",
    "for (idx, value) in zip(result_sparse_vector.indices, result_sparse_vector.values):\n",
    "    if idx in sparse_vector:\n",
    "        print(f\"{model.invert_vocab[idx]}: {value} x {sparse_vector[idx]} = {value * sparse_vector[idx]}\")\n",
    "    else:\n",
    "        print(f\"{model.invert_vocab[idx]}: {value}\")\n"
   ]
  },
  {
   "cell_type": "code",
   "execution_count": 24,
   "metadata": {},
   "outputs": [
    {
     "name": "stdout",
     "output_type": "stream",
     "text": [
      "?: 0.0005044635 x 1.0 = 0.0005044635\n",
      "can: 0.7317368\n",
      "through: 1.8962183\n",
      "indian: 1.6121174 x 1.0 = 1.6121174\n",
      "develop: 2.3311443\n",
      "railways: 4.6289215 x 1.0 = 4.6289215\n",
      "acute: 4.6587257\n",
      "privatization: 5.121674\n"
     ]
    }
   ],
   "source": [
    "query = \"Should Indian Railways be privatized?\"\n",
    "sparse_vector = rescore_vector(next(model.encode([query])))\n",
    "sparse_vector_qdrant = conver_sparse_vector(sparse_vector)\n",
    "\n",
    "limit = 10\n",
    "result = client.search(\n",
    "    collection_name=COLLECTION_NAME,\n",
    "    query_vector=models.NamedSparseVector(\n",
    "        name=\"attention\",\n",
    "        vector=sparse_vector_qdrant\n",
    "    ),\n",
    "    query_filter=models.Filter(\n",
    "        must=[\n",
    "            models.FieldCondition(\n",
    "                key=\"id\", match=models.MatchValue(value=\"244307\")\n",
    "            ),\n",
    "        ],\n",
    "    ),\n",
    "    with_payload=True,\n",
    "    with_vectors=True,\n",
    "    limit=limit\n",
    ")\n",
    "\n",
    "result_sparse_vector = result[0].vector['attention']\n",
    "\n",
    "for (idx, value) in zip(result_sparse_vector.indices, result_sparse_vector.values):\n",
    "    if idx in sparse_vector:\n",
    "        print(f\"{model.invert_vocab[idx]}: {value} x {sparse_vector[idx]} = {value * sparse_vector[idx]}\")\n",
    "    else:\n",
    "        print(f\"{model.invert_vocab[idx]}: {value}\")\n"
   ]
  },
  {
   "cell_type": "code",
   "execution_count": 40,
   "metadata": {},
   "outputs": [],
   "source": [
    "import math"
   ]
  },
  {
   "cell_type": "code",
   "execution_count": 52,
   "metadata": {},
   "outputs": [
    {
     "data": {
      "text/plain": [
       "0.04879016416943205"
      ]
     },
     "execution_count": 52,
     "metadata": {},
     "output_type": "execute_result"
    }
   ],
   "source": [
    "math.log(1/20 + 1)"
   ]
  },
  {
   "cell_type": "code",
   "execution_count": 112,
   "metadata": {},
   "outputs": [
    {
     "data": {
      "text/plain": [
       "[1, 3, 2]"
      ]
     },
     "execution_count": 112,
     "metadata": {},
     "output_type": "execute_result"
    }
   ],
   "source": [
    "a = [1,3,2]\n",
    "\n",
    "sorted(a, reverse=True)\n",
    "\n",
    "a"
   ]
  },
  {
   "cell_type": "code",
   "execution_count": null,
   "metadata": {},
   "outputs": [],
   "source": []
  }
 ],
 "metadata": {
  "kernelspec": {
   "display_name": "venv",
   "language": "python",
   "name": "python3"
  },
  "language_info": {
   "codemirror_mode": {
    "name": "ipython",
    "version": 3
   },
   "file_extension": ".py",
   "mimetype": "text/x-python",
   "name": "python",
   "nbconvert_exporter": "python",
   "pygments_lexer": "ipython3",
   "version": "3.11.4"
  }
 },
 "nbformat": 4,
 "nbformat_minor": 2
}
