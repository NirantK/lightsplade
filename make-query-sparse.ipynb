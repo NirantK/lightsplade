{
 "cells": [
  {
   "cell_type": "code",
   "execution_count": 1,
   "metadata": {},
   "outputs": [
    {
     "name": "stderr",
     "output_type": "stream",
     "text": [
      "/home/generall/projects/vector_search/tmp/msmacro/venv/lib/python3.11/site-packages/tqdm/auto.py:21: TqdmWarning: IProgress not found. Please update jupyter and ipywidgets. See https://ipywidgets.readthedocs.io/en/stable/user_install.html\n",
      "  from .autonotebook import tqdm as notebook_tqdm\n"
     ]
    }
   ],
   "source": [
    "from inference import SparseModel"
   ]
  },
  {
   "cell_type": "code",
   "execution_count": 2,
   "metadata": {},
   "outputs": [],
   "source": [
    "model = SparseModel()"
   ]
  },
  {
   "cell_type": "code",
   "execution_count": 3,
   "metadata": {},
   "outputs": [],
   "source": [
    "QDRANT_URL='http://localhost:6333'\n",
    "QDRANT_API_KEY=''\n",
    "COLLECTION_NAME=\"fiqa\""
   ]
  },
  {
   "cell_type": "code",
   "execution_count": 4,
   "metadata": {},
   "outputs": [
    {
     "name": "stderr",
     "output_type": "stream",
     "text": [
      "\u001b[32m2024-03-17 23:16:17.033\u001b[0m | \u001b[33m\u001b[1mWARNING \u001b[0m | \u001b[36mfastembed.embedding\u001b[0m:\u001b[36m<module>\u001b[0m:\u001b[36m7\u001b[0m - \u001b[33m\u001b[1mDefaultEmbedding, FlagEmbedding, JinaEmbedding are deprecated.Use from fastembed import TextEmbedding instead.\u001b[0m\n"
     ]
    }
   ],
   "source": [
    "from qdrant_client import QdrantClient, models\n",
    "import math"
   ]
  },
  {
   "cell_type": "code",
   "execution_count": 5,
   "metadata": {},
   "outputs": [],
   "source": [
    "def rescore_vector(vector: dict) -> dict:\n",
    "    new_vector = {}\n",
    "\n",
    "    sorted_vector = sorted(vector.items(), key=lambda x: x[1], reverse=True)\n",
    "\n",
    "    for num, (idx, _value) in enumerate(sorted_vector):\n",
    "        new_vector[idx] = 1. # math.log(1./(num + 1) + 1.) # * value\n",
    "    return new_vector\n"
   ]
  },
  {
   "cell_type": "code",
   "execution_count": 6,
   "metadata": {},
   "outputs": [],
   "source": [
    "def conver_sparse_vector(sparse_vector: dict) -> models.SparseVector:\n",
    "    indices = []\n",
    "    values = []\n",
    "\n",
    "    for (idx, value) in sparse_vector.items():\n",
    "        indices.append(int(idx))\n",
    "        values.append(value)\n",
    "\n",
    "    return models.SparseVector(\n",
    "        indices=indices,\n",
    "        values=values\n",
    "    )"
   ]
  },
  {
   "cell_type": "code",
   "execution_count": 7,
   "metadata": {},
   "outputs": [
    {
     "name": "stderr",
     "output_type": "stream",
     "text": [
      "/home/generall/projects/vector_search/tmp/msmacro/venv/lib/python3.11/site-packages/qdrant_client/qdrant_remote.py:122: UserWarning: Api key is used with unsecure connection.\n",
      "  warnings.warn(\"Api key is used with unsecure connection.\")\n"
     ]
    }
   ],
   "source": [
    "client = QdrantClient(QDRANT_URL, api_key=QDRANT_API_KEY)"
   ]
  },
  {
   "cell_type": "code",
   "execution_count": 12,
   "metadata": {},
   "outputs": [],
   "source": [
    "query = \"What are the consequences of IRS “reclassification” on both employer and employee?\"\n",
    "sparse_vector = rescore_vector(next(model.encode([query])))\n",
    "sparse_vector_qdrant = conver_sparse_vector(sparse_vector)\n",
    "\n",
    "limit = 10\n",
    "result = client.search(\n",
    "    collection_name=COLLECTION_NAME,\n",
    "    query_vector=models.NamedSparseVector(\n",
    "        name=\"attention\",\n",
    "        vector=sparse_vector_qdrant\n",
    "    ),\n",
    "    with_payload=True,\n",
    "    with_vectors=True,\n",
    "    limit=limit\n",
    ")"
   ]
  },
  {
   "cell_type": "code",
   "execution_count": 13,
   "metadata": {},
   "outputs": [
    {
     "name": "stdout",
     "output_type": "stream",
     "text": [
      "0 id=1846 version=86 score=2.7154229 payload={'id': '19306', 'text': '\"Even if your employer decides not to include the HSA contributions in Box 12, the IRS will still be informed how much went into your HSA when the form 5498-SA gets filed. So you don\\'t need to worry about the IRS; they\\'ll get the information they want.  As for you, if you already know how much the \"\"employer contributions\"\" (both what the employer contributed and what you contributed through payroll deduction) were, and you know how much you contributed directly, then once you get your form 1099-SA you\\'ll have all the information you need to complete your tax return.\"'} vector={'attention': SparseVector(indices=[1000, 1005, 1006, 1007, 1010, 1011, 1012, 1025, 1056, 1996, 1998, 1999, 2000, 2004, 2005, 2017, 2020, 2022, 2025, 2027, 2031, 2035, 2043, 2046, 2050, 2054, 2055, 2059, 2061, 2065, 2083, 2097, 2113, 2115, 2119, 2123, 2129, 2130, 2131, 2139, 2145, 2172, 2215, 2222, 2253, 2260, 2320, 2342, 2421, 2433, 2525, 2592, 2620, 2683, 2709, 3143, 3482, 3495, 4152, 4171, 4737, 5139, 5201, 5857, 6406, 6727, 7288, 7842, 11194, 11518, 16256, 25760, 26236, 26854], values=[0.16380009, 0.028350295, 0.027061267, 0.019407088, 0.0044844775, 0.02068615, 0.0004001253, 0.05575626, 0.013231033, 0.004274811, 0.0055055628, 0.005499224, 0.0033547967, 0.014028201, 0.008283967, 0.033312105, 0.09402671, 0.009841315, 0.011506153, 0.024958106, 0.011933279, 0.069886036, 0.023660164, 0.025039759, 0.12595949, 0.033655863, 0.029218003, 0.026861168, 0.024674688, 0.013468093, 0.042327255, 0.016200017, 0.07235419, 0.045336235, 0.04707122, 0.028729439, 0.041988138, 0.026644101, 0.025866482, 0.03874997, 0.031568553, 0.060750484, 0.036425892, 0.049721833, 0.05226431, 0.17637834, 0.046124022, 0.060695536, 0.09598718, 0.102640554, 0.062031474, 0.18721893, 0.09455377, 0.12816247, 0.18693791, 0.32463902, 0.24799159, 0.07784655, 0.04801015, 0.391301, 0.12456166, 0.2135245, 0.59541494, 0.4193855, 0.082144186, 0.10129214, 0.076676354, 0.7130234, 1.0956405, 0.80084324, 0.09126441, 1.5292747, 1.1599743, 0.36595312])} shard_key=None\n",
      "1 id=45234 version=2120 score=2.4456768 payload={'id': '470898', 'text': \"To clarify that legality of this (for those that question it), this is directly from IRS Publication 926 (2014) (for household employees): If you prefer to pay your employee's social security and Medicare taxes from your own funds, do not withhold them from your employee's wages. The social security and Medicare taxes you pay to cover your employee's share must be included in the employee's wages for income tax purposes. However, they are not counted as social security and Medicare wages or as federal unemployment (FUTA) wages. I am sorry this does not answer your question entirely, but it does verify that you can do this. UPDATE:  I have finally found a direct answer to your question!  I found it here: http://www.irs.gov/instructions/i1040sh/ar01.html Form W-2 and Form W-3 If you file one or more Forms W-2, you must also file Form W-3. You must report both cash and noncash wages in box 1, as well as tips and other compensation. The completed Forms W-2 and W-3 in the example (in these instructions) show how the entries are made. For detailed information on preparing these forms, see the General Instructions for Forms W-2 and W-3. Employee's portion of taxes paid by employer.    If you paid all of your employee's share of social security and Medicare taxes, without deducting the amounts from the employee's pay, the employee's wages are increased by the amount of that tax for income tax withholding purposes. Follow steps 1 through 3 below. (See the example in these instructions.) Enter the amounts you paid on your employee's behalf in boxes 4 and 6 (do not include your share of these taxes). Add the amounts in boxes 3, 4, and 6. (However, if box 5 is greater than box 3, then add the amounts in boxes 4, 5, and 6.) Enter the total in box 1.\"} vector={'attention': SparseVector(indices=[999, 1005, 1006, 1007, 1010, 1011, 1012, 1013, 1015, 1016, 1017, 1018, 1019, 1020, 1024, 1037, 1045, 1055, 1059, 1996, 1997, 1998, 1999, 2000, 2003, 2004, 2005, 2006, 2007, 2008, 2009, 2011, 2013, 2017, 2021, 2022, 2023, 2024, 2025, 2027, 2028, 2030, 2031, 2035, 2036, 2059, 2060, 2062, 2064, 2065, 2068, 2079, 2081, 2083, 2084, 2092, 2115, 2119, 2122, 2129, 2139, 2156, 2174, 2179, 2182, 2216, 2219, 2232, 2236, 2265, 2297, 2302, 2421, 2433, 2442, 2443, 2512, 2515, 2561, 2572, 2575, 2591, 2592, 2633, 2696, 2742, 2917, 2949, 2976, 3012, 3036, 3104, 3160, 3189, 3318, 3374, 3423, 3437, 3445, 3477, 3482, 3495, 3582, 3596, 3618, 3622, 3745, 3815, 3825, 4084, 4095, 4171, 4398, 4498, 4607, 4664, 4772, 5029, 5126, 5356, 5371, 5587, 5682, 6227, 6851, 6852, 7479, 7773, 7904, 8128, 8225, 8299, 8310, 8378, 8566, 8897, 9430, 9544, 10247, 10445, 10651, 10790, 11194, 11865, 11873, 12098, 12163, 12640, 12678, 12740, 15671, 16129, 18079, 20410, 23410, 24096, 25037, 25760, 27615], values=[0.022093182, 0.009726778, 0.03449155, 0.031406336, 0.014669017, 0.017273737, 0.0005145022, 0.057950668, 0.037449077, 0.040498994, 0.07026234, 0.05548429, 0.04096266, 0.06855226, 0.015398137, 0.0018765127, 0.040046833, 0.016411837, 0.3620257, 0.0034791776, 0.0034224514, 0.0053504556, 0.0055916524, 0.0017125093, 0.0027958108, 0.012973407, 0.006227182, 0.006186162, 0.008824627, 0.007954268, 0.0052156043, 0.009626742, 0.014770595, 0.005586381, 0.008222109, 0.0067385733, 0.020177498, 0.005722315, 0.008183445, 0.017172473, 0.009679255, 0.009601216, 0.004846527, 0.015860038, 0.010373227, 0.013977273, 0.011261716, 0.0076022237, 0.008488013, 0.0070354166, 0.016089076, 0.012465582, 0.01980343, 0.018729867, 0.013233255, 0.015865615, 0.03335727, 0.023840833, 0.024079653, 0.013649812, 0.031470805, 0.016840864, 0.021324035, 0.030247552, 0.014678606, 0.0144212665, 0.037375167, 0.03282663, 0.025635567, 0.024891896, 0.037652843, 0.02678874, 0.02815047, 0.08489822, 0.051142797, 0.06885081, 0.05189697, 0.024481606, 0.048664384, 0.0223298, 0.033897314, 0.12506045, 0.024804685, 0.028779283, 0.14091244, 0.019725695, 0.026443742, 0.046142396, 0.07332069, 0.030953132, 0.09970799, 0.12986518, 0.030982543, 0.09758187, 0.02205936, 0.029839566, 0.059817098, 0.021067481, 0.07009958, 0.01961668, 0.37667742, 0.027697317, 0.029962352, 0.2877455, 0.05487827, 0.031669904, 0.14339542, 0.015221405, 0.050995067, 0.046490837, 0.03828608, 0.050501477, 1.2048305, 0.028642742, 0.04828861, 0.03954431, 0.07285198, 0.13768958, 0.28976637, 0.21530959, 0.047251847, 0.062200066, 0.038629867, 0.0825571, 0.04527779, 0.11120579, 0.017811496, 0.32134968, 0.7347549, 0.058249213, 0.12196997, 0.018020958, 0.62862337, 0.32283023, 0.04692861, 0.13043675, 0.06466782, 0.0497463, 0.3489636, 0.071478285, 0.032291416, 0.08580371, 0.13364571, 0.19361226, 0.038431574, 0.2699019, 0.13445377, 0.13606173, 0.44359607, 0.053804647, 0.24739723, 0.030974735, 0.030193135, 0.042592715, 0.07985243, 0.12777631, 0.06040574, 1.5292747, 1.5823215])} shard_key=None\n",
      "2 id=3428 version=161 score=2.4190202 payload={'id': '35769', 'text': \"&gt;He changed it at the Hayden Planetarium before the vote.  They built the planetarium with one less planet instead of adding 4 more.  &gt;It's not. It is more massive, not larger.  It's similar in both size and orbit.  And so is Quaoar, and so is Sedna, and so is Eris, and on and on.  There have, since 2000, been more than a dozen dwarf planets discovered that are all almost the exact same size as Pluto with the same lack of gravitational pull to make them classified as planets.  &gt;The definition of planet is arbitrary and it would be easy to make a definition to include or exclude. The decision to lead the charge for declassify is a publicity move that worked very well for him.  And again, you would be here saying the same fucking thing if the IAU had gone the other way and now we were teaching kids about the 22 planets of the solar system.  And then 23.  And 24.  And on and on as we find more and more.  I'm sorry you disagree with the classification, but it has zero to do with publicity of Neil Degrasse Tyson and everything to do with astrophysicists needing a way to classify these celestial bodies that they are constantly discovering.  Sounds like you got a personal beef with /u/neiltyson more than a problem with the IAU classification though, for some unknown reason.\"} vector={'attention': SparseVector(indices=[1004, 1005, 1010, 1012, 1013, 1018, 1025, 1037, 1045, 1049, 1055, 1057, 1996, 1997, 1998, 1999, 2000, 2002, 2003, 2004, 2005, 2006, 2007, 2008, 2009, 2012, 2017, 2018, 2020, 2021, 2022, 2024, 2025, 2027, 2028, 2030, 2031, 2032, 2035, 2038, 2042, 2045, 2052, 2055, 2057, 2059, 2060, 2061, 2062, 2063, 2065, 2066, 2068, 2070, 2077, 2079, 2084, 2085, 2092, 2119, 2122, 2126, 2139, 2144, 2153, 2168, 2182, 2191, 2200, 2226, 2288, 2291, 2295, 2328, 2421, 2424, 2456, 2471, 2483, 2484, 2499, 2518, 2570, 2599, 2603, 2612, 2625, 2673, 2693, 2714, 2904, 2906, 2908, 2946, 3038, 3114, 3167, 3247, 3291, 3374, 3385, 3469, 3603, 3715, 3723, 3733, 3768, 3789, 4139, 4165, 4230, 4242, 4252, 4268, 4774, 5130, 5294, 5579, 5717, 5815, 5943, 6210, 6219, 6474, 6606, 6635, 7113, 7367, 7887, 8239, 8753, 8757, 9413, 11229, 11303, 11358, 11703, 11845, 12486, 13648, 13872, 14181, 15275, 17285, 17617, 19356, 19570, 19673, 19790, 21090, 21281, 23329, 24209, 24264, 26268, 26930, 27102, 28625, 28911], values=[0.030347982, 0.003997877, 0.0044844775, 0.000580933, 0.01691494, 0.09187266, 0.016490025, 0.0044287853, 0.005554577, 0.01307987, 0.009512339, 0.043383706, 0.0055424487, 0.002666091, 0.018102132, 0.0026939053, 0.0029505624, 0.0422439, 0.0057781427, 0.0108519085, 0.006892707, 0.021224828, 0.011876854, 0.00452288, 0.008692889, 0.0077244476, 0.0033973996, 0.018624565, 0.014777943, 0.006082503, 0.0043984693, 0.0070302985, 0.007464886, 0.0068063824, 0.012048043, 0.00760613, 0.0080228355, 0.12286064, 0.012024057, 0.009935387, 0.022563098, 0.01121773, 0.008348309, 0.023236087, 0.034173578, 0.025529146, 0.01303744, 0.011238864, 0.026149271, 0.0202329, 0.0048263227, 0.010735608, 0.021694439, 0.013679927, 0.017287176, 0.0093605695, 0.0128803635, 0.0138321, 0.01829612, 0.017372923, 0.015712101, 0.014031251, 0.023441112, 0.022370256, 0.019654693, 0.028220385, 0.014212615, 0.017271128, 0.021906016, 0.16586137, 0.02178971, 0.05184098, 0.023780001, 0.05402094, 0.03029121, 0.050048813, 0.098114975, 0.029488321, 0.08874288, 0.278236, 0.03861343, 0.018736798, 0.15518562, 0.048858114, 0.44458595, 0.020217884, 0.03302374, 0.021756077, 0.031879906, 0.026493857, 0.0684824, 0.07540585, 0.042394467, 0.07916346, 0.035930336, 0.019714711, 0.032565635, 0.042773005, 0.030780861, 0.02872406, 0.13280648, 0.04531556, 0.099969015, 0.12826183, 0.073108636, 0.022831375, 0.10555197, 0.11749751, 0.10764832, 0.027747296, 0.19466554, 0.049340874, 0.15703818, 0.07442309, 0.9308128, 0.043071397, 0.08216897, 0.3996877, 0.029700918, 0.05653859, 0.21846494, 0.082978, 0.16210558, 0.06899645, 0.41160485, 0.039976053, 0.09765576, 0.06885081, 0.04150119, 0.042751383, 1.5240742, 0.19848381, 0.10866397, 0.6654429, 0.038476564, 1.3414115, 0.27520835, 0.31343633, 0.14274302, 0.09568483, 0.46732444, 0.018880462, 0.09350706, 4.0731664, 0.669865, 0.49788767, 0.09551675, 0.26834363, 0.44654748, 0.0351775, 0.06630079, 0.048494138, 0.15651123, 1.5709264, 0.13287637, 0.9936443, 2.3470814, 0.24779713, 0.84497])} shard_key=None\n",
      "3 id=46947 version=2201 score=2.3503618 payload={'id': '487728', 'text': \"I strongly recommend that you talk to an accountant right away because you could save some money by making a tax payment by January 15, 2014. You will receive Forms 1099-MISC from the various entities with whom you are doing business as a contractor detailing how much money they paid you. A copy will go to the IRS also. You file a Schedule C with your Form 1040 in which you detail how much you received on the 1099-MISC forms as well as any other income that your contracting business received (e.g. amounts less than $600 for which a 1099-MISc does not need to be issued, or tips, say, if you are a taxi-driver running your own cab), and you can deduct various expenses that you incurred in generating this income, including tools, books, (or gasoline!) etc that you bought for doing the job. You will need to file a Schedule SE that will compute how much you owe in Social Security and Medicare taxes on the net income on Schedule C. You will pay at twice the rate that employees pay because you get to pay not only the employee's share but also the employer's share. At least, you will not have to pay income tax on the employer's share. Your net income on Schedule C will transfer onto Form 1040 where you will compute how much income tax you owe, and then add on the Social Security tax etc to compute a final amount of tax to be paid. You will have to pay a penalty for not making tax payments every quarter during 2013, plus  interest on the tax paid late.  Send the IRS a check for the total. If you talk to an accountant right away, he/she will likely be able to come up with a rough estimate of what you might owe, and sending in that amount by January 15 will save some money. The accountant can also help you set up for the 2014 tax year during which you could make quarterly payments of estimated tax for 2014 and avoid the penalties and interest referred to above.\"} vector={'attention': SparseVector(indices=[999, 1002, 1005, 1006, 1007, 1010, 1011, 1012, 1013, 1037, 1039, 1041, 1043, 1045, 1055, 1996, 1997, 1998, 1999, 2000, 2002, 2004, 2005, 2006, 2007, 2008, 2011, 2012, 2013, 2016, 2017, 2019, 2021, 2022, 2023, 2024, 2025, 2027, 2029, 2030, 2031, 2036, 2039, 2054, 2059, 2060, 2064, 2065, 2069, 2070, 2071, 2073, 2076, 2084, 2092, 2095, 2097, 2115, 2129, 2131, 2138, 2139, 2151, 2157, 2164, 2172, 2175, 2185, 2191, 2219, 2254, 2272, 2275, 2278, 2286, 2296, 2297, 2321, 2342, 2345, 2360, 2363, 2393, 2397, 2433, 2437, 2449, 2453, 2515, 2536, 2560, 2561, 2583, 2591, 2625, 2682, 2683, 2692, 2725, 2769, 2770, 2808, 2831, 3031, 3036, 3037, 3105, 3183, 3318, 3446, 3477, 3497, 3596, 3615, 3745, 3807, 3815, 3825, 3828, 3843, 4062, 4149, 4171, 4284, 4358, 4374, 4385, 4468, 4604, 4606, 4638, 4651, 5126, 5174, 5371, 5587, 5658, 5906, 5931, 6016, 6100, 6118, 6134, 6531, 6593, 6987, 7367, 7773, 7904, 7909, 8310, 8566, 9298, 9645, 10095, 10197, 10247, 10504, 11194, 11422, 11518, 11717, 11727, 12174, 12408, 12533, 13666, 13753, 16755, 17555, 17907, 21012, 22667, 24134, 25760, 27615, 28616], values=[0.021365827, 0.018762942, 0.008689124, 0.007421325, 0.016142134, 0.0048832237, 0.0090568075, 0.0002687166, 0.011789123, 0.0037320582, 0.2122023, 0.01729188, 0.024703318, 0.0085994, 0.0098903235, 0.002374448, 0.002726343, 0.007449136, 0.002549403, 0.0020930837, 0.014001217, 0.010209768, 0.0056788614, 0.0077068117, 0.005786076, 0.006123972, 0.016494375, 0.008162275, 0.007860885, 0.021763721, 0.012806523, 0.012606477, 0.00768168, 0.0040591196, 0.006401389, 0.0039559263, 0.012647308, 0.0070632296, 0.019275323, 0.007000057, 0.0063678757, 0.019230057, 0.0102261435, 0.009853112, 0.0102623515, 0.009379148, 0.007808963, 0.0048594936, 0.010297335, 0.014198605, 0.01799453, 0.01696855, 0.032238185, 0.009259017, 0.014005139, 0.022122255, 0.015966916, 0.008883118, 0.012330486, 0.008022147, 0.016141316, 0.030461028, 0.010431681, 0.014949455, 0.021328194, 0.023122484, 0.018882537, 0.01983478, 0.011790191, 0.01861515, 0.15343301, 0.016672088, 0.028861925, 0.06472621, 0.12645046, 0.021662764, 0.261597, 0.07909311, 0.011117439, 0.03958592, 0.014824717, 0.051976696, 0.025683, 0.060309105, 0.037991583, 0.024201153, 0.051149596, 0.016808424, 0.01652284, 0.024259984, 0.040458966, 0.028688269, 0.015031195, 0.078642, 0.019005287, 0.06705953, 0.06724779, 0.033960015, 0.019176107, 0.016060023, 0.027608417, 0.08668082, 0.026523927, 0.03473344, 0.06116302, 0.28085524, 0.04233314, 0.03260143, 0.050050214, 0.06589376, 0.06971151, 0.016461488, 0.054244556, 0.10784613, 0.33987892, 0.14148463, 0.02569131, 0.020597467, 0.044024486, 0.034922358, 0.055627227, 0.057343356, 0.1301134, 0.66189295, 0.24874268, 0.029496398, 0.040523093, 0.06607814, 0.024500905, 0.026473159, 0.017605161, 0.031540703, 0.06895726, 0.075707205, 0.033919193, 0.023922589, 0.13239697, 0.20164916, 0.03582404, 0.17347296, 0.33776104, 0.030148996, 0.70879483, 0.08771206, 0.020396609, 0.05548952, 0.05944236, 0.038700204, 0.092647634, 0.04163863, 0.039785486, 0.061427444, 0.36779988, 0.14772715, 0.18893565, 0.04729203, 0.118841246, 0.081571825, 0.69437385, 0.057447504, 1.4945651, 0.09306563, 0.05073433, 1.1828241, 0.36517963, 0.13836204, 0.5395643, 0.22594069, 0.024727095, 0.060414948, 0.23949578, 0.47099972, 0.03905759, 0.08435649, 1.5292747, 0.44025442, 0.37831673])} shard_key=None\n",
      "4 id=8467 version=398 score=2.2636795 payload={'id': '87529', 'text': \"Maximum FSA contribution amounts are set by the IRS.  For tax year 2015 you are allowed to place no more than $2,550 (and same maximum for 2016) in an FSA account, tax-free.   Your employer's plan year is not relevant to the IRS for this purpose. It's important to note that one interesting benefit to FSA accounts is the full amount of your annual contribution is available to you on the first day of the plan year; it is not a money-in money-out plan.\"} vector={'attention': SparseVector(indices=[1002, 1005, 1006, 1007, 1010, 1011, 1012, 1016, 1025, 1037, 1042, 1055, 1996, 1997, 1998, 1999, 2000, 2003, 2005, 2006, 2008, 2009, 2011, 2017, 2019, 2023, 2024, 2025, 2028, 2034, 2041, 2053, 2062, 2084, 2095, 2115, 2154, 2168, 2173, 2275, 2325, 2355, 2440, 2489, 2590, 2769, 2800, 2933, 3039, 3296, 3602, 3736, 3800, 3815, 4070, 4171, 4555, 5770, 5875, 6115, 6691, 7882, 8310, 11194, 13274, 25760], values=[0.03460024, 0.01589695, 0.016751397, 0.021324024, 0.0048832237, 0.062083695, 0.0004866773, 0.037151814, 0.05758466, 0.005110237, 0.52345717, 0.016058866, 0.007128137, 0.004974996, 0.0037610857, 0.005994675, 0.0074230256, 0.015559478, 0.0108791655, 0.011215734, 0.0094799185, 0.014184043, 0.019768184, 0.011724131, 0.022030005, 0.03253385, 0.012950888, 0.0665763, 0.025269415, 0.084327325, 0.14742397, 0.021917565, 0.018446011, 0.023184996, 0.1691027, 0.03335727, 0.17935102, 0.03156514, 0.069621064, 0.054964148, 0.2034734, 0.10748708, 0.08238966, 0.077917926, 0.05628672, 0.20671542, 0.09981213, 0.7087097, 0.06551499, 0.27291596, 0.06474314, 1.5199654, 0.11613032, 0.045380875, 0.03850673, 0.055748943, 0.21446642, 0.078619294, 0.12963353, 0.1830529, 0.5356391, 0.17241369, 0.13824984, 0.69437385, 0.14001954, 1.5292747])} shard_key=None\n",
      "5 id=5174 version=242 score=2.1843107 payload={'id': '53966', 'text': '\"To put a different spin on it, suppose you loaned someone $100K, expecting that they would pay it back, and then a little later they decided not too. They are perfectly capable of paying back the money, but just decided they didn\\'t want to, and it seems the laws of your state said you couldn\\'t make them. How would you feel about that? Since this is supposed to be an answer to the question, the answer is: \"\"only if you can\\'t afford to repay it\"\". That\\'s what foreclosure is supposed to be about, not you deciding you would rather not pay your debts. Let\\'s not forget who pays that bill for you - every one of your bank\\'s other customers. EDIT:For the people decrying the moral aspect and saying \"\"it\\'s perfectly alright because the law says that\\'s the punishment and I\\'m willing to pay it\"\", the law also says \"\"if you kill someone, you go to prison for life\"\". Does that mean that someone who decides they are going to kill someone has a perfect right to do it as long as they are prepared to take the consequences?\"'} vector={'attention': SparseVector(indices=[1000, 1002, 1005, 1010, 1011, 1012, 1024, 1029, 1037, 1045, 1049, 1055, 1056, 1996, 1997, 1998, 2000, 2003, 2004, 2005, 2006, 2008, 2009, 2017, 2019, 2021, 2022, 2023, 2024, 2025, 2027, 2028, 2036, 2038, 2040, 2052, 2054, 2055, 2056, 2059, 2060, 2064, 2065, 2067, 2068, 2069, 2074, 2075, 2079, 2101, 2110, 2111, 2115, 2129, 2134, 2138, 2144, 2146, 2157, 2166, 2175, 2183, 2191, 2202, 2205, 2210, 2215, 2243, 2292, 2296, 2367, 2375, 2404, 2481, 2514, 2515, 2531, 2619, 2738, 2758, 2769, 2787, 2812, 2854, 2891, 2924, 3021, 3038, 3102, 3160, 3437, 3477, 3819, 3827, 3849, 4011, 4277, 4810, 5214, 5293, 5397, 5627, 6304, 6669, 6714, 6814, 7079, 7191, 7288, 7750, 7814, 8074, 8465, 8984, 10086, 10303, 10561, 11703, 12778, 13190, 13930, 18921, 20464, 24565], values=[0.11131486, 0.043350417, 0.022479454, 0.009558586, 0.011555308, 0.00019783956, 0.013883535, 0.058948275, 0.00603956, 0.006142373, 0.01772299, 0.009512339, 0.0107199345, 0.008808856, 0.004347483, 0.0037610857, 0.0069986144, 0.0032443446, 0.018553734, 0.0054723523, 0.0070744464, 0.012141435, 0.017202755, 0.009352734, 0.022484263, 0.011130688, 0.0057718456, 0.012550946, 0.012950888, 0.010853299, 0.036705624, 0.013158478, 0.013644485, 0.020471133, 0.02804674, 0.014847115, 0.011316037, 0.01725705, 0.028142463, 0.015216657, 0.012518015, 0.012286949, 0.008367595, 0.046820022, 0.031427003, 0.029616907, 0.015471885, 0.020290116, 0.020443829, 0.033488885, 0.09863995, 0.015041944, 0.014609635, 0.014235648, 0.027513651, 0.014434721, 0.02003438, 0.028630663, 0.13053608, 0.07396396, 0.017436197, 0.03721112, 0.046309434, 0.10148593, 0.02526789, 0.033983614, 0.01667455, 0.066561654, 0.023668412, 0.023047617, 0.042536534, 0.09645672, 0.027056554, 0.060387753, 0.051445596, 0.03056216, 0.14237118, 0.08996226, 0.030052977, 0.04343728, 0.06238315, 0.05713682, 0.033759717, 0.1726331, 0.075254515, 0.0975255, 0.07321237, 0.033827063, 1.2100302, 0.03900705, 0.055840556, 0.039471142, 0.615606, 0.20395343, 0.030318106, 0.039635435, 0.07538061, 0.3319446, 0.070014216, 0.041457478, 0.1707627, 0.04051433, 0.041386995, 0.08713282, 0.9308128, 0.060517248, 0.07757279, 0.41453367, 0.14105168, 0.18734692, 0.055052795, 0.08605524, 2.0771036, 0.10644263, 0.03128183, 0.19399545, 0.059651613, 0.087243974, 0.03306183, 0.6242013, 0.28342167, 1.3349276, 0.5309155, 0.8389556])} shard_key=None\n",
      "6 id=44672 version=2096 score=2.1224618 payload={'id': '464871', 'text': \"Is that even legal to pull out of a deal like that? I'd assume they'd have made an agreement (between the underwriter and the buyer) during the roadshow.   This event I would think has large negative impacts on the firm. It delays their IPO, (provided that they try again) and it makes investors wary of reinvesting in their second IPO (oxymoron.. haha).  Furthermore, if the biotech firm decides to openly publish the details of this deal (which i assume they'd have to if they want to have a chance at having a successful IPO) someone is going to be labeled as having dealt in bad faith.  I understand that underwriters mostly operate on a best-efforts basis, but I don't think they can come out of this deal without facing some consequences.\"} vector={'attention': SparseVector(indices=[1005, 1006, 1007, 1010, 1011, 1012, 1029, 1037, 1040, 1045, 1056, 1996, 1997, 1998, 1999, 2000, 2003, 2004, 2006, 2008, 2009, 2012, 2015, 2019, 2021, 2022, 2023, 2027, 2029, 2031, 2037, 2038, 2041, 2052, 2064, 2065, 2066, 2070, 2076, 2078, 2080, 2081, 2090, 2104, 2117, 2123, 2130, 2153, 2183, 2190, 2215, 2228, 2272, 2302, 2312, 2383, 2619, 2724, 2919, 3024, 3046, 3066, 3084, 3144, 3262, 3270, 3305, 3382, 3423, 3436, 3813, 3820, 3978, 4073, 4139, 4751, 4752, 4925, 4997, 5292, 5307, 5452, 6961, 7288, 7297, 7868, 8465, 9387, 9411, 10132, 10172, 12599, 12997, 14350, 14406, 14604, 14670, 15007, 15705, 15994, 16012, 17634, 23060, 24335, 27788], values=[0.017616335, 0.0319825, 0.04017371, 0.0044844775, 0.028400907, 0.0006210281, 0.02575067, 0.0070678582, 0.044312973, 0.03518949, 0.00848914, 0.004826761, 0.003683717, 0.0033031898, 0.0047191638, 0.0069986144, 0.0038156896, 0.009639378, 0.0077938964, 0.012141435, 0.012832942, 0.013904158, 0.018770529, 0.024505483, 0.021250362, 0.0067385733, 0.024524048, 0.02255226, 0.026853971, 0.009404289, 0.041599717, 0.01871283, 0.032167707, 0.012981473, 0.013834972, 0.011883533, 0.017164242, 0.14276908, 0.052114964, 0.040073853, 0.16862795, 0.026500335, 0.028063197, 0.2959009, 0.07743778, 0.017665554, 0.026644101, 0.057522956, 0.021877546, 0.06757452, 0.017780935, 0.02461666, 0.032524478, 0.046229158, 0.031145204, 0.050640598, 0.037114345, 0.5836613, 0.06387031, 0.044376437, 0.06514503, 0.16990905, 0.029245269, 0.046882432, 0.05576513, 0.07692833, 0.04062721, 0.038205028, 0.118661515, 0.0432146, 0.33937523, 0.09323642, 0.046361316, 0.21538657, 0.12829557, 0.100288, 0.17116266, 0.67916334, 0.059065286, 0.06774734, 0.44178504, 0.13615343, 0.07597517, 0.06175522, 0.05431827, 0.043670252, 2.0771036, 0.0854239, 0.08390174, 0.16709536, 0.2624751, 0.13034523, 0.75345135, 0.11180699, 1.2506003, 0.15825349, 0.07207147, 0.5719865, 0.06556762, 1.4902347, 1.9252424, 0.20547728, 0.15308732, 0.09832468, 0.060294643])} shard_key=None\n",
      "7 id=51096 version=2396 score=2.092183 payload={'id': '531499', 'text': '\"That $200 extra that your employer withheld may already have been sent on to the IRS. Depending on the size of the employer, withholdings from payroll taxes (plus employer\\'s share of Social Security and Medicare taxes) might be deposited in the US Treasury within days of being withheld. So, asking the employer to reimburse you, \"\"out of petty cash\"\" so to speak, might not work at all.  As JoeTaxpayer says, you could ask that $200 less be withheld as income tax from your pay for the next pay period (is your Federal income tax withholding at least $200 per pay period?), and one way of \"\"forcing\"\" the employer to withhold less is to file a  new W-4 form with Human Resources/Payroll, increasing the number of  exemptions to more than you are entitled to, and then filing a new W-4 changing your exemptions back to what they are right now once when you have had $200 less withheld. But be careful. Claims for more exemptions than you are entitled to can be problematic, and the IRS might come looking if you suddenly \"\"discover\"\" several extra children for whom you are entitled to claim exemptions.\"'} vector={'attention': SparseVector(indices=[1000, 1002, 1005, 1006, 1007, 1010, 1011, 1012, 1013, 1018, 1029, 1037, 1055, 1059, 1996, 1997, 1998, 1999, 2000, 2003, 2004, 2005, 2006, 2007, 2008, 2012, 2013, 2015, 2017, 2018, 2021, 2022, 2024, 2025, 2027, 2028, 2031, 2035, 2041, 2042, 2043, 2047, 2054, 2059, 2061, 2062, 2064, 2065, 2067, 2071, 2084, 2085, 2089, 2108, 2115, 2126, 2147, 2149, 2157, 2193, 2195, 2272, 2279, 2306, 2320, 2336, 2420, 2433, 2453, 2525, 2529, 2558, 2559, 2560, 2566, 2591, 2595, 2625, 2696, 2741, 2758, 2946, 2976, 3036, 3183, 3198, 3263, 3318, 3402, 3477, 3533, 3713, 3745, 4171, 4219, 4366, 4447, 4469, 4502, 4606, 4709, 4851, 4852, 5278, 5356, 5371, 5834, 6176, 6932, 7523, 7773, 9837, 10532, 11194, 11612, 12640, 14140, 14905, 15242, 18636, 19621, 23410, 24850, 24964, 25760, 26854, 27615, 28393], values=[0.09594793, 0.043350417, 0.0047566225, 0.011495873, 0.012249554, 0.0059395246, 0.018016748, 0.0002466274, 0.016307203, 0.22426887, 0.017800506, 0.0026571702, 0.008437474, 0.5855252, 0.0034791776, 0.005303044, 0.0028138089, 0.003377648, 0.0031805013, 0.0033893462, 0.014028201, 0.0064959903, 0.0072990363, 0.019032147, 0.012583038, 0.010897787, 0.011095549, 0.015882654, 0.02030545, 0.020251183, 0.008566496, 0.008290522, 0.006722957, 0.009055073, 0.00831893, 0.013794162, 0.008820156, 0.011913235, 0.04743619, 0.025954155, 0.01471384, 0.028700372, 0.010934056, 0.014367343, 0.014216123, 0.013915292, 0.00802291, 0.006017513, 0.017895937, 0.02149068, 0.012995884, 0.015554401, 0.036667544, 0.019430345, 0.017502805, 0.018247267, 0.05023761, 0.096626684, 0.019085707, 0.026353562, 0.049053214, 0.023340981, 0.03871101, 0.036726486, 0.02468844, 0.4862853, 0.056867786, 0.058774136, 0.03211026, 0.04403677, 0.1428598, 0.09700976, 0.02511576, 0.036851056, 0.026827471, 0.08571152, 0.05357595, 0.06748689, 0.11593766, 0.08521559, 0.04199734, 0.035440557, 0.102651946, 0.06677461, 0.046313763, 0.048832595, 1.1980728, 0.07630996, 0.04093327, 0.15611552, 0.31345758, 0.096541695, 0.031472113, 0.15905154, 0.085741036, 0.048719242, 0.11830968, 0.12318537, 0.046177063, 0.03869172, 0.08085236, 0.06271047, 0.03881864, 0.038078588, 0.21530959, 0.07364594, 0.029374516, 0.04912362, 0.1195037, 0.21761918, 0.05625599, 1.0891365, 0.119119205, 0.5085559, 1.3943532, 0.16855845, 0.16626537, 0.22457328, 0.045507297, 0.05445736, 0.63731635, 0.21350853, 0.32473364, 0.08722352, 1.5292747, 0.20803514, 0.3549776, 0.27501836])} shard_key=None\n",
      "8 id=46942 version=2201 score=2.0744805 payload={'id': '487638', 'text': '\"Would I only have to pay regular taxes plus the excess contribution   tax on any contributions? Yes, you\\'ll pay regular taxes plus the excess contribution taxes on the contributions until you withdraw. So what would be your gain in doing this? The whole point in HSA is to use pre-tax money for medical expenses, and you\\'re not only going to use post-tax money - you\\'ll pay extra tax for doing that (6% for each year the contribution remains in the account). Are you trying to get the \"\"employer match\"\" in this way? Maybe just ask for a raise instead? Would this cause problems for my employer in any way? Not sure, but it might. Is it possible to simply receive funds in my HSA even though I am not   eligible, and then transfer them to his HSA to avoid any penalties? No, HSA is a personal account. You can pay for dependents, but you can\\'t move money between the accounts. You can roll over to your own account. See the IRS publication 969 for more details.\"'} vector={'attention': SparseVector(indices=[1000, 1003, 1005, 1006, 1007, 1010, 1011, 1012, 1020, 1029, 1037, 1045, 1056, 1996, 1998, 1999, 2000, 2003, 2005, 2006, 2008, 2009, 2010, 2015, 2017, 2021, 2022, 2023, 2024, 2025, 2026, 2031, 2050, 2052, 2053, 2054, 2058, 2059, 2061, 2062, 2064, 2068, 2069, 2074, 2090, 2095, 2115, 2126, 2127, 2128, 2130, 2131, 2151, 2156, 2169, 2183, 2219, 2222, 2224, 2295, 2391, 2453, 2469, 2572, 2612, 2667, 2672, 2674, 2683, 2693, 2695, 2725, 2748, 2769, 2825, 2878, 2966, 3167, 3180, 3198, 3426, 3432, 3464, 3471, 3477, 3653, 4070, 4171, 4374, 4468, 4469, 4606, 4651, 4751, 4772, 4897, 5029, 5114, 5333, 5857, 5986, 6115, 6691, 7773, 7790, 7792, 9987, 10632, 11194, 11727, 12408, 25760, 26236], values=[0.13254724, 0.022532739, 0.008689124, 0.010532123, 0.013389091, 0.0044844775, 0.02746956, 0.00038309346, 0.096847735, 0.058948275, 0.0027911514, 0.011494412, 0.008113923, 0.004826761, 0.0029910638, 0.007004374, 0.0037677563, 0.0041271835, 0.012718123, 0.011995997, 0.0045827874, 0.010233552, 0.13356328, 0.011079026, 0.016322844, 0.0119431745, 0.0063624615, 0.023791876, 0.006245175, 0.020964181, 0.029866252, 0.0075937985, 0.19469932, 0.017584965, 0.019052435, 0.011620508, 0.01815418, 0.016005099, 0.010270908, 0.02735164, 0.020671602, 0.022568066, 0.017707165, 0.015299011, 0.032605313, 0.031299178, 0.01329142, 0.02355568, 0.038067807, 0.015253666, 0.018074965, 0.022141537, 0.020159569, 0.043579217, 0.02411361, 0.019011453, 0.023986764, 0.026069697, 0.030679898, 0.030277384, 0.02329001, 0.03211026, 0.027991049, 0.03553135, 0.03477501, 0.045026407, 0.03312739, 0.66061294, 0.115126364, 0.054689087, 0.08197502, 0.02635544, 0.03708646, 0.03483302, 0.035368778, 0.02939819, 0.60316515, 0.07920618, 0.14023903, 0.053006515, 0.039743487, 0.056714084, 0.04740418, 0.060463063, 0.039471142, 0.10746907, 0.08332179, 0.12267417, 0.075007044, 0.042892158, 0.032961957, 0.07621289, 0.0680021, 0.07691824, 0.118289374, 0.07937045, 0.22588664, 0.038824115, 0.3102173, 0.30358362, 0.33098397, 0.05986256, 0.3956996, 0.28745708, 0.90921456, 0.2572845, 1.1001129, 0.16475508, 0.4485781, 0.073036656, 0.25275645, 1.5292747, 1.495467])} shard_key=None\n",
      "9 id=42445 version=1991 score=2.0485876 payload={'id': '441956', 'text': 'Here is an IRS citation to support my comment above - Exceptions. The 10% tax will not apply if distributions before age 59   ½ are made in any of the following circumstances: Made to a beneficiary (or to the estate of the participant) on or   after the death of the participant, Made because the participant has a qualifying disability, Made as part of a series of substantially equal periodic payments   beginning after separation from service and made at least annually for   the life or life expectancy of the participant or the joint lives or   life expectancies of the participant and his or her designated   beneficiary. (The payments under this exception, except in the case of   death or disability, must continue for at least 5 years or until the   employee reaches age 59½, whichever is the longer period.), Made to a participant after separation from service if the separation   occurred during or after the calendar year in which the participant   reached age 55, Made to an alternate payee under a qualified domestic relations order   (QDRO), Made to a participant for medical care up to the amount allowable as a   medical expense deduction (determined without regard to whether the   participant itemizes deductions), Timely made to reduce excess contributions, Timely made to reduce excess employee or matching employer   contributions, Timely made to reduce excess elective deferrals, or Made because of an IRS levy on the plan. Made on account of certain disasters for which IRS relief has been   granted.'} vector={'attention': SparseVector(indices=[1003, 1006, 1007, 1010, 1011, 1012, 1019, 1024, 1037, 1053, 1092, 1996, 1997, 1998, 1999, 2000, 2003, 2004, 2005, 2006, 2010, 2012, 2013, 2014, 2015, 2019, 2023, 2024, 2025, 2026, 2029, 2030, 2038, 2039, 2042, 2044, 2065, 2076, 2077, 2081, 2086, 2095, 2097, 2104, 2112, 2121, 2127, 2138, 2139, 2151, 2166, 2182, 2184, 2186, 2206, 2287, 2302, 2319, 2326, 2331, 2344, 2442, 2490, 2553, 2558, 2560, 2584, 2682, 2729, 2854, 2927, 2933, 2936, 2966, 3056, 3085, 3251, 3268, 3272, 3477, 3499, 3512, 3613, 3776, 3815, 3841, 4070, 4101, 4158, 4171, 4262, 4335, 4340, 4351, 4379, 4402, 4583, 4591, 4968, 5020, 5354, 5547, 5857, 5987, 6042, 6214, 6453, 6561, 6585, 6604, 6611, 7615, 7634, 7904, 7941, 8094, 8745, 8875, 9243, 9844, 9987, 10057, 10504, 10961, 11091, 11194, 11322, 11656, 11790, 11980, 12381, 12767, 12879, 13180, 13366, 13714, 15861, 16256, 18665, 20611, 22196, 23259, 24108, 25760, 29221], values=[0.028122457, 0.0084968945, 0.010727828, 0.0029296256, 0.015659269, 0.00019358461, 0.036584787, 0.013164167, 0.0032886143, 0.13978636, 0.1612125, 0.011528749, 0.004974996, 0.0028561233, 0.0034122912, 0.0024736684, 0.002720586, 0.007807432, 0.006688471, 0.007377102, 0.020148102, 0.010233951, 0.010990377, 0.029184142, 0.009664664, 0.01930047, 0.012959125, 0.005021615, 0.0064029223, 0.019615995, 0.020535182, 0.029782599, 0.017232686, 0.009874727, 0.019779947, 0.02245603, 0.0061217137, 0.029747648, 0.021665636, 0.06028294, 0.016596528, 0.024144903, 0.008569011, 0.025648225, 0.020858422, 0.020598987, 0.021118693, 0.016301928, 0.031470805, 0.011862753, 0.075746395, 0.020631291, 0.06687185, 0.0728819, 0.033059146, 0.08347289, 0.019134732, 0.0394478, 0.09941566, 0.1625337, 0.054263975, 0.025470722, 0.027332319, 0.020556122, 0.032033894, 0.035064295, 0.04732323, 0.028313164, 0.06475497, 0.052881908, 0.054336507, 0.03995054, 0.024585415, 0.3116428, 0.03950262, 0.025778903, 0.023882942, 0.058815587, 0.029149892, 0.06971151, 0.027524842, 0.040658597, 0.057434548, 0.52160174, 0.026246808, 0.10028234, 0.039846163, 0.19406968, 0.057906374, 0.10471412, 0.23382083, 0.4707188, 0.037969694, 0.09440957, 0.08816431, 0.077636525, 0.17113757, 0.06098334, 0.9858234, 0.07245597, 0.25885236, 0.07181858, 0.17962563, 0.09269051, 0.15170452, 0.03249454, 0.13325231, 0.08473641, 0.19056901, 0.13034037, 0.039372046, 0.038879722, 0.042353697, 0.42460233, 0.064869694, 0.31548327, 0.6637167, 0.17563361, 0.04717911, 0.073652804, 0.22934686, 0.06896605, 0.2874413, 0.054599777, 0.120710224, 0.06295204, 0.13586257, 0.07781565, 0.20411228, 1.3902183, 0.0744015, 0.18471839, 0.051796116, 0.5281903, 0.04078794, 0.11715255, 0.41459504, 0.2129884, 2.0310302, 0.3099503, 0.49840197, 0.7517034, 0.16796294, 1.5292747, 0.042096693])} shard_key=None\n"
     ]
    }
   ],
   "source": [
    "for idx, hit in enumerate(result):\n",
    "    print(idx, hit)"
   ]
  },
  {
   "cell_type": "code",
   "execution_count": 10,
   "metadata": {},
   "outputs": [
    {
     "name": "stdout",
     "output_type": "stream",
     "text": [
      "irs: 1.0\n",
      "##lass: 1.0\n",
      "employee: 1.0\n",
      "employer: 1.0\n",
      "##ification: 1.0\n",
      "rec: 1.0\n",
      "?: 1.0\n",
      "the: 1.0\n",
      "”: 1.0\n",
      "“: 1.0\n",
      "of: 1.0\n",
      "consequences: 1.0\n",
      "and: 1.0\n",
      "are: 1.0\n",
      "both: 1.0\n",
      "on: 1.0\n",
      "what: 1.0\n"
     ]
    }
   ],
   "source": [
    "for (idx, value) in zip(sparse_vector_qdrant.indices, sparse_vector_qdrant.values):\n",
    "    print(f\"{model.invert_vocab[idx]}: {value}\")"
   ]
  },
  {
   "cell_type": "code",
   "execution_count": 11,
   "metadata": {},
   "outputs": [
    {
     "name": "stdout",
     "output_type": "stream",
     "text": [
      "\": 0.2535534\n",
      ",: 0.0070898435\n",
      "-: 0.040873792\n",
      ".: 0.0012019611\n",
      "/: 0.16037752\n",
      ":: 0.04982328\n",
      "i: 0.020368716\n",
      "the: 0.0051598963 x 1.0 = 0.0051598963\n",
      "to: 0.0052111023\n",
      "is: 0.009334377\n",
      "for: 0.011726985\n",
      "it: 0.035170324\n",
      "an: 0.050727665\n",
      "this: 0.018753069\n",
      "after: 0.048385985\n",
      "so: 0.03519337\n",
      "more: 0.025586877\n",
      "do: 0.056796554\n",
      "such: 0.09250462\n",
      "how: 0.040951286\n",
      "##l: 0.1334535\n",
      "us: 0.33508387\n",
      "found: 0.09381019\n",
      "without: 0.19356108\n",
      "might: 0.065580584\n",
      "am: 0.08188124\n",
      "##9: 0.08183294\n",
      "##0: 0.07611996\n",
      "attempt: 0.1667324\n",
      "seems: 0.11852843\n",
      "tax: 0.17178875\n",
      "roll: 1.0714914\n",
      "funds: 0.81186086\n",
      "impossible: 0.44882402\n",
      "searching: 0.1548299\n",
      "treat: 0.14849602\n",
      "www: 0.06165745\n",
      "##over: 0.56259817\n",
      "consequences: 0.31056586 x 1.0 = 0.31056586\n",
      "pub: 0.30211294\n",
      "pdf: 0.2938165\n",
      "https: 0.090242006\n",
      "##80: 0.1379305\n",
      "gov: 0.09503207\n",
      "ut: 0.33013585\n",
      "irs: 1.5292747 x 1.0 = 1.5292747\n",
      "##200: 0.23212415\n"
     ]
    }
   ],
   "source": [
    "result_sparse_vector = result[19].vector['attention']\n",
    "\n",
    "for (idx, value) in zip(result_sparse_vector.indices, result_sparse_vector.values):\n",
    "    if idx in sparse_vector:\n",
    "        print(f\"{model.invert_vocab[idx]}: {value} x {sparse_vector[idx]} = {value * sparse_vector[idx]}\")\n",
    "    else:\n",
    "        print(f\"{model.invert_vocab[idx]}: {value}\")\n"
   ]
  },
  {
   "cell_type": "code",
   "execution_count": 82,
   "metadata": {},
   "outputs": [
    {
     "name": "stdout",
     "output_type": "stream",
     "text": [
      "is: 0.027513518929481506\n",
      "math: 0.2162715643644333\n",
      "an: 0.02588239312171936\n",
      "art: 0.1304435133934021\n",
      "or: 0.02149391360580921\n",
      "a: 0.021214833483099937\n",
      "science: 0.11642558127641678\n",
      "?: 0.028545841574668884\n"
     ]
    }
   ],
   "source": [
    "query = \"Is math an art or a science?\"\n",
    "sv = next(model.encode([query]))\n",
    "sv = conver_sparse_vector(sv)\n",
    "\n",
    "for (idx, value) in zip(sv.indices, sv.values):\n",
    "    print(f\"{model.invert_vocab[idx]}: {value}\")\n"
   ]
  },
  {
   "cell_type": "code",
   "execution_count": 40,
   "metadata": {},
   "outputs": [],
   "source": [
    "import math"
   ]
  },
  {
   "cell_type": "code",
   "execution_count": 52,
   "metadata": {},
   "outputs": [
    {
     "data": {
      "text/plain": [
       "0.04879016416943205"
      ]
     },
     "execution_count": 52,
     "metadata": {},
     "output_type": "execute_result"
    }
   ],
   "source": [
    "math.log(1/20 + 1)"
   ]
  },
  {
   "cell_type": "code",
   "execution_count": 112,
   "metadata": {},
   "outputs": [
    {
     "data": {
      "text/plain": [
       "[1, 3, 2]"
      ]
     },
     "execution_count": 112,
     "metadata": {},
     "output_type": "execute_result"
    }
   ],
   "source": [
    "a = [1,3,2]\n",
    "\n",
    "sorted(a, reverse=True)\n",
    "\n",
    "a"
   ]
  },
  {
   "cell_type": "code",
   "execution_count": null,
   "metadata": {},
   "outputs": [],
   "source": []
  }
 ],
 "metadata": {
  "kernelspec": {
   "display_name": "venv",
   "language": "python",
   "name": "python3"
  },
  "language_info": {
   "codemirror_mode": {
    "name": "ipython",
    "version": 3
   },
   "file_extension": ".py",
   "mimetype": "text/x-python",
   "name": "python",
   "nbconvert_exporter": "python",
   "pygments_lexer": "ipython3",
   "version": "3.11.4"
  }
 },
 "nbformat": 4,
 "nbformat_minor": 2
}
