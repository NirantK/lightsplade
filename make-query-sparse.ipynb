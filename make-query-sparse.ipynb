{
 "cells": [
  {
   "cell_type": "code",
   "execution_count": 9,
   "metadata": {},
   "outputs": [],
   "source": [
    "from inference import SparseModel\n",
    "from remap_tokens import weight_snowball_with_sparse\n"
   ]
  },
  {
   "cell_type": "code",
   "execution_count": 2,
   "metadata": {},
   "outputs": [],
   "source": [
    "model = SparseModel()"
   ]
  },
  {
   "cell_type": "code",
   "execution_count": 11,
   "metadata": {},
   "outputs": [],
   "source": [
    "QDRANT_URL='http://localhost:6333'\n",
    "QDRANT_API_KEY=''\n",
    "COLLECTION_NAME=\"fiqa\""
   ]
  },
  {
   "cell_type": "code",
   "execution_count": 12,
   "metadata": {},
   "outputs": [],
   "source": [
    "from qdrant_client import QdrantClient, models\n",
    "import math"
   ]
  },
  {
   "cell_type": "code",
   "execution_count": 30,
   "metadata": {},
   "outputs": [],
   "source": [
    "\n",
    "from typing import List, Union\n",
    "import mmh3\n",
    "VOCAB_SIZE = 2_000_000\n",
    "\n",
    "def token_to_idx(token: Union[str, int]) -> int:\n",
    "    if isinstance(token, str):\n",
    "        return mmh3.hash(token) % VOCAB_SIZE\n",
    "    return token\n",
    "\n",
    "def rescore_vector(vector: dict) -> dict:\n",
    "    new_vector = {}\n",
    "\n",
    "    sorted_vector = sorted(vector.items(), key=lambda x: x[1], reverse=True)\n",
    "\n",
    "    for num, (token, _value) in enumerate(sorted_vector):\n",
    "        idx = token_to_idx(token)\n",
    "        new_vector[idx] = 1 # math.log(1./(num + 1) + 1.) # * value\n",
    "    return new_vector\n",
    "\n"
   ]
  },
  {
   "cell_type": "code",
   "execution_count": 31,
   "metadata": {},
   "outputs": [],
   "source": [
    "def conver_sparse_vector(sparse_vector: dict) -> models.SparseVector:\n",
    "    indices = []\n",
    "    values = []\n",
    "\n",
    "    for (idx, value) in sparse_vector.items():\n",
    "        indices.append(int(idx))\n",
    "        values.append(value)\n",
    "\n",
    "    return models.SparseVector(\n",
    "        indices=indices,\n",
    "        values=values\n",
    "    )"
   ]
  },
  {
   "cell_type": "code",
   "execution_count": 32,
   "metadata": {},
   "outputs": [
    {
     "name": "stderr",
     "output_type": "stream",
     "text": [
      "/home/generall/projects/vector_search/tmp/msmacro/venv/lib/python3.11/site-packages/qdrant_client/qdrant_remote.py:122: UserWarning: Api key is used with unsecure connection.\n",
      "  warnings.warn(\"Api key is used with unsecure connection.\")\n"
     ]
    }
   ],
   "source": [
    "client = QdrantClient(QDRANT_URL, api_key=QDRANT_API_KEY)"
   ]
  },
  {
   "cell_type": "code",
   "execution_count": 36,
   "metadata": {},
   "outputs": [],
   "source": [
    "query = \"Income in zero-interest environment\"\n",
    "# query = \"Something looks off about Mitsubishi financial data\"\n",
    "sparse_vector = rescore_vector(next(iter(weight_snowball_with_sparse([query]))))\n",
    "sparse_vector_qdrant = conver_sparse_vector(sparse_vector)\n",
    "\n",
    "limit = 10\n",
    "result = client.search(\n",
    "    collection_name=COLLECTION_NAME,\n",
    "    query_vector=models.NamedSparseVector(\n",
    "        name=\"attention\",\n",
    "        vector=sparse_vector_qdrant\n",
    "    ),\n",
    "    with_payload=True,\n",
    "    with_vectors=True,\n",
    "    limit=limit\n",
    ")"
   ]
  },
  {
   "cell_type": "code",
   "execution_count": 37,
   "metadata": {},
   "outputs": [
    {
     "data": {
      "text/plain": [
       "SparseVector(indices=[245443, 536704, 381228, 423808], values=[1.0, 1.0, 1.0, 1.0])"
      ]
     },
     "execution_count": 37,
     "metadata": {},
     "output_type": "execute_result"
    }
   ],
   "source": [
    "sparse_vector_qdrant"
   ]
  },
  {
   "cell_type": "code",
   "execution_count": 38,
   "metadata": {},
   "outputs": [
    {
     "name": "stdout",
     "output_type": "stream",
     "text": [
      "0 id=13339 version=626 score=2.2069366 payload={'id': '137225', 'text': \"I've had zero taxable income for the past 2 years and yet the calculations say I owe the government $250 for each year for the Self Employment tax.  How can they charge a non-zero tax on my income when my taxable income is zero?  That is theft. That demands reform.\"} vector={'attention': SparseVector(indices=[105600, 169405, 252851, 257764, 273945, 381228, 423685, 454046, 526443, 536704, 606981, 745112, 745418, 846510, 1522071, 1534310, 1779546, 1804292, 1862685, 1875703], values=[0.80624396, 0.4640101, 0.5026966, 0.9190698, 0.24484365, 0.6620832, 0.2386803, 0.29232448, 0.2030843, 1.5448534, 0.19014518, 0.10017339, 0.1001474, 0.17525618, 0.13144773, 0.26051712, 0.29709387, 0.9886667, 0.28483647, 0.17031649])} shard_key=None\n",
      "1 id=14990 version=704 score=2.0541573 payload={'id': '154373', 'text': 'The difference is the time when they are released and how much revenue they have recouped at that point.  The Shaw Cable PPV movie is likely to be even newer than the itunes HD movies which cost $4.99 or $5.99.'} vector={'attention': SparseVector(indices=[202690, 204756, 226660, 303480, 367887, 381228, 395067, 441908, 461481, 501015, 1069542, 1071145, 1169928, 1215427, 1364454, 1486509, 1547314, 1599371, 1932301, 1953974], values=[0.17170566, 0.6215029, 0.14089927, 1.9964769, 2.4048107, 2.0541573, 0.096768625, 0.99301654, 0.09195332, 0.11198423, 0.13061924, 0.058886413, 0.1975586, 0.9871204, 1.1118041, 0.11212763, 0.5154629, 0.61643916, 0.25373575, 0.53265864])} shard_key=None\n",
      "2 id=25235 version=1184 score=2.0541573 payload={'id': '261082', 'text': '\"That article, like almost any article written by a non-expert and quoting only \"\"research\"\" from lobbying groups, hugely misses the point. The vast majority of orders that end up being cancelled are cancelled as a standard part of exchanges\\' official market-maker programs. Each exchange wants you and me to know that it has liquidity -- that when we go to buy or sell some stock, there will be someone waiting on the other side of the trade.  So the exchange pays (via lowered fees or even rebates) hundreds of registered market makers to constantly have orders resting in each product\\'s order book within a few ticks of the current NBBO or the last trade price.  That way, if everyone else should suddenly disappear from the market, you and I will still be able to trade our shares for a price somewhat close to the last trade price. But market makers who are simply acting in this \"\"backstop\"\" role don\\'t actually want to have their orders filled, because those orders will almost always lose them money. So as prices rise and fall (as much as tens of times per second), the market makers need to cancel their resting orders (so they don\\'t get filled) and add new ones at new prices (so they meet their obligations to the exchange).  And because the number of orders resting in any given product\\'s order book is vastly larger than the number of actual trades that take place in any given time period, naturally the number of cancellations is also going to hugely outweigh the number of actual trades.  As much as 97% to 3% (or even more). But that\\'s completely fine! You and I don\\'t have to care about any of that.  We almost never need the market makers to be there to trade with us.  They\\'re only there as a backstop.  There\\'s almost always plenty of organic liquidity for us to trade against.  Only in the rare case where liquidity completely dries up do we really care that the registered market makers are there.  And in those cases (ideally) the market makers can\\'t cancel their orders (depending on how well the exchange has set up its market maker program). So, to answer your question, the effect of standard order cancellation on a stock is essentially none.  If you were to visualize the resting orders in a product\\'s book as prices moved up and down, you would essentially see a Gaussian distribution with mean at the last trade price, and it would move up and down with the price.  That \"\"movement\"\" is accomplished by cancellations followed by new orders. P.S. As always, keep in mind that your and my orders almost never actually make it to a real stock exchange anymore.  Nowadays they are almost always sent to brokers\\' and big banks\\' internal dark pools.  And in there you and I have no idea what shenanigans are going on.  As just one example, dark pools allow their operators and (for a fee) other institutional participants access to a feature called last look that allows them to cancel their resting order as late as after your order has been matched against it! :( Regarding the question in your comment ... If Alice is sending only bona fide orders (that is, only placing an order at time T if, given all the information she has at time T, she truly wants and intends for it to be filled) then her cancellation at a later time actually adds to the effectiveness of and public perception of the market as a tool for price discovery (which is its ultimate purpose). [In the following example imagine that there are no such things as trading fees or commissions or taxes.] Let\\'s say Alice offers to buy AAPL at $99.99 when the rest of the market is trading it for $100.00.  By doing so she is casting her vote that the \"\"fair value\"\" of a share of AAPL is between $99.99 and $100.00. After all, if she thought the fair value of a share of AAPL was higher --  say, between $100.00 and $100.01 -- then she should be willing to pay $100.00 (because that\\'s below fair value) and she should expect that other people in the market will not soon decide to sell to her at $99.99. If some time later Alice does decide that the fair value of AAPL is between $100.00 and $100.01 then she should definitely cancel her order at $99.99, for exactly the reason discussed above.  She probably won\\'t get filled at $99.99, and by sitting there stubbornly she\\'s missing out (potentially forever) on the possibility to make a profit. Through the simple act of cancelling her $99.99 order, Alice is once again casting a vote that she no longer thinks that\\'s AAPL\\'s fair value.  She is (very slightly) altering the collective opinion of the entire market as to what a share of AAPL is worth.  And if her cancellation then frees her up to place another order closer to her perceived fair value (say, at $100.00), then that\\'s another vote for her honest optinion about AAPL\\'s price. Since the whole goal of the market is to get a bunch of particpants to figure out the fair value of some financial instrument (or commodity, or smart phone, or advertising time, etc.), cancellations of honest votes from the past in order to replace them with new, better-informed honest votes in the present can only be a good thing for the market\\'s effectiveness and perceived effectiveness. It\\'s only when participants start sending non-honest votes (non bona fide orders) that things start to go off the rails.  That\\'s what @DumbCoder was referring to in his comment on your original question.\"'} vector={'attention': SparseVector(indices=[32728, 46056, 56692, 61270, 61874, 70043, 70598, 71834, 84523, 86178, 89517, 95235, 96007, 98838, 101475, 112836, 118491, 127006, 132300, 141949, 145832, 149432, 150230, 165346, 165979, 170882, 173076, 184636, 192579, 197652, 206968, 208903, 214203, 215289, 230468, 232107, 236722, 252914, 274930, 275913, 311561, 312602, 316616, 330441, 330695, 346254, 372563, 381228, 387468, 395067, 403779, 408621, 409211, 426677, 433329, 451243, 451947, 453914, 456296, 459139, 461481, 463225, 475871, 485097, 494850, 500496, 501015, 501148, 501274, 515841, 517606, 518484, 519422, 522759, 526443, 532018, 535418, 541321, 556153, 558316, 566247, 571802, 585409, 586924, 587157, 588669, 589200, 596145, 611929, 617884, 618520, 621977, 623792, 649629, 651669, 657588, 658185, 670401, 671461, 681215, 681274, 682520, 688855, 690601, 710751, 716876, 741300, 743076, 745418, 751995, 757074, 762980, 773888, 775863, 781426, 813227, 817125, 824633, 835684, 835994, 849314, 852842, 853637, 856114, 862431, 882560, 883039, 883857, 886724, 887246, 907013, 907821, 914038, 934148, 937713, 952055, 954659, 955919, 966178, 973321, 981013, 998019, 998206, 1004061, 1006309, 1012898, 1015680, 1022416, 1027559, 1029899, 1043438, 1043458, 1046898, 1060237, 1071145, 1080689, 1089265, 1103121, 1106702, 1174625, 1187622, 1190400, 1199304, 1215365, 1222120, 1229416, 1238684, 1260191, 1273821, 1274219, 1276219, 1280773, 1281070, 1289248, 1293224, 1317420, 1327303, 1330953, 1336747, 1341047, 1342446, 1344364, 1351846, 1375523, 1379187, 1397529, 1398787, 1411504, 1420245, 1427225, 1441729, 1442169, 1442836, 1463294, 1464262, 1467941, 1469742, 1475614, 1475983, 1483024, 1486509, 1488441, 1497188, 1503267, 1503504, 1523816, 1524087, 1532920, 1534310, 1549348, 1549709, 1552497, 1589489, 1596726, 1604696, 1618911, 1637301, 1640197, 1645929, 1671724, 1680478, 1692528, 1700791, 1702612, 1710797, 1747571, 1753705, 1761084, 1769469, 1788236, 1790862, 1792364, 1825255, 1835070, 1836714, 1838346, 1842409, 1852987, 1862883, 1865591, 1874299, 1875703, 1880363, 1882022, 1906386, 1906702, 1917103, 1950983, 1982831, 1983593, 1988786, 1991909], values=[0.044379815, 0.05798119, 0.26835144, 0.031421598, 0.14597571, 0.25769603, 0.010557303, 0.065660805, 0.008845535, 0.09451292, 0.13717863, 0.41517922, 0.0216951, 0.021182654, 0.012732031, 0.22889626, 0.016053502, 0.03460028, 0.032832377, 0.011103207, 0.08738704, 0.01206272, 0.04109411, 0.009413686, 0.027089106, 0.1610127, 0.019881183, 0.017947216, 0.050501466, 0.014839646, 0.03238207, 0.052784584, 0.019688979, 0.08688251, 0.10668322, 0.04359425, 0.009572673, 0.014880059, 0.16629991, 0.017433241, 0.016759727, 0.021648267, 0.06354624, 0.14906485, 0.018077295, 0.09563083, 0.033534616, 2.0541573, 0.17746985, 0.009753613, 0.019842504, 0.07867542, 0.03751544, 0.06039759, 0.041627254, 0.035931274, 0.017706208, 0.06406925, 0.012918295, 0.033865348, 0.010964541, 0.035939883, 0.0412737, 0.042501204, 0.015108757, 0.049942095, 0.012930859, 0.012000511, 0.017509757, 0.0232419, 0.08435761, 0.021402314, 0.026566058, 0.012325832, 0.08271692, 0.061522733, 0.059532434, 0.023544407, 0.078249335, 0.057046793, 0.0430668, 0.03338863, 0.06912684, 0.87279654, 0.008769305, 0.012122867, 0.013306264, 0.008558581, 0.019616663, 0.020841403, 0.026190469, 0.028183803, 0.25179482, 0.018418176, 0.011433622, 0.06368647, 0.017968057, 0.020789826, 0.12321515, 0.1496147, 0.22911395, 0.057575542, 0.20662092, 0.09542132, 0.018293861, 0.009761096, 0.015285139, 0.022818387, 0.01399609, 0.019608932, 0.061879717, 0.03980519, 0.031335235, 0.025460966, 1.8419789, 0.01584252, 0.014668016, 0.013716123, 0.033631038, 0.017745135, 0.12630512, 0.1922675, 0.12931643, 0.0222589, 0.015646907, 0.045544162, 0.035981983, 0.009608429, 0.020136798, 0.014516207, 0.024507174, 0.2480037, 0.022422543, 0.0098914895, 0.007454039, 0.03506264, 0.021617614, 0.012791398, 0.08207468, 0.020105088, 0.024858857, 0.23739809, 0.2962027, 0.027655637, 0.025711434, 0.007622467, 0.017884701, 0.060614422, 0.009595873, 0.040973656, 0.019278351, 0.022873182, 0.027693756, 0.009135949, 0.006345024, 0.8661809, 0.019546771, 0.044275172, 0.029604368, 0.13190226, 0.030319069, 0.15113069, 0.027392106, 0.011511481, 0.01705377, 0.051900364, 0.012967082, 0.016006688, 0.27250192, 0.04524021, 0.06297766, 0.0371256, 0.012570126, 0.011764945, 0.06621001, 0.023755811, 0.019826112, 0.015337594, 0.031089554, 0.07075459, 0.018834561, 0.057186034, 0.0106301755, 0.0571244, 0.07595452, 0.014817995, 0.023655282, 0.016446924, 0.02922893, 0.013371011, 0.011753445, 0.042108268, 0.46599352, 0.07952467, 0.018512016, 0.024860173, 0.3073292, 0.017104698, 0.0360954, 0.2352643, 0.08180536, 0.0213755, 0.060240015, 0.015266238, 0.3683996, 0.008515888, 0.026861731, 0.024058979, 0.020217594, 0.1422363, 0.013605984, 0.05488393, 0.05203298, 0.0153493835, 0.023650821, 0.013282282, 0.07886721, 0.04716693, 0.01692086, 0.025480244, 0.07949216, 0.046506185, 0.008648427, 0.013289614, 0.017627051, 0.027546681, 0.015012288, 0.02099357, 0.016576657, 0.029857388, 0.026105672, 0.04032683, 0.015464308, 0.020468175, 0.096043244, 0.13059753, 0.08037313, 0.03454866, 0.12642653, 0.09288445, 0.035469428, 0.039580323, 0.021994393, 0.018373052, 0.013914681, 0.19420698, 0.011467843, 0.024923198, 0.027591161, 0.012423, 0.039762553, 0.017537974])} shard_key=None\n",
      "3 id=28230 version=1325 score=2.0541573 payload={'id': '291507', 'text': \"Customers are regularly confused by software pricing. Microsoft's Windows, for example. Either they're dumb and shouldn't confuse the customers or they know what they're doing. I'm betting the latter.  At 99 bucks, a product can seem expensive, but if the other offerings are 89 and 150, 99 seems like you're saving a lot on the 150 while only paying a bit more than the 99. Yet without those other options, 99 might seem expensive.  Business consumers are more likely to pay more so you can gouge them with the Enterprise edition at 150. 99 for the gold edition and 89 for lite. 99 will sell great and if that's what you were hoping for in the first place, that's good anchoring.  Don't think of the premium getting cannibalised. Just thing of the premium edition as a way to capture the consumer surplus of businesses.\"} vector={'attention': SparseVector(indices=[40400, 76176, 81900, 122359, 146969, 159706, 159815, 170264, 213363, 248262, 255503, 276573, 311561, 312378, 381228, 473371, 519422, 527388, 576661, 606981, 642845, 883857, 885088, 971792, 1009922, 1012898, 1027559, 1071145, 1105254, 1132647, 1164339, 1232912, 1310388, 1324998, 1331140, 1357395, 1412762, 1425197, 1441729, 1467941, 1468731, 1475614, 1524087, 1623047, 1680478, 1710735, 1769469, 1772008, 1883774, 1906702, 1917103, 1969599], values=[0.06275071, 0.068585515, 0.044007387, 0.06095724, 0.32386017, 0.18088365, 0.24862969, 0.045701955, 0.25412673, 0.17559959, 0.7111055, 0.3422202, 0.055160254, 0.9312999, 2.0541573, 0.29677063, 0.050402086, 0.061456893, 0.10391146, 0.11165475, 0.9936443, 0.04654723, 0.91584563, 0.076339126, 0.15426652, 0.030587886, 0.044050556, 0.031256642, 0.08856279, 0.18070847, 0.26813573, 0.13708343, 0.15326013, 0.08240533, 0.11614891, 0.31323725, 0.17752077, 1.7243749, 0.037927277, 0.054694384, 0.18516551, 0.055544335, 0.15877563, 0.057058703, 0.120094076, 0.20494041, 0.056166507, 0.5676721, 0.5703077, 0.19420698, 0.060166646, 0.4203677])} shard_key=None\n",
      "4 id=49179 version=2306 score=2.029245 payload={'id': '510692', 'text': '\"Depending on the nature of the expenses, you will enter them under Deductions, on lines 9 through 20. Did you rent an office? Add the rental expense to line 13. Fee for a business license? Line 14. Everything else that doesn\\'t fall into any specific category goes on line 20 (You\\'ll need to attach a small statement that breaks out the expense categories, e.g. office supplies, phone, legal fees, etc.)  Expenses that are entered in the Income section are costs directly related to sales, such as merchant fees that you pay to a bank if you take payments by credit card. Since you said the partnership has \"\"zero money coming in,\"\" I assume that it currently has no revenues, so all the fields in the Income section would be zero.\"'} vector={'attention': SparseVector(indices=[70598, 150097, 214203, 230025, 248262, 290510, 311561, 330305, 333218, 381228, 390467, 409211, 463225, 477688, 536704, 566247, 589200, 621977, 649809, 662805, 671053, 764413, 773219, 808122, 817224, 856114, 922456, 952346, 968633, 976867, 1019638, 1069542, 1132647, 1145901, 1148321, 1203559, 1281070, 1351846, 1411175, 1444118, 1475983, 1496143, 1497188, 1593959, 1596726, 1624215, 1669042, 1700791, 1705147, 1711020, 1782665, 1799981, 1829275, 1837952, 1842409, 1932301, 1933210, 1950983, 1960979, 1976844, 1983593, 1992043], values=[0.054948416, 0.07000228, 0.074603304, 0.25408942, 0.14955895, 0.28803024, 0.029452184, 0.17619976, 0.09430703, 0.9331539, 0.06305369, 0.07999315, 0.055113036, 0.4316908, 1.096091, 0.09531856, 0.05098694, 0.07822084, 0.12582412, 0.07904715, 0.71475047, 0.3533447, 0.14486057, 0.87393844, 0.11904292, 0.06302987, 0.17309494, 0.06952684, 0.14353779, 0.17764723, 0.052083932, 0.06245532, 0.27596384, 0.060388338, 0.12545471, 0.08805465, 0.04711175, 0.026278263, 0.060039517, 0.06536471, 0.15231906, 0.5309351, 0.10142024, 0.04795942, 0.04414747, 0.15231502, 0.12518847, 0.038965847, 0.39496565, 0.26270622, 0.3107426, 0.06154427, 0.09197386, 0.14080828, 0.31377262, 0.18289527, 0.05503351, 0.06117628, 0.08099916, 0.067009866, 0.073051445, 0.072001845])} shard_key=None\n",
      "5 id=40874 version=1916 score=1.90164 payload={'id': '425846', 'text': \"All actual data points mentioned in the article are linked to more sustainable food production, there's little to support actual health improvements except one speculative paragraph.  Having said that, if both plant based and meat based are equally good for our health, the plant based diet is far more sustainable and therefore better for the environment.\"} vector={'attention': SparseVector(indices=[26292, 167390, 206968, 272298, 423808, 469550, 501015, 558316, 669195, 679414, 705157, 716876, 720055, 790283, 791105, 1116115, 1144629, 1176678, 1333942, 1441729, 1592308, 1680478, 1693611, 1702612, 1723567, 1799981, 1846105, 1895056], values=[0.12842704, 0.12616466, 0.6567488, 0.3046016, 1.90164, 0.27677312, 0.13914694, 0.17444259, 0.15257704, 0.6596768, 0.105661444, 0.046824463, 0.16302569, 0.24897844, 0.26647484, 0.41387925, 0.16881612, 0.6867996, 0.56259817, 0.08176492, 0.52324784, 0.18211383, 0.15462713, 0.19831306, 1.2610321, 0.10982394, 0.6222833, 0.25362548])} shard_key=None\n",
      "6 id=1313 version=62 score=1.90164 payload={'id': '13900', 'text': \"I agree with you that given a teacher and an environment there may be a way to rank teachers, however any proposal I've seen to judge performance fails to take into account environment and assumes the district as one uniform environment. Any time federal programs are proposed that try and address failing schools, they treat things as if the school is the only part of the environment that matters. I don't see how they can do better for teachers.\"} vector={'attention': SparseVector(indices=[27491, 135294, 220149, 261835, 279704, 423808, 501148, 567728, 568274, 584749, 610233, 628907, 695120, 716876, 745590, 883039, 952346, 976768, 1027559, 1273406, 1340469, 1344364, 1486509, 1523816, 1666442, 1700791, 1702612, 1769469, 1925689, 1968961, 1988304], values=[0.23659083, 0.11369382, 0.121822104, 0.109358266, 0.07466743, 1.90164, 0.11709073, 0.16580245, 0.68277204, 0.26574844, 0.25930718, 0.42563125, 0.35840544, 0.056382906, 0.3625638, 0.107955135, 0.09688587, 0.14609788, 0.0664804, 1.004051, 0.07707815, 0.29980895, 0.08180536, 0.1413021, 0.5943794, 0.055753388, 0.19831306, 0.08752454, 0.8455331, 0.85442954, 1.6652862])} shard_key=None\n",
      "7 id=510 version=23 score=1.90164 payload={'id': '5351', 'text': \"I actually completely agree that global warming is increasing foliage, because plants thrive in a high CO2 environment. But I disagree that this is good for the environment as a whole.  I looked at your history and can see I probably wont be able to change your mind. But just imagine that you're wrong for a second and that you are supporting something that will be horrible for your grandchildren.\"} vector={'attention': SparseVector(indices=[14760, 93894, 118491, 135294, 206968, 381715, 423808, 522831, 531086, 751995, 753687, 754679, 824633, 835994, 862431, 934148, 1144629, 1150411, 1238684, 1333942, 1424872, 1439235, 1441729, 1493296, 1523816, 1575328, 1578191, 1673004, 1805600, 1906386], values=[0.29785967, 1.3287436, 0.13401593, 0.19642022, 0.080109894, 0.28783795, 1.90164, 0.2649934, 0.11781446, 0.19334012, 0.13399614, 0.45880598, 0.08747604, 0.15704611, 0.112721354, 0.07894793, 0.4620245, 0.19090569, 0.09030779, 0.6289312, 1.4666282, 0.15326409, 0.09945167, 0.20166391, 0.0650235, 2.7931604, 0.52262396, 0.29356632, 1.1310982, 0.27231607])} shard_key=None\n",
      "8 id=54899 version=2573 score=1.90164 payload={'id': '571685', 'text': \"First, business turns into socialism because of heavy government regulation, trusts, collusion, corruption, lobbying, I could go on but I digress.  I think the debate here is:  &gt;If companies made wrong choice then market would punish them and companies that hire quality personnel would win out.  This is not an accepted truth by everybody on Reddit, in the USA, or in the world. For one thing, lobbying exists. For another: four competing companies can differ on more than 16 different choices, one of them can be company A ruins the environment and hires cheap immigrant labor, company D is good for the environment and good for labor, while companies B and C do one and not the other, alternatively. The environment and cheap immigrant labor are only 2 of 16 choices, such as marketing, donating to charity, having a corporate office near one of the plants versus in a geography with low taxes, having plants near certain resources, etc.  So, it isn't like one bad choice would ruin a company, or one right choice will ruin all of a company's competitors.  &gt;If companies made wrong choice then market would punish them and companies that hire quality personnel would win out.  You act like Wells Fargo, Bank of America, Cox Cable, and Comcast, must have terrific customer service ratings. That simply isn't how the market works, not for big banks, and not for telecoms. It probably doesn't work that way for oil companies, or major media conglomerates like Disney, it probably doesn't work that way for one single industry in the USA. Then again, maybe it does. But it certainly is conjecture, and you can't say,  &gt;That's not how economy work. If good people are worth the money, then companies would hire them.  As if this is a given or a fact. That is completely your opinion, popular or not.  In Capitalism, those who start out with the capital have a huge advantage to put out of business or buy out competition, until there is a monopoly, or at least a trust.\"} vector={'attention': SparseVector(indices=[2119, 70598, 118491, 165247, 170264, 202690, 248262, 255852, 257144, 271400, 275913, 276157, 301861, 312602, 316361, 331085, 338847, 373243, 409211, 423808, 425231, 441908, 454046, 463225, 500496, 517981, 521981, 527759, 543747, 548735, 579279, 589200, 595952, 596145, 623792, 638337, 676118, 679706, 691765, 716876, 745418, 755591, 824902, 853637, 863851, 883039, 883857, 885088, 923518, 954659, 958595, 960605, 977499, 996558, 1006309, 1027559, 1060237, 1071145, 1071232, 1105516, 1114270, 1126074, 1132830, 1150869, 1182696, 1211228, 1237983, 1238684, 1252745, 1260564, 1262593, 1288314, 1289248, 1289604, 1317420, 1330903, 1333942, 1347293, 1351615, 1392992, 1404941, 1419139, 1431280, 1441729, 1456649, 1481462, 1485492, 1518480, 1522071, 1534310, 1557370, 1563190, 1574132, 1637301, 1640162, 1662100, 1673004, 1681631, 1711020, 1753541, 1753705, 1759785, 1769469, 1785547, 1807508, 1828408, 1834014, 1835312, 1836367, 1849936, 1852987, 1864023, 1874299, 1959931, 1981841, 1996440], values=[0.07399284, 0.014873624, 0.0286721, 0.050437532, 0.025786562, 0.022462776, 0.14955895, 0.10622799, 0.13463889, 0.35868287, 0.034557316, 0.0984937, 0.030013625, 0.0301063, 0.04757647, 0.10493537, 0.12911814, 0.29878438, 0.05505678, 1.90164, 0.086945064, 0.10374622, 0.029674254, 0.13063009, 0.055818148, 0.033482295, 0.11027904, 0.31956542, 0.041587025, 0.03176325, 0.31147248, 0.024639005, 0.119743116, 0.021725927, 0.22209878, 0.07309754, 0.056164842, 0.092575304, 0.0422841, 0.052126538, 0.0169044, 0.13163283, 0.066164, 0.9069703, 0.037735786, 0.03480222, 0.02198761, 0.045807034, 0.029286332, 0.018166859, 0.037921738, 0.20032202, 0.12307627, 0.11247801, 0.038132578, 0.081258245, 0.04491199, 0.021638641, 0.021479286, 0.24430904, 0.04115775, 0.017827198, 0.03301372, 0.031691894, 0.033199564, 0.3253832, 0.07603091, 0.11551806, 0.34759268, 0.12266387, 0.10051238, 0.053655274, 0.014000846, 0.49941236, 0.030629907, 0.52627456, 0.34461918, 0.05242356, 0.039838076, 0.36183175, 0.11221223, 0.059077363, 0.25118363, 0.410452, 0.09900644, 0.19607387, 0.12840597, 0.08515097, 0.023347503, 0.022554938, 0.18446307, 0.49811295, 0.13926405, 0.023622122, 0.06262429, 0.027630184, 0.10072044, 0.18324648, 0.06399697, 0.103323415, 0.02849012, 0.074111946, 0.019496944, 0.051727664, 0.13461487, 0.06802314, 0.1742944, 0.13780598, 0.77259153, 0.024830787, 0.038837586, 0.050371237, 0.04664791, 0.036093198, 0.04066224, 0.0544532])} shard_key=None\n",
      "9 id=51122 version=2396 score=1.6971447 payload={'id': '531758', 'text': \"In the scenario where interest rates rise to anything like normal, interest payments on the debt will quickly explode to be a huge portion of the budget, forcing deep cuts in other areas.  Holding interest rates near zero forever just isn't sustainable.\"} vector={'attention': SparseVector(indices=[245443, 402089, 536704, 691765, 783246, 820335, 1007307, 1071145, 1097572, 1105516, 1176678, 1291085, 1317420, 1350732, 1407862, 1420245, 1446462, 1671724, 1757867, 1933210, 1938074, 1979160, 1989500], values=[0.8469505, 0.21589862, 0.8501942, 0.6264458, 0.9115905, 0.2881202, 0.46110556, 0.061760034, 0.18920568, 0.24430904, 0.9377448, 0.2043867, 0.16742517, 0.41942418, 0.15504824, 0.5497027, 0.31944668, 0.2355705, 0.1841893, 0.19779645, 0.11593564, 0.43164527, 0.2353335])} shard_key=None\n"
     ]
    }
   ],
   "source": [
    "for idx, hit in enumerate(result):\n",
    "    print(idx, hit)"
   ]
  },
  {
   "cell_type": "code",
   "execution_count": 26,
   "metadata": {},
   "outputs": [
    {
     "ename": "KeyError",
     "evalue": "10245443",
     "output_type": "error",
     "traceback": [
      "\u001b[0;31m---------------------------------------------------------------------------\u001b[0m",
      "\u001b[0;31mKeyError\u001b[0m                                  Traceback (most recent call last)",
      "Cell \u001b[0;32mIn[26], line 2\u001b[0m\n\u001b[1;32m      1\u001b[0m \u001b[38;5;28;01mfor\u001b[39;00m (idx, value) \u001b[38;5;129;01min\u001b[39;00m \u001b[38;5;28mzip\u001b[39m(sparse_vector_qdrant\u001b[38;5;241m.\u001b[39mindices, sparse_vector_qdrant\u001b[38;5;241m.\u001b[39mvalues):\n\u001b[0;32m----> 2\u001b[0m     \u001b[38;5;28mprint\u001b[39m(\u001b[38;5;124mf\u001b[39m\u001b[38;5;124m\"\u001b[39m\u001b[38;5;132;01m{\u001b[39;00m\u001b[43mmodel\u001b[49m\u001b[38;5;241;43m.\u001b[39;49m\u001b[43minvert_vocab\u001b[49m\u001b[43m[\u001b[49m\u001b[43midx\u001b[49m\u001b[43m]\u001b[49m\u001b[38;5;132;01m}\u001b[39;00m\u001b[38;5;124m: \u001b[39m\u001b[38;5;132;01m{\u001b[39;00mvalue\u001b[38;5;132;01m}\u001b[39;00m\u001b[38;5;124m\"\u001b[39m)\n",
      "\u001b[0;31mKeyError\u001b[0m: 10245443"
     ]
    }
   ],
   "source": [
    "for (idx, value) in zip(sparse_vector_qdrant.indices, sparse_vector_qdrant.values):\n",
    "    print(f\"{model.invert_vocab[idx]}: {value}\")"
   ]
  },
  {
   "cell_type": "code",
   "execution_count": 23,
   "metadata": {},
   "outputs": [
    {
     "name": "stdout",
     "output_type": "stream",
     "text": [
      "?: 0.0005044635 x 1.0 = 0.0005044635\n",
      "to: 0.5377678\n",
      "it: 0.873277\n",
      "when: 1.228311\n",
      "what: 0.3427238\n",
      "got: 2.0297878\n",
      "happened: 2.1821659\n",
      "employees: 2.1019368\n",
      "##zed: 3.0411465 x 1.0 = 3.0411465\n",
      "vs: 3.703\n",
      "##vati: 3.295511 x 1.0 = 3.295511\n",
      "##nl: 4.712006\n",
      "pri: 2.9606016 x 1.0 = 2.9606016\n"
     ]
    }
   ],
   "source": [
    "result_sparse_vector = result[9].vector['attention']\n",
    "\n",
    "for (idx, value) in zip(result_sparse_vector.indices, result_sparse_vector.values):\n",
    "    if idx in sparse_vector:\n",
    "        print(f\"{model.invert_vocab[idx]}: {value} x {sparse_vector[idx]} = {value * sparse_vector[idx]}\")\n",
    "    else:\n",
    "        print(f\"{model.invert_vocab[idx]}: {value}\")\n"
   ]
  },
  {
   "cell_type": "code",
   "execution_count": 24,
   "metadata": {},
   "outputs": [
    {
     "name": "stdout",
     "output_type": "stream",
     "text": [
      "?: 0.0005044635 x 1.0 = 0.0005044635\n",
      "can: 0.7317368\n",
      "through: 1.8962183\n",
      "indian: 1.6121174 x 1.0 = 1.6121174\n",
      "develop: 2.3311443\n",
      "railways: 4.6289215 x 1.0 = 4.6289215\n",
      "acute: 4.6587257\n",
      "privatization: 5.121674\n"
     ]
    }
   ],
   "source": [
    "query = \"Should Indian Railways be privatized?\"\n",
    "sparse_vector = rescore_vector(next(model.encode([query])))\n",
    "sparse_vector_qdrant = conver_sparse_vector(sparse_vector)\n",
    "\n",
    "limit = 10\n",
    "result = client.search(\n",
    "    collection_name=COLLECTION_NAME,\n",
    "    query_vector=models.NamedSparseVector(\n",
    "        name=\"attention\",\n",
    "        vector=sparse_vector_qdrant\n",
    "    ),\n",
    "    query_filter=models.Filter(\n",
    "        must=[\n",
    "            models.FieldCondition(\n",
    "                key=\"id\", match=models.MatchValue(value=\"244307\")\n",
    "            ),\n",
    "        ],\n",
    "    ),\n",
    "    with_payload=True,\n",
    "    with_vectors=True,\n",
    "    limit=limit\n",
    ")\n",
    "\n",
    "result_sparse_vector = result[0].vector['attention']\n",
    "\n",
    "for (idx, value) in zip(result_sparse_vector.indices, result_sparse_vector.values):\n",
    "    if idx in sparse_vector:\n",
    "        print(f\"{model.invert_vocab[idx]}: {value} x {sparse_vector[idx]} = {value * sparse_vector[idx]}\")\n",
    "    else:\n",
    "        print(f\"{model.invert_vocab[idx]}: {value}\")\n"
   ]
  },
  {
   "cell_type": "code",
   "execution_count": 40,
   "metadata": {},
   "outputs": [],
   "source": [
    "import math"
   ]
  },
  {
   "cell_type": "code",
   "execution_count": 52,
   "metadata": {},
   "outputs": [
    {
     "data": {
      "text/plain": [
       "0.04879016416943205"
      ]
     },
     "execution_count": 52,
     "metadata": {},
     "output_type": "execute_result"
    }
   ],
   "source": [
    "math.log(1/20 + 1)"
   ]
  },
  {
   "cell_type": "code",
   "execution_count": 112,
   "metadata": {},
   "outputs": [
    {
     "data": {
      "text/plain": [
       "[1, 3, 2]"
      ]
     },
     "execution_count": 112,
     "metadata": {},
     "output_type": "execute_result"
    }
   ],
   "source": [
    "a = [1,3,2]\n",
    "\n",
    "sorted(a, reverse=True)\n",
    "\n",
    "a"
   ]
  },
  {
   "cell_type": "code",
   "execution_count": null,
   "metadata": {},
   "outputs": [],
   "source": []
  }
 ],
 "metadata": {
  "kernelspec": {
   "display_name": "venv",
   "language": "python",
   "name": "python3"
  },
  "language_info": {
   "codemirror_mode": {
    "name": "ipython",
    "version": 3
   },
   "file_extension": ".py",
   "mimetype": "text/x-python",
   "name": "python",
   "nbconvert_exporter": "python",
   "pygments_lexer": "ipython3",
   "version": "3.11.4"
  }
 },
 "nbformat": 4,
 "nbformat_minor": 2
}
