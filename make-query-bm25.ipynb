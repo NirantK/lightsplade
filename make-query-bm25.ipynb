{
 "cells": [
  {
   "cell_type": "code",
   "execution_count": 3,
   "metadata": {},
   "outputs": [],
   "source": [
    "import tantivy\n",
    "import json"
   ]
  },
  {
   "cell_type": "code",
   "execution_count": 5,
   "metadata": {},
   "outputs": [],
   "source": [
    "schema_builder = tantivy.SchemaBuilder()\n",
    "schema_builder.add_text_field(\"body\", stored=True)\n",
    "schema_builder.add_text_field(\"doc_id\", stored=True)\n",
    "schema = schema_builder.build()\n",
    "index = tantivy.Index(schema, path=\"data/fiqa/bm25.tantivy/\")\n"
   ]
  },
  {
   "cell_type": "code",
   "execution_count": 6,
   "metadata": {},
   "outputs": [],
   "source": [
    "searcher = index.searcher()"
   ]
  },
  {
   "cell_type": "code",
   "execution_count": 7,
   "metadata": {},
   "outputs": [],
   "source": [
    "import re\n",
    "def sanitize_query_for_tantivy(query):\n",
    "    # remove special characters: ()[]{}^\"~*?:\n",
    "    query = re.sub(r'[\\(\\)\\[\\]\\{\\}\\^\\\"\\~\\*\\?\\:\\`]', ' ', query)\n",
    "    return query\n",
    "\n",
    "\n",
    "def search_bm25(query, limit):\n",
    "    query = index.parse_query(sanitize_query_for_tantivy(query), ['body'])\n",
    "    hits = searcher.search(query, limit).hits\n",
    "    docs = [\n",
    "        {\n",
    "            \"body\": searcher.doc(doc_address)[\"body\"],\n",
    "            \"doc_id\": searcher.doc(doc_address)[\"doc_id\"],\n",
    "            \"score\": score\n",
    "        }\n",
    "        for (score, doc_address) in hits\n",
    "    ]\n",
    "    return docs"
   ]
  },
  {
   "cell_type": "code",
   "execution_count": 8,
   "metadata": {},
   "outputs": [
    {
     "name": "stdout",
     "output_type": "stream",
     "text": [
      "{'body': [\"In the USA, you probably owe Self Employment Tax. The cutoff for tax on this is 400$. You will need to file a tax return and cover the medicaid expenses as if you were both the employer and employee.  In addition, if he earns income from self-employment, he may owe Self-Employment Tax, which means paying both the employee’s and employer's share of Social Security and Medicaid taxes. The trigger for Self Employment Tax has been $400 since 1990, but the IRS may change that in the future. Also see the IRS website.  So yes, you need to file your taxes. How much you will pay is determined by exactly how much your income is.  If you don't file, you probably won't be audited, however you are breaking the law and should be aware of the consequences.\"], 'doc_id': ['89611'], 'score': 27.17253875732422}\n",
      "{'body': ['\"You are confusing entirely unrelated things. First the \"\"profit distribution\"\" issue with Bob\\'s S-Corp which is in fact tax evasion and will probably trigger a very nasty audit. Generally, if you\\'re the sole employee of your own S-Corp, and the whole S-Corp income is from your own personal services, as defined by the IRS - there\\'s no profit there. All the net income from such a S-Corp is subject to SE tax, either through payroll or through your K-1. Claiming anything else would be lying and IRS is notorious for going after people doing that. Second - the reclassification issue. The reason employers classify employees as contractors is to avoid payroll taxes (which the IRS gets through Bob\\'s S-Corp, so it doesn\\'t care) and providing benefits (that is Bob\\'s problem, not the IRS). So in the scenario above, the IRS wouldn\\'t care whose employee Bob is since Bob\\'s S-Corp would have to pay all the same payroll taxes. The reclassification is an issue when employees are abused. See examples of Fedex drivers, where they\\'re classified as contractors and are not getting any benefits, spend their own money on the truck and maintenance, etc. The employees are the ones who sued for reclassification, but in this case the IRS would be interested as well since a huge chunk of payroll taxes was not paid (driver\\'s net is after car maintenance and payments, not before as it would be if he was salaried). So in your scenario reclassification is not as much a concern to Bob as his tax evasion scheme claiming earnings from performing personal services as \"\"profits from S-Corp\"\". A precedent to look at, as I mentioned elsewhere, would be the Watson v Commissioner case.\"'], 'doc_id': ['56718'], 'score': 27.055240631103516}\n",
      "{'body': ['\"Well, as you say, the instructions for form W-2 (for your employer to fill out) say You must report all employer contributions (including   an employee\\'s contributions through a cafeteria plan) to   an HSA in box 12 of Form W-2 with code W. Employer   contributions to an HSA that are not excludable from the   income of the employee also must be reported in boxes 1,   3, and 5. However, while it\\'s your employer\\'s job to fill out W-2 correctly, it\\'s only your job to file your taxes correctly. Especially as you say your box 1/3/5 income is correct, this isn\\'t too hard to do. You should file Form 8889 with your return and report the contributions on Line 9 as Employer Contributions. (And as you say, both what the employer contributed outright and what you had deducted from your pay are both Employer Contributions.) Be sure to keep your final pay stub for the year (or other documentation) showing that your employer did contribute that amount, just in case the IRS does end up questioning it for some reason.  If you really want to, you could try calling the IRS and letting them know that you have contributions that weren\\'t reported on your W-2 to see if they want to follow up with your employer about correcting their documentation, if your efforts have been fruitless. There\\'s even a FAQ page on the IRS site about how to contact them when your employer isn\\'t giving you a correct W-2 and how to fill out a Form 4852 instead of using the W-2, which I\\'d recommend if the amount of income listed was wrong or if there were some other more \"\"major\"\" problem with the form. Most likely, though, since it\\'s not going to affect the amount of tax anybody will pay, it\\'s not going to be at the top of their list. I would worry more filling out the forms you need to fill out correctly rather than worrying about the forms your employer isn\\'t filling out correctly.\"'], 'doc_id': ['152595'], 'score': 21.401996612548828}\n",
      "{'body': ['\"I agree that you should have received both a 1099 and a W2 from your employer. They may be reluctant to do that because some people believe that could trigger an IRS audit. The reason is that independent contractor vs employee is supposed to be defined by your job function, not by your choice. If you were a contractor and then switched to be an employee without changing your job description, then the IRS could claim that you should have always been an employee the entire time, and so should every one of the other contractors that work for that company with a similar job function. It\\'s a hornet\\'s nest that the employer may not want to poke. But that\\'s not your problem; what should you do about it? When you say \"\"he added my Federal and FICA W/H together\"\", do you mean that total appears in box 4 of your 1099? If so, it sounds like the employer is expecting you to re-pay the employer portion of FICA. Can you ask them if they actually paid it? If they did, then I don\\'t see them having a choice but to issue a W2, since the IRS would be expecting one. If they didn\\'t pay your FICA, then the amount this will cost you is 7.65% of what would have been your W2 wages. IMHO it would be reasonable for you to request that they send you a check for that extra amount. Note: even though that amount will be less than $600 and you won\\'t receive a 1099 in 2017 for it, legally you\\'ll still have to pay tax on that amount so I think a good estimate would be to call it 10% instead. Depending on your personality and your relationship with the employer, if they choose not to \"\"make you whole\"\", you could threaten to fill out form SS-8. Additional Info: (Thank you Bobson for bringing this up.) The situation you find yourself in is similar to the concept of \"\"Contract-to-Hire\"\". You start off as a contractor, and later convert to an employee. In order to avoid issuing a 1099 and W2 to the same person in a single tax year, companies typically utilize one of the following strategies: Your particular situation is closest to situation 2, but the reverse. Instead of retroactively calling you a W2 employee the entire time, your employer is cheating and attempting to classify you as a 1099 contractor the entire time. This is frowned upon by the IRS, as well as the employee since as you discovered it costs you more money in the form of employer FICA. From your description it sounds like your employer was trying to do you a favor and didn\\'t quite follow through with it. What they should have done was never switch you to W2 in the first place (if you really should have been a contractor), or they should have done the conversion properly without stringing you along.\"'], 'doc_id': ['232544'], 'score': 19.743473052978516}\n",
      "{'body': ['\"It seems I can make contributions as employee-elective, employer   match, or profit sharing; yet they all end up in the same 401k from my   money since I\\'m both the employer and employee in this situation. Correct. What does this mean for my allowed limits for each of the 3 types of   contributions? Are all 3 types deductible? \"\"Deductible\"\"? Nothing is deductible. First you need to calculate your \"\"compensation\"\". According to the IRS, it is this: compensation is your “earned income,” which is defined as net earnings   from self-employment after deducting both: So assuming (numbers for example, not real numbers) your business netted $30, and $500 is the SE tax (half). You contributed $17.5 (max) for yourself. Your compensation is thus 30-17.5-0.5=12. Your business can contribute up to 25% of that on your behalf, i.e.: $4K. Total that you can contribute in such a scenario is $21.5K. Whatever is contributed to a regular 401k is deferred, i.e.: excluded from income for the current year and taxed when you withdraw it from 401k (not \"\"deducted\"\" - deferred).\"'], 'doc_id': ['336917'], 'score': 19.743282318115234}\n",
      "{'body': ['\"If you are a telecommuter and in good terms with your employer, then all you need is contact your employer and explain your situation. Ask them for a short letter that indicates: \"\"1. they require you to work from a privately rented office (or from a home office for those who prefer working from home), 2. this is one of the terms of your employment, and, 3. they will not reimburse you for this expense.\"\" With this letter in your hand, you satisify both the \"\"convenience of employer\"\" test AND the deduction of the rent for your private office as a unreimbursed employee expense.  The IRS cannot expect your employer to open an office branch in your city just for your sake, nor can they expect you to commute to your employer\\'s city for work, which is an impossiblity considering the distance. Additionally, the IRS cannot \"\"force\"\" telecommuters to work from home. The key is to get a letter from your employer. You\\'d be surprised how easily they are willing to write such letter for you.\"'], 'doc_id': ['231990'], 'score': 19.593969345092773}\n",
      "{'body': [\"IRS Publication 969 gives all the details about HSA accounts and High Deductible plans: According to your question you are covered by a plan that can have an HSA.  There a few points of interest for you: Contributions to an HSA Any eligible individual can contribute to an HSA. For an employee's   HSA, the employee, the employee's employer, or both may contribute to   the employee's HSA in the same year. For an HSA established by a   self-employed (or unemployed) individual, the individual can   contribute. Family members or any other person may also make   contributions on behalf of an eligible individual. Contributions to an HSA must be made in cash. Contributions of stock   or property are not allowed. That means that yes you could make a contribution to the HSA. Or if in the future you were the provider of the insurance you could have a HSA. Limit on Contributions  For 2015, if you have self-only HDHP coverage, you can contribute up   to $3,350. If you have family HDHP coverage you can contribute up to   $6,650. It sounds like you have a family plan. Additional contribution.   If you are an eligible individual who is   age 55 or older at the end of your tax year, your contribution limit   is increased by $1,000. Rules for married people.   If either spouse has family HDHP coverage, both spouses are treated as having family HDHP coverage. If   each spouse has family coverage under a separate plan, the   contribution limit for 2014 is $6,550. You must reduce the limit on   contributions, before taking into account any additional   contributions, by the amount contributed to both spouses' Archer MSAs.   After that reduction, the contribution limit is split equally between   the spouses unless you agree on a different division. The rules for married people apply only if both spouses are eligible   individuals. If both spouses are 55 or older and not enrolled in Medicare, each   spouse's contribution limit is increased by the additional   contribution. If both spouses meet the age requirement, the total   contributions under family coverage cannot be more than $8,550. Each   spouse must make the additional contribution to his or her own HSA. Note: most of the document was written with 2014 numbers, but sometimes they mention 2015 numbers. If both are covered under a single plan it should be funded by the person that has the plan. They may get money from their employer. They may be able to have the employer cover the monthly fee that most HSA administrators charge. The non employee can make contributions to the account but care must be taken to make ure the annual limits aren't exceeded. HSA contributions from the employees paycheck may reduce the social security tax paid by the employee. If the non-employee is self employed you will have to see how the contribution impacts the social security situation for the couple. If the non-employee is 55 or older it can make sense to throw in that extra $1000. The employer may not allow it to come from the paycheck contributions because they wouldn't necessarily know the age of the spouse, they may put a maximum limit based on the age of the employee.\"], 'doc_id': ['42814'], 'score': 18.63853645324707}\n",
      "{'body': ['\"If they directly paid for your education, it is possible that it wouldn\\'t count as taxable income to you according to the IRS, depending on the amount: If you receive educational assistance benefits from your employer   under an educational assistance program, you can exclude up to $5,250   of those benefits each year. This means your employer should not   include those benefits with your wages, tips, and other compensation   shown in box 1 of your Form W-2. This also means that you do not have   to include the benefits on your income tax return. source: http://www.irs.gov/publications/p970/ch11.html However, your situation is a bit trickier since they are sort of retroactively paying for your education. I\\'d think the answer is \"\"Maybe\"\" and you should consult a tax professional since it is a gray area.  Update: On further research, I\\'m going to downgrade that \"\"Maybe\"\" to \"\"Probably not, but hopefully soon.\"\" The reason I am doing so is that there is a bill in Congress specifically to allow what you are asking, which presumes that you currently can\\'t do this.  The Bill is HR Bill 395 \"\"The Student Loan Employment Benefits Act of 2013\"\" sponsored by rep Steve Israel (D). It has co-sponsors from both parties, so that is promising for it\\'s passage, I suppose. However, it appears to be still early in the legislative process. If this issue is near/dear to your heart maybe you should call your congressman. Summary of the Bill: (from govtrack.us) Student Loan Employment Benefits Act of 2013 - Amends the Internal   Revenue Code to exclude from the gross income of an employee amounts   paid by an employer under a student loan payment assistance program.   Limits the amount of such exclusion to $5,000 in a taxable year. Requires an employer student loan payment assistance program to be a   separate written plan of an employer to provide employees with student   loan payment assistance.  Defines \"\"student loan payment assistance\"\" as   the payment of principal or interest on any indebtedness incurred by   an employee solely to pay qualified higher education expenses which   are paid or incurred within a reasonable time before or after such   indebtedness was incurred and are attributable to education furnished   during a period in which such employee was a student eligible for   federal financial assistance.\"'], 'doc_id': ['268294'], 'score': 18.421043395996094}\n",
      "{'body': [\"Edit: Let's forget about Wikipedia.  From the horse's mouth: The cafeteria plan rules require that a health FSA provide uniform coverage throughout the    coverage period (which is the period when the employee is covered by the plan).  See Proposed    Treasury Regulations Section 1.125-5(d).  Under the uniform coverage rules, the maximum amount    of reimbursement from a health FSA must be available at all times during the coverage period.  This    means that the employee’s entire health FSA election is available from the first day of the plan year    to reimburse qualified medical expenses incurred during the coverage period.  The cafeteria plan    may not, therefore, base its reimbursements to an employee on what that employee may have    contributed up to any particular date, such as the date the employee is laid-off or terminated.  Thus,    if an employee’s reimbursements from the health FSA exceed his contributions to the health FSA at    the time of lay-off or termination, the employer cannot recoup the difference from the employee. (emphasis added)  http://www.irs.gov/pub/irs-wd/1012060.pdf Uniform Coverage Rule The IRS has required that “health FSAS must qualify as accident or health plans. This means    that, in general, while the health coverage under the FSA need not be provided through a    commercial insurance contract, health FSAS must exhibit the risk-shifting and risk-distribution    characteristics of insurance.” This concept has led to the “uniform coverage” rule.  The uniform\\xadcoverage rule requires that the maximum amount of an employee’s projected    elective contributions to a health FSA must be available from the first day of the plan year to    reimburse the employee’s qualified medical expenses, regardless of the amount actually    contributed to the plan at the time that reimbursement is sought.  Citing proposed Treasury Regulations Section  the IRS General Counsel has    determined that:  “Under the uniform coverage rules, the maximum amount of reimbursement from    a health FSA must be available at all times during the coverage period. The    cafeteria plan may not, therefore, base its reimbursements to an employee on what    that employee may have contributed up to any particular date, such as the date the    employee is laid-off or terminated. Thus, if an employee’s reimbursements from    the health FSA exceed his contributions to the health FSA at the time of  or    termination, the employer cannot recoup the difference from the employee.”  This rule is unfair and also constitutes a disincentive to establishing FSAS because of the    exposure to out-of pocket expenditures arising from employees who leave the company.  NSBA believes that the uniform coverage rule should also be revised if the  or lose-   it rule is changed. Revising the use-it or lose-it rule while leaving the uniform coverage rule unchanged will introduce an inappropriate asymmetry to FSAS. An employer should    be allowed to deduct any negative amount arising from insuftîcient employee    contributions from a terminating partieipant’s last paycheck. http://www.ecfc.org/files/legislative-news/NSBA_(David_Burton).pdf (emphasis added)  Now, that's some fresh bitterness for you right there.  (Dated August 17, 2012)\"], 'doc_id': ['217748'], 'score': 17.66415786743164}\n",
      "{'body': ['\"In almost all cases, gifts from employers are considered taxable compensation, based on the employer-employee nature of the relationship. Furthermore, cash gifts are always considered to be intended as wages, regardless of how you receive the money. Furthermore, regardless of whether you expect to receive anything in return (such as contractual consideration) or whether the amounts are large enough to be declared as taxable personal gifts, it is likely that the IRS would consider these payments to be \"\"disguised wages\"\", as these payments would fail several tests that the IRS uses to determine whether benefits provided by the employer are non-taxable, including: I\\'d recommend reviewing IRS publication 535 here, as well as publication 15-B here for more on what constitutes taxable wages & benefits. It seems very unlikely to me that you could make a persuasive legal defense in which you claimed to be working full-time for $60.00 per year and just happened to be receiving large personal gifts of $130,000.00. In my opinion it seems much more likely that these payments would be found to be taxable wages for services rendered.\"'], 'doc_id': ['352120'], 'score': 17.59406852722168}\n"
     ]
    }
   ],
   "source": [
    "query = \"What are the consequences of IRS “reclassification” on both employer and employee?\"\n",
    "\n",
    "for hit in search_bm25(query, 10):\n",
    "    print(hit)"
   ]
  },
  {
   "cell_type": "code",
   "execution_count": null,
   "metadata": {},
   "outputs": [],
   "source": []
  }
 ],
 "metadata": {
  "kernelspec": {
   "display_name": "venv",
   "language": "python",
   "name": "python3"
  },
  "language_info": {
   "codemirror_mode": {
    "name": "ipython",
    "version": 3
   },
   "file_extension": ".py",
   "mimetype": "text/x-python",
   "name": "python",
   "nbconvert_exporter": "python",
   "pygments_lexer": "ipython3",
   "version": "3.11.4"
  }
 },
 "nbformat": 4,
 "nbformat_minor": 2
}
