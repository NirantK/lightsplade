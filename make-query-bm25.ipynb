{
 "cells": [
  {
   "cell_type": "code",
   "execution_count": 2,
   "metadata": {},
   "outputs": [],
   "source": [
    "import tantivy\n",
    "import json"
   ]
  },
  {
   "cell_type": "code",
   "execution_count": 2,
   "metadata": {},
   "outputs": [],
   "source": [
    "def read_queries():\n",
    "    with open(\"data/qrels.train.with_queries.tsv\", 'r') as file:\n",
    "        next(file)\n",
    "        for line in file:\n",
    "            _, doc_id, query = line.strip().split(\"\\t\")\n",
    "            yield int(doc_id), query"
   ]
  },
  {
   "cell_type": "code",
   "execution_count": 11,
   "metadata": {},
   "outputs": [],
   "source": [
    "queries = {}\n",
    "\n",
    "with open(\"data/quora/queries.jsonl\", \"r\") as file:\n",
    "    for line in file:\n",
    "        row = json.loads(line)\n",
    "        queries[row[\"_id\"]] = { **row, \"doc_ids\": [] }"
   ]
  },
  {
   "cell_type": "code",
   "execution_count": 12,
   "metadata": {},
   "outputs": [],
   "source": [
    "with open(\"data/quora/qrels/test.tsv\", \"r\") as file:\n",
    "    next(file)\n",
    "    for line in file:\n",
    "        query_id, doc_id, _ = line.strip().split(\"\\t\")\n",
    "        queries[query_id][\"doc_ids\"].append(doc_id)"
   ]
  },
  {
   "cell_type": "code",
   "execution_count": 3,
   "metadata": {},
   "outputs": [],
   "source": [
    "schema_builder = tantivy.SchemaBuilder()\n",
    "schema_builder.add_text_field(\"body\", stored=True)\n",
    "schema_builder.add_integer_field(\"doc_id\", stored=True, indexed=True)\n",
    "schema = schema_builder.build()\n",
    "index = tantivy.Index(schema, path=\"data/bm25.tantivy/\")\n"
   ]
  },
  {
   "cell_type": "code",
   "execution_count": 4,
   "metadata": {},
   "outputs": [],
   "source": [
    "searcher = index.searcher()"
   ]
  },
  {
   "cell_type": "code",
   "execution_count": 16,
   "metadata": {},
   "outputs": [],
   "source": [
    "import re\n",
    "def sanitize_query_for_tantivy(query):\n",
    "    # remove special characters: ()[]{}^\"~*?:\n",
    "    query = re.sub(r'[\\(\\)\\[\\]\\{\\}\\^\\\"\\~\\*\\?\\:]', ' ', query)\n",
    "    return query\n",
    "\n",
    "\n",
    "def search_bm25(query, limit):\n",
    "    query = index.parse_query(sanitize_query_for_tantivy(query), ['body'])\n",
    "    hits = searcher.search(query, limit).hits\n",
    "    docs = [\n",
    "        searcher.doc(doc_address)\n",
    "        for (score, doc_address) in hits\n",
    "    ]\n",
    "    return docs"
   ]
  },
  {
   "cell_type": "code",
   "execution_count": 20,
   "metadata": {},
   "outputs": [
    {
     "name": "stdout",
     "output_type": "stream",
     "text": [
      "Processing query: )what was the immediate impact of the success of the manhattan project?\n",
      "Processing query: _________ justice is designed to repair the harm to victim, the community and the offender caused by the offender criminal act. question 19 options:\n",
      "Processing query: what color is amber urine\n",
      "Processing query: is autoimmune hepatitis a bile acid synthesis disorder\n",
      "Processing query: elegxo meaning\n",
      "Processing query: how much does an average person make for tutoring\n",
      "Processing query: can you use a calculator on the compass test\n",
      "Processing query: what does physical medicine do\n",
      "Processing query: what does pending mean on listing\n",
      "Processing query: feeding rice cereal how many times per day\n",
      "Processing query: most dependable affordable cars\n",
      "Processing query: lithophile definition\n",
      "Processing query: what is a flail chest\n",
      "Processing query: what causes ear infection in adults\n",
      "Processing query: put yourself on child support in texas\n",
      "Processing query: mushrooms health benefits\n",
      "Processing query: what happens in a wrist sprain\n",
      "Processing query: example of culture &sensitivity results\n",
      "Processing query: what are rhetorical topics\n",
      "Processing query: mode of acquisition\n",
      "Processing query: how beautiful on the mountain are the feet\n",
      "Processing query: what is considered early fall\n",
      "Processing query: what causes elevated nitrate levels in aquariums\n",
      "Processing query: is an independent contractor hired by a company entitled to the same non-compete as a normal employee\n",
      "Processing query: lyme disease symptoms mood\n",
      "Processing query: what forms the epineurium\n",
      "Processing query: an alpha helix is an example of which protein structure?\n",
      "Processing query: aggregate demand curve\n",
      "Processing query: what county is ackley iowa in\n",
      "Processing query: weather in medellin, colombia\n",
      "Processing query: what is adiabatic?\n",
      "Processing query: how much does a lipid panel cost\n",
      "Processing query: what is a nrr noise reduction rating mean\n",
      "Processing query: fibroid symptoms after menopause\n",
      "Processing query: what are the requirements for neurologist\n",
      "Processing query: meaning of ..bann..\n",
      "Processing query: watts & browning engineers\n",
      "Processing query: how long was jack denison dorothy dandridge married\n",
      "Processing query: literal define\n",
      "Processing query: what does lease to purchase on car mean?\n",
      "Processing query: steering define\n",
      "Processing query: what does fb mean on a ring\n",
      "Processing query: what causes elevation in ast (sgot)\n",
      "Processing query: what is garlic used for\n",
      "Processing query: what is garlic used for\n",
      "Processing query: definition of legal term injunctive relief\n",
      "Processing query: how many seconds should check for breathing\n",
      "Processing query: what does the term bar none mean\n",
      "Processing query: what is a mini whoodle\n",
      "Processing query: is frida kahlo mexican\n",
      "Processing query: is frida kahlo mexican\n",
      "Processing query: what causes everything to taste sugary\n",
      "Processing query: what color is venus planet\n",
      "Processing query: what class lever is a nutcracker\n",
      "Processing query: what does the name halima mean\n",
      "Processing query: meds that can cause irregular heartbeat\n",
      "Processing query: how much does a ballet dancer make\n",
      "Processing query: highest enlisted marine female\n",
      "Processing query: cyrillic alphabet definition\n",
      "Processing query: spousal roth ira contribution after age 70\n",
      "Processing query: typical retirement fers\n",
      "Processing query: what does the name asia mean\n",
      "Processing query: what cell type is responsible for producing current?\n",
      "Processing query: what causes excel file corruption\n",
      "Processing query: infrax system\n",
      "Processing query: what is a virtual interface\n",
      "Processing query: what ethnicity is darren criss' mom?\n",
      "Processing query: how was the esperanza fire started\n",
      "Processing query: what does whistling dixie mean\n",
      "Processing query: how does a bump key work\n",
      "Processing query: is gwen stefani italian\n",
      "Processing query: what causes exhaust hanger to fail\n",
      "Processing query: what county is fine ny in\n",
      "Processing query: what can cause a metallic smell\n",
      "Processing query: what are garlic supplements good for\n",
      "Processing query: what county is lochbuie co in\n",
      "Processing query: vde definition\n",
      "Processing query: definition chemical\n",
      "Processing query: difference between hep b and c\n",
      "Processing query: what causes extreme swelling in just one leg?\n",
      "Processing query: what citation is used for outside sources\n",
      "Processing query: what are the drugs used for moderate sedation\n",
      "Processing query: what is hardie plank\n",
      "Processing query: what does ISF mean fluid do\n",
      "Processing query: what is a affidavit of support\n",
      "Processing query: syracuse minor league baseball\n",
      "Processing query: current fuel price in delhi\n",
      "Processing query: what causes eyelid itching and swelling\n",
      "Processing query: myers-briggs personality test what do the letters stand for\n",
      "Processing query: what is a good home remedy for hemorrhoids\n",
      "Processing query: what does the last name spratt mean\n",
      "Processing query: element al\n",
      "Processing query: what causes feelings of detachment from reality,\n",
      "Processing query: concrete walkway cost per square foot\n",
      "Processing query: armistead meaning\n",
      "Processing query: ross cameron age\n",
      "Processing query: reasons why nuclear power is bad\n",
      "Processing query: what does dealer invoice price mean\n",
      "Processing query: use pi as wired vpn router\n",
      "Processing query: singular noun definition for kids\n",
      "Recall @ 100: 50 out of 101 = 0.49504950495049505\n"
     ]
    }
   ],
   "source": [
    "n = 0\n",
    "hits = 0\n",
    "limit = 100\n",
    "number_of_queries = 100\n",
    "\n",
    "for doc_id, query in read_queries():\n",
    "    n += 1\n",
    "    if n > number_of_queries:\n",
    "        break\n",
    "    print(f\"Processing query: {query}\")\n",
    "    result = search_bm25(query, limit)\n",
    "    found_ids = []\n",
    "\n",
    "    for hit in result:\n",
    "        found_ids.append(hit[\"doc_id\"][0])\n",
    "\n",
    "    if doc_id in found_ids:\n",
    "        hits += 1\n",
    "\n",
    "print(f\"Recall @ {limit}: {hits} out of {n} = {hits/n}\")\n"
   ]
  }
 ],
 "metadata": {
  "kernelspec": {
   "display_name": "venv",
   "language": "python",
   "name": "python3"
  },
  "language_info": {
   "codemirror_mode": {
    "name": "ipython",
    "version": 3
   },
   "file_extension": ".py",
   "mimetype": "text/x-python",
   "name": "python",
   "nbconvert_exporter": "python",
   "pygments_lexer": "ipython3",
   "version": "3.11.4"
  }
 },
 "nbformat": 4,
 "nbformat_minor": 2
}
