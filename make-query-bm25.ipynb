{
 "cells": [
  {
   "cell_type": "code",
   "execution_count": 2,
   "metadata": {},
   "outputs": [],
   "source": [
    "import tantivy\n",
    "import json"
   ]
  },
  {
   "cell_type": "code",
   "execution_count": 3,
   "metadata": {},
   "outputs": [],
   "source": [
    "schema_builder = tantivy.SchemaBuilder()\n",
    "schema_builder.add_text_field(\"body\", stored=True)\n",
    "schema_builder.add_integer_field(\"doc_id\", stored=True, indexed=True)\n",
    "schema = schema_builder.build()\n",
    "index = tantivy.Index(schema, path=\"data/quora/bm25.tantivy/\")\n"
   ]
  },
  {
   "cell_type": "code",
   "execution_count": 4,
   "metadata": {},
   "outputs": [],
   "source": [
    "searcher = index.searcher()"
   ]
  },
  {
   "cell_type": "code",
   "execution_count": 11,
   "metadata": {},
   "outputs": [],
   "source": [
    "import re\n",
    "def sanitize_query_for_tantivy(query):\n",
    "    # remove special characters: ()[]{}^\"~*?:\n",
    "    query = re.sub(r'[\\(\\)\\[\\]\\{\\}\\^\\\"\\~\\*\\?\\:]', ' ', query)\n",
    "    return query\n",
    "\n",
    "\n",
    "def search_bm25(query, limit):\n",
    "    query = index.parse_query(sanitize_query_for_tantivy(query), ['body'])\n",
    "    hits = searcher.search(query, limit).hits\n",
    "    docs = [\n",
    "        {\n",
    "            \"body\": searcher.doc(doc_address)[\"body\"],\n",
    "            \"doc_id\": searcher.doc(doc_address)[\"doc_id\"],\n",
    "            \"score\": score\n",
    "        }\n",
    "        for (score, doc_address) in hits\n",
    "    ]\n",
    "    return docs"
   ]
  },
  {
   "cell_type": "code",
   "execution_count": 13,
   "metadata": {},
   "outputs": [
    {
     "name": "stdout",
     "output_type": "stream",
     "text": [
      "{'body': ['Which fields do you think are more related Mathematics and Computer Science or Mathematics and Physics?'], 'doc_id': [213665], 'score': 22.583139419555664}\n",
      "{'body': ['What is science of art and art of science?'], 'doc_id': [506220], 'score': 19.875497817993164}\n",
      "{'body': ['What do you think of fringe science?'], 'doc_id': [293206], 'score': 18.141460418701172}\n",
      "{'body': ['Do you think forestry is a natural science or a social science?'], 'doc_id': [229662], 'score': 18.057933807373047}\n",
      "{'body': ['Is math an art or a science?'], 'doc_id': [2022], 'score': 17.55032730102539}\n",
      "{'body': ['Is sociology a science or an art?'], 'doc_id': [39093], 'score': 17.55032730102539}\n",
      "{'body': ['Is communication an art or a science?'], 'doc_id': [103576], 'score': 17.55032730102539}\n",
      "{'body': ['Is architecture a science or an art?'], 'doc_id': [328335], 'score': 17.55032730102539}\n",
      "{'body': ['In general, what do you think about art?'], 'doc_id': [206351], 'score': 17.354997634887695}\n",
      "{'body': ['Is history an art or a science? Why?'], 'doc_id': [97293], 'score': 16.84410858154297}\n"
     ]
    }
   ],
   "source": [
    "query = \"Do you think of mathematics as art or science?\"\n",
    "\n",
    "for hit in search_bm25(query, 10):\n",
    "    print(hit)"
   ]
  },
  {
   "cell_type": "code",
   "execution_count": null,
   "metadata": {},
   "outputs": [],
   "source": []
  }
 ],
 "metadata": {
  "kernelspec": {
   "display_name": "venv",
   "language": "python",
   "name": "python3"
  },
  "language_info": {
   "codemirror_mode": {
    "name": "ipython",
    "version": 3
   },
   "file_extension": ".py",
   "mimetype": "text/x-python",
   "name": "python",
   "nbconvert_exporter": "python",
   "pygments_lexer": "ipython3",
   "version": "3.11.4"
  }
 },
 "nbformat": 4,
 "nbformat_minor": 2
}
