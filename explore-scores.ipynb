{
 "cells": [
  {
   "cell_type": "code",
   "execution_count": 1,
   "metadata": {},
   "outputs": [
    {
     "name": "stderr",
     "output_type": "stream",
     "text": [
      "/home/generall/projects/vector_search/tmp/msmacro/venv/lib/python3.11/site-packages/tqdm/auto.py:21: TqdmWarning: IProgress not found. Please update jupyter and ipywidgets. See https://ipywidgets.readthedocs.io/en/stable/user_install.html\n",
      "  from .autonotebook import tqdm as notebook_tqdm\n"
     ]
    }
   ],
   "source": [
    "from inference import SparseModel"
   ]
  },
  {
   "cell_type": "code",
   "execution_count": 2,
   "metadata": {},
   "outputs": [
    {
     "name": "stderr",
     "output_type": "stream",
     "text": [
      "/home/generall/projects/vector_search/tmp/msmacro/venv/lib/python3.11/site-packages/torch/cuda/__init__.py:141: UserWarning: CUDA initialization: CUDA unknown error - this may be due to an incorrectly set up environment, e.g. changing env variable CUDA_VISIBLE_DEVICES after program start. Setting the available devices to be zero. (Triggered internally at ../c10/cuda/CUDAFunctions.cpp:108.)\n",
      "  return torch._C._cuda_getDeviceCount() > 0\n"
     ]
    }
   ],
   "source": [
    "model = SparseModel()"
   ]
  },
  {
   "cell_type": "code",
   "execution_count": 3,
   "metadata": {},
   "outputs": [],
   "source": [
    "QDRANT_URL='http://localhost:6333'\n",
    "QDRANT_API_KEY=''\n",
    "COLLECTION_NAME=\"fiqa\""
   ]
  },
  {
   "cell_type": "code",
   "execution_count": 12,
   "metadata": {},
   "outputs": [],
   "source": [
    "import math\n",
    "import numpy as np"
   ]
  },
  {
   "cell_type": "code",
   "execution_count": null,
   "metadata": {},
   "outputs": [],
   "source": []
  },
  {
   "cell_type": "code",
   "execution_count": 79,
   "metadata": {},
   "outputs": [],
   "source": [
    "\n",
    "# Split scores into 3 groups\n",
    "# Group with highest score is assigned with value 3\n",
    "# Group with second highest score is assigned with value 2\n",
    "# Group with lowest score is assigned with value 1\n",
    "def rescore_vector(vector):\n",
    "    if len(vector) < 4:\n",
    "        return np.ones_like(vector) * 2\n",
    "\n",
    "\n",
    "    sorted_vector = np.array(np.sort(vector))\n",
    "    diff = np.diff(sorted_vector)\n",
    "\n",
    "    \n",
    "\n",
    "    # Calculate biggest and second biggest difference\n",
    "    gap_ids = np.argsort(diff)\n",
    "\n",
    "    top_gap_id = gap_ids[-1]\n",
    "    second_gap_id = gap_ids[-2]\n",
    "\n",
    "    new_vector = np.ones_like(vector)\n",
    "\n",
    "    new_vector[vector > sorted_vector[second_gap_id]] += 1\n",
    "    new_vector[vector > sorted_vector[top_gap_id]] += 1\n",
    "\n",
    "    return new_vector\n"
   ]
  },
  {
   "cell_type": "code",
   "execution_count": 5,
   "metadata": {},
   "outputs": [],
   "source": [
    "def rescore_vector(vector: dict) -> dict:\n",
    "    new_vector = {}\n",
    "\n",
    "    sorted_vector = sorted(vector.items(), key=lambda x: x[1], reverse=True)\n",
    "\n",
    "    for num, (idx, _value) in enumerate(sorted_vector):\n",
    "        new_vector[idx] = 1. # math.log(1./(num + 1) + 1.) # * value\n",
    "    return new_vector\n"
   ]
  },
  {
   "cell_type": "code",
   "execution_count": 7,
   "metadata": {},
   "outputs": [],
   "source": [
    "def conver_sparse_vector(sparse_vector: dict) -> models.SparseVector:\n",
    "    indices = []\n",
    "    values = []\n",
    "\n",
    "    for (idx, value) in sparse_vector.items():\n",
    "        indices.append(int(idx))\n",
    "        values.append(value)\n",
    "\n",
    "    return models.SparseVector(\n",
    "        indices=indices,\n",
    "        values=values\n",
    "    )"
   ]
  },
  {
   "cell_type": "code",
   "execution_count": 90,
   "metadata": {},
   "outputs": [],
   "source": [
    "query = \"What are the consequences of IRS “reclassification” on both employer and employee?\"\n",
    "query = \"Is math an art or a science?\"\n",
    "query = \"Should a retail trader bother about reading SEC filings?\"\n",
    "\n",
    "sparse_vector = next(model.encode([query]))\n",
    "sparse_vector_qdrant = conver_sparse_vector(sparse_vector)\n"
   ]
  },
  {
   "cell_type": "code",
   "execution_count": 91,
   "metadata": {},
   "outputs": [
    {
     "name": "stdout",
     "output_type": "stream",
     "text": [
      "should: 0.024150477722287178\n",
      "a: 0.029489323496818542\n",
      "retail: 0.11483627557754517\n",
      "trader: 0.11542164534330368\n",
      "bother: 0.02308724820613861\n",
      "about: 0.024228611961007118\n",
      "reading: 0.05111318826675415\n",
      "sec: 0.15624363720417023\n",
      "filing: 0.0665680393576622\n",
      "##s: 0.025189092382788658\n",
      "?: 0.031020402908325195\n"
     ]
    }
   ],
   "source": [
    "for (idx, value) in zip(sparse_vector_qdrant.indices, sparse_vector_qdrant.values):\n",
    "    print(f\"{model.invert_vocab[idx]}: {value}\")"
   ]
  },
  {
   "cell_type": "code",
   "execution_count": 92,
   "metadata": {},
   "outputs": [
    {
     "name": "stdout",
     "output_type": "stream",
     "text": [
      "should: 1.0\n",
      "a: 1.0\n",
      "retail: 2.0\n",
      "trader: 2.0\n",
      "bother: 1.0\n",
      "about: 1.0\n",
      "reading: 1.0\n",
      "sec: 3.0\n",
      "filing: 1.0\n",
      "##s: 1.0\n",
      "?: 1.0\n"
     ]
    }
   ],
   "source": [
    "for (idx, value) in zip(sparse_vector_qdrant.indices, rescore_vector(sparse_vector_qdrant.values)):\n",
    "    print(f\"{model.invert_vocab[idx]}: {value}\")"
   ]
  },
  {
   "cell_type": "code",
   "execution_count": 23,
   "metadata": {},
   "outputs": [],
   "source": [
    "std = np.std(sparse_vector_qdrant.values)\n",
    "mean = np.mean(sparse_vector_qdrant.values)\n",
    "\n",
    "new_values = np.ones_like(sparse_vector_qdrant.values) * 2\n",
    "\n",
    "new_values[new_values < mean - std/2] = 3\n",
    "new_values[new_values > mean + std/2] = 1\n"
   ]
  },
  {
   "cell_type": "code",
   "execution_count": null,
   "metadata": {},
   "outputs": [],
   "source": []
  },
  {
   "cell_type": "code",
   "execution_count": 25,
   "metadata": {},
   "outputs": [
    {
     "name": "stdout",
     "output_type": "stream",
     "text": [
      "is: 1.0\n",
      "math: 1.0\n",
      "an: 1.0\n",
      "art: 1.0\n",
      "or: 1.0\n",
      "a: 1.0\n",
      "science: 1.0\n",
      "?: 1.0\n"
     ]
    }
   ],
   "source": [
    "for (idx, value) in zip(sparse_vector_qdrant.indices, new_values):\n",
    "    print(f\"{model.invert_vocab[idx]}: {value}\")"
   ]
  },
  {
   "cell_type": "code",
   "execution_count": 82,
   "metadata": {},
   "outputs": [
    {
     "name": "stdout",
     "output_type": "stream",
     "text": [
      "is: 0.027513518929481506\n",
      "math: 0.2162715643644333\n",
      "an: 0.02588239312171936\n",
      "art: 0.1304435133934021\n",
      "or: 0.02149391360580921\n",
      "a: 0.021214833483099937\n",
      "science: 0.11642558127641678\n",
      "?: 0.028545841574668884\n"
     ]
    }
   ],
   "source": [
    "query = \"Is math an art or a science?\"\n",
    "sv = next(model.encode([query]))\n",
    "sv = conver_sparse_vector(sv)\n",
    "\n",
    "for (idx, value) in zip(sv.indices, sv.values):\n",
    "    print(f\"{model.invert_vocab[idx]}: {value}\")\n"
   ]
  }
 ],
 "metadata": {
  "kernelspec": {
   "display_name": "venv",
   "language": "python",
   "name": "python3"
  },
  "language_info": {
   "codemirror_mode": {
    "name": "ipython",
    "version": 3
   },
   "file_extension": ".py",
   "mimetype": "text/x-python",
   "name": "python",
   "nbconvert_exporter": "python",
   "pygments_lexer": "ipython3",
   "version": "3.11.4"
  }
 },
 "nbformat": 4,
 "nbformat_minor": 2
}
