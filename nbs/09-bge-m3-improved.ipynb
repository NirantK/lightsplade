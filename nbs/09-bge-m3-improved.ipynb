{
 "cells": [
  {
   "cell_type": "code",
   "execution_count": 50,
   "metadata": {},
   "outputs": [
    {
     "name": "stdout",
     "output_type": "stream",
     "text": [
      "The autoreload extension is already loaded. To reload it, use:\n",
      "  %reload_ext autoreload\n"
     ]
    }
   ],
   "source": [
    "%load_ext autoreload\n",
    "%autoreload 2\n",
    "\n",
    "import json\n",
    "import os\n",
    "from collections import Counter\n",
    "from typing import Dict, Iterable\n",
    "\n",
    "import numpy as np\n",
    "import pandas as pd\n",
    "from datasets import Dataset, load_dataset\n",
    "from dotenv import load_dotenv\n",
    "from qdrant_client import QdrantClient, models\n",
    "from qdrant_sparse_tools import convert_sparse_vector\n",
    "from retokenize import (\n",
    "    aggregate_weights_idf,\n",
    "    reconstruct_bpe,å\n",
    "    stem_words,\n",
    ")\n",
    "\n",
    "from typing import List\n",
    "import sys\n",
    "from loguru import logger\n",
    "from tqdm.auto import tqdm\n",
    "from transformers import AutoTokenizer, AutoModel\n",
    "from FlagEmbedding import BGEM3FlagModel"
   ]
  },
  {
   "cell_type": "code",
   "execution_count": 2,
   "metadata": {},
   "outputs": [],
   "source": [
    "load_dotenv()\n",
    "# Disable debug logging\n",
    "\n",
    "logger.add(sys.stderr, level=\"INFO\")\n",
    "\n",
    "canonical_dataset_name = \"scifact\"\n",
    "dataset_name = \"scifact-bge-m3-sparse-vectors\"\n",
    "col_name = \"bge_m3_sparse_vector\"\n",
    "collection_name = f\"{dataset_name}-{col_name}-retok\"\n",
    "model_name = \"BAAI/bge-m3\""
   ]
  },
  {
   "cell_type": "code",
   "execution_count": 3,
   "metadata": {},
   "outputs": [
    {
     "data": {
      "text/plain": [
       "'{\"39176\": 0.1639404296875, \"21094\": 0.033599853515625, \"159958\": 0.1788330078125, \"119856\": 0.1939697265625, \"35011\": 0.1964111328125, \"26866\": 0.2216796875, \"70\": 0.011077880859375, \"168698\": 0.161865234375, \"14135\": 0.04254150390625, \"78574\": 0.1883544921875, \"831\": 0.051239013671875, \"52490\": 0.16845703125, \"8231\": 0.067626953125, \"70760\": 0.1358642578125, \"34754\": 0.1903076171875, \"136\": 0.01042938232421875, \"16750\": 0.024810791015625, \"23\": 0.01120758056640625, \"123309\": 0.1346435546875, \"164462\": 0.1981201171875, \"13315\": 0.131591796875, \"44954\": 0.168701171875, \"45755\": 0.1553955078125, \"92105\": 0.1864013671875, \"9\": 0.01116943359375, \"165598\": 0.1431884765625, \"297\": 0.010650634765625, \"214706\": 0.0733642578125, \"3332\": 0.016510009765625, \"191\": 0.01358795166015625, \"7154\": 0.00965118408203125, \"86898\": 0.06939697265625, \"177\": 0.0108184814453125, \"594\": 0.03509521484375, \"16625\": 0.197265625, \"16\": 0.0110626220703125, \"944\": 0.052734375, \"3956\": 0.0084228515625, \"1492\": 0.15283203125, \"4970\": 0.1644287109375, \"114137\": 0.157470703125, \"190659\": 0.030487060546875, \"72350\": 0.1312255859375, \"173676\": 0.300537109375, \"552\": 0.07379150390625, \"13\": 0.0109710693359375, \"24500\": 0.1395263671875, \"45964\": 0.0036983489990234375, \"4\": 0.011260986328125, \"74481\": 0.09429931640625, \"67\": 0.01102447509765625, \"35845\": 0.18408203125, \"1866\": 0.1240234375, \"991\": 0.059906005859375, \"29813\": 0.2294921875, \"53\": 0.01084136962890625, \"2256\": 0.07647705078125, \"2182\": 0.01110076904296875, \"17262\": 0.07257080078125, \"157955\": 0.11798095703125, \"109197\": 0.191162109375, \"479\": 0.11041259765625, \"32166\": 0.22314453125, \"15\": 0.0109710693359375, \"19\": 0.007411956787109375, \"2203\": 0.01097869873046875, \"729\": 0.07940673828125, \"4393\": 0.0728759765625, \"145048\": 0.2222900390625, \"49413\": 0.0479736328125, \"202120\": 0.0888671875, \"93425\": 0.1439208984375, \"111\": 0.0111846923828125, \"170176\": 0.2430419921875, \"2481\": 0.1390380859375, \"39395\": 0.0487060546875, \"700\": 0.08599853515625, \"41311\": 0.12744140625, \"209\": 0.048736572265625, \"3542\": 0.0108795166015625, \"22282\": 0.06719970703125, \"71\": 0.01125335693359375, \"10\": 0.01105499267578125, \"17932\": 0.0885009765625, \"1733\": 0.047821044921875, \"99\": 0.0111083984375, \"13579\": 0.1953125, \"9879\": 0.1702880859375, \"29459\": 0.1761474609375, \"1372\": 0.1883544921875, \"148\": 0.0596923828125, \"92\": 0.06829833984375, \"509\": 0.0100555419921875, \"11192\": 0.061279296875, \"79875\": 0.08502197265625, \"11948\": 0.08941650390625, \"39\": 0.01090240478515625, \"45792\": 0.00933074951171875, \"4432\": 0.08441162109375, \"227204\": 0.17333984375, \"154732\": 0.0090789794921875, \"47\": 0.0106964111328125, \"39225\": 0.162353515625, \"400\": 0.062408447265625, \"6492\": 0.047821044921875, \"70796\": 0.1552734375, \"150143\": 0.1650390625, \"4240\": 0.07659912109375, \"11044\": 0.072509765625, \"35066\": 0.0104217529296875, \"15044\": 0.01047515869140625, \"20028\": 0.01029205322265625, \"21373\": 0.086181640625, \"119475\": 0.008392333984375, \"231839\": 0.13818359375, \"77546\": 0.146728515625, \"20903\": 0.12060546875, \"42\": 0.01117706298828125, \"127319\": 0.1744384765625, \"678\": 0.0109405517578125, \"117396\": 0.025146484375, \"89931\": 0.130859375, \"3501\": 0.008514404296875, \"1914\": 0.12408447265625, \"91977\": 0.0919189453125, \"617\": 0.01123046875, \"615\": 0.010650634765625, \"1837\": 0.01062774658203125, \"194692\": 0.01126861572265625, \"89678\": 0.0265045166015625, \"1126\": 0.01122283935546875, \"915\": 0.0110321044921875, \"60978\": 0.01024627685546875, \"92319\": 0.12261962890625, \"58555\": 0.009979248046875, \"154186\": 0.0019407272338867188, \"148477\": 0.0716552734375, \"6\": 0.0110626220703125, \"122887\": 0.002315521240234375, \"8892\": 0.01103973388671875, \"17596\": 0.0077362060546875, \"29094\": 0.01113128662109375, \"6746\": 0.01122283935546875, \"74\": 0.01128387451171875, \"151152\": 0.0341796875, \"1398\": 0.01102447509765625, \"12465\": 0.01122283935546875, \"97109\": 0.01113128662109375, \"757\": 0.01102447509765625, \"5\": 0.01108551025390625, \"110156\": 0.01325225830078125, \"3775\": 0.045745849609375, \"1176\": 0.007965087890625, \"37755\": 0.1085205078125, \"27686\": 0.01065826416015625, \"7\": 0.01117706298828125, \"88591\": 0.1160888671875, \"11782\": 0.10772705078125, \"232\": 0.0697021484375, \"316\": 0.042694091796875, \"75693\": 0.11834716796875, \"390\": 0.01073455810546875, \"237\": 0.011077880859375, \"168360\": 0.00615692138671875, \"60212\": 0.146240234375, \"53702\": 0.1529541015625, \"581\": 0.010986328125, \"450\": 0.0112152099609375, \"88779\": 0.046142578125, \"5844\": 0.01117706298828125, \"164031\": 0.09832763671875, \"7401\": 0.145751953125, \"276\": 0.016021728515625, \"149201\": 0.08697509765625, \"3934\": 0.0067291259765625, \"36716\": 0.07403564453125, \"82451\": 0.005756378173828125, \"38043\": 0.1378173828125}'"
      ]
     },
     "execution_count": 3,
     "metadata": {},
     "output_type": "execute_result"
    }
   ],
   "source": [
    "ds = load_dataset(f\"nirantk/{dataset_name}\", split=\"corpus\")\n",
    "ds[col_name][0]"
   ]
  },
  {
   "cell_type": "code",
   "execution_count": 4,
   "metadata": {},
   "outputs": [],
   "source": [
    "sparse_vectors = [json.loads(x) for x in ds[col_name]]"
   ]
  },
  {
   "cell_type": "markdown",
   "metadata": {},
   "source": [
    "### Change schema to Qdrant Sparse Vector\n",
    "\n",
    "1. Create vocab and reverse vocab from Tokenizer corresponding to the model\n",
    "2. Invert the integer index to token string\n",
    "3. Make lists from the keys and values of the vocab dictionary"
   ]
  },
  {
   "cell_type": "code",
   "execution_count": 5,
   "metadata": {},
   "outputs": [],
   "source": [
    "tokenizer = AutoTokenizer.from_pretrained(model_name)\n",
    "vocab = tokenizer.get_vocab()\n",
    "reverse_vocab = {v: k for k, v in vocab.items()}"
   ]
  },
  {
   "cell_type": "code",
   "execution_count": 6,
   "metadata": {},
   "outputs": [],
   "source": [
    "raw_vectors = []\n",
    "for sv in sparse_vectors:\n",
    "    raw_vectors.append(\n",
    "        {\n",
    "            \"tokens\": [reverse_vocab[int(key)] for key in sv.keys()],\n",
    "            \"weights\": list(sv.values()),\n",
    "        }\n",
    "    )"
   ]
  },
  {
   "cell_type": "code",
   "execution_count": 7,
   "metadata": {},
   "outputs": [
    {
     "data": {
      "text/plain": [
       "('Alterations of the architecture of cerebral white matter in the developing human brain can affect cortical development and result in functional disabilities. A line scan diffusion-weighted magnetic resonance imaging (MRI) sequence with diffusion tensor analysis was applied to measure the apparent diffusion coefficient, to calculate relative anisotropy, and to delineate three-dimensional fiber architecture in cerebral white matter in preterm (n = 17) and full-term infants (n = 7). To assess effects of prematurity on cerebral white matter development, early gestation preterm infants (n = 10) were studied a second time at term. In the central white matter the mean apparent diffusion coefficient at 28 wk was high, 1.8 microm2/ms, and decreased toward term to 1.2 microm2/ms. In the posterior limb of the internal capsule, the mean apparent diffusion coefficients at both times were similar (1.2 versus 1.1 microm2/ms). Relative anisotropy was higher the closer birth was to term with greater absolute values in the internal capsule than in the central white matter. Preterm infants at term showed higher mean diffusion coefficients in the central white matter (1.4 +/- 0.24 versus 1.15 +/- 0.09 microm2/ms, p = 0.016) and lower relative anisotropy in both areas compared with full-term infants (white matter, 10.9 +/- 0.6 versus 22.9 +/- 3.0%, p = 0.001; internal capsule, 24.0 +/- 4.44 versus 33.1 +/- 0.6% p = 0.006). Nonmyelinated fibers in the corpus callosum were visible by diffusion tensor MRI as early as 28 wk; full-term and preterm infants at term showed marked differences in white matter fiber organization. The data indicate that quantitative assessment of water diffusion by diffusion tensor MRI provides insight into microstructural development in cerebral white matter in living infants.',\n",
       " ['ance',\n",
       "  '▁imagin',\n",
       "  'g',\n",
       "  'M',\n",
       "  'RI',\n",
       "  ')',\n",
       "  'que',\n",
       "  'nce',\n",
       "  '▁ten',\n",
       "  'sor',\n",
       "  '▁analysis',\n",
       "  '▁applied',\n",
       "  '▁measure',\n",
       "  '▁apparent',\n",
       "  '▁co',\n",
       "  'e',\n",
       "  'ffi',\n",
       "  'cient',\n",
       "  ',',\n",
       "  '▁calcula'],\n",
       " [0.00965118408203125,\n",
       "  0.06939697265625,\n",
       "  0.0108184814453125,\n",
       "  0.03509521484375,\n",
       "  0.197265625,\n",
       "  0.0110626220703125,\n",
       "  0.052734375,\n",
       "  0.0084228515625,\n",
       "  0.15283203125,\n",
       "  0.1644287109375,\n",
       "  0.157470703125,\n",
       "  0.030487060546875,\n",
       "  0.1312255859375,\n",
       "  0.300537109375,\n",
       "  0.07379150390625,\n",
       "  0.0109710693359375,\n",
       "  0.1395263671875,\n",
       "  0.0036983489990234375,\n",
       "  0.011260986328125,\n",
       "  0.09429931640625])"
      ]
     },
     "execution_count": 7,
     "metadata": {},
     "output_type": "execute_result"
    }
   ],
   "source": [
    "ds[\"text\"][0], raw_vectors[0][\"tokens\"][30:50], raw_vectors[0][\"weights\"][30:50]"
   ]
  },
  {
   "cell_type": "markdown",
   "metadata": {},
   "source": [
    "## Recombine and Retokenize"
   ]
  },
  {
   "cell_type": "code",
   "execution_count": 8,
   "metadata": {},
   "outputs": [
    {
     "data": {
      "text/plain": [
       "['Alterations',\n",
       " 'architecture',\n",
       " 'cerebral',\n",
       " 'white',\n",
       " 'matter',\n",
       " 'the',\n",
       " 'developing',\n",
       " 'human',\n",
       " 'brain']"
      ]
     },
     "execution_count": 8,
     "metadata": {},
     "output_type": "execute_result"
    }
   ],
   "source": [
    "reconstruct_bpe(raw_vectors[0][\"tokens\"][:10])"
   ]
  },
  {
   "cell_type": "code",
   "execution_count": 9,
   "metadata": {},
   "outputs": [],
   "source": [
    "from retokenize import aggregate_weights_idf_k_b"
   ]
  },
  {
   "cell_type": "code",
   "execution_count": 20,
   "metadata": {},
   "outputs": [],
   "source": [
    "# import nltk\n",
    "\n",
    "# stopwords = nltk.corpus.stopwords.words(\"english\")\n",
    "# stopwords"
   ]
  },
  {
   "cell_type": "code",
   "execution_count": 57,
   "metadata": {},
   "outputs": [
    {
     "data": {
      "application/vnd.jupyter.widget-view+json": {
       "model_id": "401aba7314aa49efabbcfcb50807710a",
       "version_major": 2,
       "version_minor": 0
      },
      "text/plain": [
       "  0%|          | 0/5183 [00:00<?, ?it/s]"
      ]
     },
     "metadata": {},
     "output_type": "display_data"
    }
   ],
   "source": [
    "def process_text(raw_vectors):\n",
    "    rescored_vectors = []\n",
    "    # logger.level(\"DEBUG\")\n",
    "    \n",
    "    for source_sparse_vector in tqdm(raw_vectors):\n",
    "        reconstructed_words = reconstruct_bpe(source_sparse_vector[\"tokens\"])\n",
    "        # logger.debug(f\"Reconstructed words: {reconstructed_words}\")\n",
    "        stemmed_words = stem_words(reconstructed_words)\n",
    "        # logger.debug(f\"Stemmed words: {stemmed_words}\")\n",
    "        aggregated_weights = aggregate_weights_idf_k_b(stemmed_words, source_sparse_vector[\"tokens\"], source_sparse_vector[\"weights\"])\n",
    "        # logger.debug(f\"Aggregated weights: {aggregated_weights}\")\n",
    "        # break\n",
    "        rescored_vectors.append(aggregated_weights)\n",
    "    return rescored_vectors\n",
    "\n",
    "rescored_vectors = process_text(raw_vectors)"
   ]
  },
  {
   "cell_type": "code",
   "execution_count": 33,
   "metadata": {},
   "outputs": [
    {
     "data": {
      "text/plain": [
       "array([ 57.,  89., 137.])"
      ]
     },
     "execution_count": 33,
     "metadata": {},
     "output_type": "execute_result"
    }
   ],
   "source": [
    "# Find length of each sparse vector\n",
    "vector_lengths = [len(sv) for sv in rescored_vectors]\n",
    "\n",
    "# Percentile of the lengths\n",
    "np.percentile(vector_lengths, [10, 50, 90])"
   ]
  },
  {
   "cell_type": "code",
   "execution_count": 34,
   "metadata": {},
   "outputs": [],
   "source": [
    "# len(rescored_vectors), rescored_vectors[0]"
   ]
  },
  {
   "cell_type": "markdown",
   "metadata": {},
   "source": [
    "## Upload to Qdrant"
   ]
  },
  {
   "cell_type": "code",
   "execution_count": 35,
   "metadata": {},
   "outputs": [],
   "source": [
    "client = QdrantClient(url=os.getenv(\"QDRANT_URL\"), api_key=os.getenv(\"QDRANT_API_KEY\"))\n",
    "\n",
    "def is_empty(client: QdrantClient, collection_name: str) -> bool:\n",
    "    return client.get_collection(collection_name).points_count == 0\n",
    "\n",
    "\n",
    "# client.delete_collection(collection_name)"
   ]
  },
  {
   "cell_type": "code",
   "execution_count": 36,
   "metadata": {},
   "outputs": [],
   "source": [
    "def reset_collection(client: QdrantClient, collection_name: str):\n",
    "    if client.collection_exists(collection_name):\n",
    "        client.delete_collection(collection_name)\n",
    "    client.create_collection(\n",
    "        collection_name=collection_name,\n",
    "        vectors_config={},\n",
    "        sparse_vectors_config={\n",
    "            col_name: models.SparseVectorParams(\n",
    "                index=models.SparseIndexParams(on_disk=False)\n",
    "            )\n",
    "        },\n",
    "    )"
   ]
  },
  {
   "cell_type": "code",
   "execution_count": 37,
   "metadata": {},
   "outputs": [
    {
     "data": {
      "text/plain": [
       "{'ate': 4.696322767553414,\n",
       " 'line': 2.7630617011650673,\n",
       " 'develop': 1.8087965004176547,\n",
       " 'assess': 1.2705755599546529,\n",
       " 'toward': 0.9271178923354834,\n",
       " 'effect': 0.7608069946927775,\n",
       " 'term': 0.6545522287112017,\n",
       " '1.8': 0.5849347282303121,\n",
       " 'ed': 0.47280862491321196,\n",
       " 'coe': 0.4307592032305683,\n",
       " 'matter': 0.3953472334192463,\n",
       " 'greater': 0.36465045085821046,\n",
       " 'white': 0.33769936572737447,\n",
       " 'second': 0.3117835186054872,\n",
       " 'cortic': 0.2889593523727537,\n",
       " '1.15': 0.2727685155019938,\n",
       " 'imag': 0.25562374775164964,\n",
       " 'infant': 0.2397338007926837,\n",
       " 'cerebr': 0.22173821353555864,\n",
       " 'pre1.44': 0.20842428729570625,\n",
       " '01': 0.19613843543194556,\n",
       " 'absolut': 0.18461852642028495,\n",
       " 'reson': 0.1755500969703133,\n",
       " 'result': 0.16852661755142245,\n",
       " 'nonmi': 0.15896924343137298,\n",
       " 'relat': 0.15270517792085486,\n",
       " 'alter': 0.14698463541451465,\n",
       " '4.44': 0.14069510659227027,\n",
       " 'brain': 0.1357342488133793,\n",
       " 'aniso': 0.12791166259258735,\n",
       " 'anc': 0.12239143077056451,\n",
       " '06)': 0.11868991754738041,\n",
       " 'calcul': 0.11347850902274637,\n",
       " 'organ': 0.10591399154719697,\n",
       " 'time': 0.10266789398382671,\n",
       " 'ms': 0.0984091920214401,\n",
       " 'ri': 0.09539344084388482,\n",
       " 'preterm': 0.0906259367451952,\n",
       " 'posterior': 0.08810258700405184,\n",
       " 'differ': 0.0854731459858906,\n",
       " 'disabili': 0.0820812840704051,\n",
       " 'weight': 0.07949250260860388,\n",
       " 'magnet': 0.07596200375201634,\n",
       " 'insight': 0.07389495694916763,\n",
       " 'capsuleeffici': 0.07043182598704723,\n",
       " 'ural': 0.06714622904035257,\n",
       " '7)': 0.06574200442440772,\n",
       " 'the': 0.06265023286384938,\n",
       " 'studi': 0.06008394295149682,\n",
       " '17': 0.04709918539520472,\n",
       " 'live': 0.04504321105124289,\n",
       " 'comparedwhit': 0.04300476038382155,\n",
       " '2/': 0.04196277389929293,\n",
       " 'higher': 0.041042962002741885,\n",
       " 'visibl': 0.03926559043458063,\n",
       " 'intern': 0.03850606961308845,\n",
       " 'area': 0.037423078051364335,\n",
       " '3.0%,': 0.036534723610125344,\n",
       " 'wk': 0.03380470283240408,\n",
       " 'elin': 0.0320831286846122,\n",
       " 'earli': 0.03152321107573739,\n",
       " 'threedimension': 0.029940684700144382,\n",
       " 'que': 0.029309080376767858,\n",
       " 'high': 0.028672617891100035,\n",
       " '10': 0.028126135591179748,\n",
       " 'appli': 0.02650030041222841,\n",
       " '0.09': 0.025702574984163437,\n",
       " 'function': 0.02508614376039264,\n",
       " 'similar': 0.0245763763443698,\n",
       " '3.1': 0.022506943879587637,\n",
       " 'lower': 0.021796839139803792,\n",
       " '+/-': 0.02094531434806141,\n",
       " 'cient': 0.01825700034925917,\n",
       " 'ent': 0.016650818240831873,\n",
       " 'limb': 0.016424185048199005,\n",
       " 'microm': 0.015969713212078917,\n",
       " 'closer': 0.015717326955540283,\n",
       " '0.': 0.015520777944412126,\n",
       " 'm': 0.014030740215060806,\n",
       " 'affect': 0.013470354814681815,\n",
       " 'appar': 0.010978621138933711,\n",
       " 'architectur': 0.010385659808925217,\n",
       " 'trop': 0.009312594694354916,\n",
       " 'diffus': 0.007490561598627302,\n",
       " 'nce': 0.0049271809002862,\n",
       " 'tensor': 0.004009036603188798,\n",
       " '=': 0.003285136755607327,\n",
       " 'versus': 0.0032464221822267668,\n",
       " '-': 0.0031976750367422486,\n",
       " 'decreas': 0.003156447378348095,\n",
       " 'quantit': 0.0031203666152565825,\n",
       " 'birth': 0.0030681956545488592,\n",
       " 'gestat': 0.0030338041720230544,\n",
       " 'human': 0.0029960027611391107,\n",
       " 'ffi': 0.002961023162217599,\n",
       " 'relativ': 0.002928778962897751,\n",
       " 'full': 0.0028911839665013215,\n",
       " '28': 0.002850379540593248,\n",
       " 'fiber': 0.0028201893553891112,\n",
       " 'central': 0.0027925333159291403,\n",
       " 'water': 0.0027577221006967758,\n",
       " '0.6': 0.0027216759616053086,\n",
       " 'prematur': 0.0026806572699190376,\n",
       " 'measur': 0.0026497560460990582,\n",
       " '4.0': 0.002595367148014693,\n",
       " ')': 0.002560326182039999,\n",
       " 'callo': 0.002495035715963195,\n",
       " 'scan': 0.0024615444047376006,\n",
       " 'corpus': 0.00243757904132019,\n",
       " 'um': 0.0023857453048662072,\n",
       " 'p16)': 0.002310288966163962,\n",
       " 'analysi': 0.00219793183304316,\n",
       " '22.': 0.002106475390876317,\n",
       " ';': 0.002031963925490133,\n",
       " 'intostruct': 0.001889316082529056,\n",
       " ',': 0.0018531588183878594,\n",
       " 'show': 0.0018309251997234745,\n",
       " 'mean': 0.0016035620082661872,\n",
       " '(n': 0.0007935165422576042}"
      ]
     },
     "execution_count": 37,
     "metadata": {},
     "output_type": "execute_result"
    }
   ],
   "source": [
    "rescored_vectors[0]"
   ]
  },
  {
   "cell_type": "code",
   "execution_count": 38,
   "metadata": {},
   "outputs": [],
   "source": [
    "# Make a vocab of all keys in the reweighted sparse vectors\n",
    "vocab = set()\n",
    "for sv in rescored_vectors:\n",
    "    vocab.update(sv.keys())"
   ]
  },
  {
   "cell_type": "code",
   "execution_count": 39,
   "metadata": {},
   "outputs": [
    {
     "data": {
      "text/plain": [
       "58470"
      ]
     },
     "execution_count": 39,
     "metadata": {},
     "output_type": "execute_result"
    }
   ],
   "source": [
    "len(vocab)"
   ]
  },
  {
   "cell_type": "code",
   "execution_count": 40,
   "metadata": {},
   "outputs": [],
   "source": [
    "# Convert this into a vocab object with each string having an id\n",
    "vocab = {word: i for i, word in enumerate(vocab)}\n",
    "invert_vocab = {i: word for word, i in vocab.items()}"
   ]
  },
  {
   "cell_type": "code",
   "execution_count": 90,
   "metadata": {},
   "outputs": [
    {
     "data": {
      "text/plain": [
       "58470"
      ]
     },
     "execution_count": 90,
     "metadata": {},
     "output_type": "execute_result"
    }
   ],
   "source": [
    "len(vocab)"
   ]
  },
  {
   "cell_type": "code",
   "execution_count": 93,
   "metadata": {},
   "outputs": [
    {
     "data": {
      "text/plain": [
       "('topic', 45816)"
      ]
     },
     "execution_count": 93,
     "metadata": {},
     "output_type": "execute_result"
    }
   ],
   "source": [
    "word, vocab[word]"
   ]
  },
  {
   "cell_type": "code",
   "execution_count": 94,
   "metadata": {},
   "outputs": [
    {
     "data": {
      "application/vnd.jupyter.widget-view+json": {
       "model_id": "8f0eb6da615740359c1cb086b4245796",
       "version_major": 2,
       "version_minor": 0
      },
      "text/plain": [
       "  0%|          | 0/5183 [00:00<?, ?it/s]"
      ]
     },
     "metadata": {},
     "output_type": "display_data"
    }
   ],
   "source": [
    "# Recompute the reweighted sparse vectors with the new vocab\n",
    "def map_to_new_vocab(rescored_vectors, vocab):\n",
    "    id_reweighted_sparse_vectors = []\n",
    "    for sv in tqdm(rescored_vectors):\n",
    "        new_sv = {}\n",
    "        for word, weight in sv.items():\n",
    "            try: \n",
    "                new_sv[vocab[word]] = weight\n",
    "            except KeyError:\n",
    "                pass\n",
    "        id_reweighted_sparse_vectors.append(new_sv)\n",
    "    return id_reweighted_sparse_vectors\n",
    "\n",
    "id_reweighted_sparse_vectors = map_to_new_vocab(rescored_vectors, vocab)"
   ]
  },
  {
   "cell_type": "code",
   "execution_count": 42,
   "metadata": {},
   "outputs": [],
   "source": [
    "def batched(iterable: Iterable, n: int = 1) -> Iterable:\n",
    "    \"\"\"Yield successive n-sized chunks from iterable.\"\"\"\n",
    "    for i in range(0, len(iterable), n):\n",
    "        yield iterable[i : i + n]"
   ]
  },
  {
   "cell_type": "code",
   "execution_count": 43,
   "metadata": {},
   "outputs": [
    {
     "data": {
      "application/vnd.jupyter.widget-view+json": {
       "model_id": "219f216e75e94990acc8a34d754b52ba",
       "version_major": 2,
       "version_minor": 0
      },
      "text/plain": [
       "0it [00:00, ?it/s]"
      ]
     },
     "metadata": {},
     "output_type": "display_data"
    },
    {
     "data": {
      "application/vnd.jupyter.widget-view+json": {
       "model_id": "262c114ffbe24980b851ae811e6b2d50",
       "version_major": 2,
       "version_minor": 0
      },
      "text/plain": [
       "0it [00:00, ?it/s]"
      ]
     },
     "metadata": {},
     "output_type": "display_data"
    }
   ],
   "source": [
    "def make_points(\n",
    "    reweighted_sparse_vectors: Dict, ds: Dataset\n",
    ") -> Iterable[models.PointStruct]:\n",
    "    points = []\n",
    "    for sv, element in tqdm(zip(reweighted_sparse_vectors, ds)):\n",
    "        points.append(\n",
    "            models.PointStruct(\n",
    "                id=int(element[\"_id\"]),\n",
    "                vector={col_name: convert_sparse_vector(sv)},\n",
    "                payload={\n",
    "                    \"text\": element[\"text\"],\n",
    "                    \"title\": element[\"title\"],\n",
    "                    \"id\": element[\"_id\"],\n",
    "                },\n",
    "            )\n",
    "        )\n",
    "    return points\n",
    "\n",
    "\n",
    "# next(read_data(id_reweighted_sparse_vectors, ds))\n",
    "reset_collection(client, collection_name)\n",
    "points = make_points(id_reweighted_sparse_vectors, ds)\n",
    "# Run ONCE to upload data, only when collection is empty\n",
    "for batch in tqdm(batched(points, 100)):\n",
    "    try:\n",
    "        client.upload_points(collection_name=collection_name, points=batch)\n",
    "    except Exception as e:\n",
    "        print(e)\n",
    "        pass"
   ]
  },
  {
   "cell_type": "code",
   "execution_count": 73,
   "metadata": {},
   "outputs": [
    {
     "data": {
      "text/plain": [
       "PointStruct(id=4983, vector={'bge_m3_sparse_vector': SparseVector(indices=[27105, 10824, 17237, 235, 21317, 52259, 48413, 1027, 42748, 7438, 52445, 19370, 116, 1192, 2838, 10116, 35117, 38253, 58165, 28737, 49333, 17998, 1268, 44048, 32290, 16108, 4792, 7355, 53178, 54404, 28866, 22210, 40697, 57016, 21590, 36981, 21600, 24725, 41362, 56626, 24301, 34018, 3752, 42262, 40018, 54737, 4084, 41946, 12261, 15678, 46721, 50489, 29682, 53558, 30875, 3436, 14687, 44501, 57813, 47374, 16795, 30469, 22007, 34059, 49930, 8014, 21531, 3221, 31418, 40759, 20275, 37200, 4291, 13356, 5137, 52531, 53600, 17159, 53273, 11201, 805, 30508, 52530, 30151, 45632, 17368, 5216, 51571, 3340, 28912, 54807, 36491, 6781, 41636, 24198, 49793, 22671, 29552, 14693, 33098, 54350, 21959, 36670, 22649, 24435, 18344, 54446, 2706, 46789, 41391, 554, 41511, 24959, 15373, 43642, 19654, 18999, 21056, 55690], values=[4.696322767553414, 2.7630617011650673, 1.8087965004176547, 1.2705755599546529, 0.9271178923354834, 0.7608069946927775, 0.6545522287112017, 0.5849347282303121, 0.47280862491321196, 0.4307592032305683, 0.3953472334192463, 0.36465045085821046, 0.33769936572737447, 0.3117835186054872, 0.2889593523727537, 0.2727685155019938, 0.25562374775164964, 0.2397338007926837, 0.22173821353555864, 0.20842428729570625, 0.19613843543194556, 0.18461852642028495, 0.1755500969703133, 0.16852661755142245, 0.15896924343137298, 0.15270517792085486, 0.14698463541451465, 0.14069510659227027, 0.1357342488133793, 0.12791166259258735, 0.12239143077056451, 0.11868991754738041, 0.11347850902274637, 0.10591399154719697, 0.10266789398382671, 0.0984091920214401, 0.09539344084388482, 0.0906259367451952, 0.08810258700405184, 0.0854731459858906, 0.0820812840704051, 0.07949250260860388, 0.07596200375201634, 0.07389495694916763, 0.07043182598704723, 0.06714622904035257, 0.06574200442440772, 0.06265023286384938, 0.06008394295149682, 0.04709918539520472, 0.04504321105124289, 0.04300476038382155, 0.04196277389929293, 0.041042962002741885, 0.03926559043458063, 0.03850606961308845, 0.037423078051364335, 0.036534723610125344, 0.03380470283240408, 0.0320831286846122, 0.03152321107573739, 0.029940684700144382, 0.029309080376767858, 0.028672617891100035, 0.028126135591179748, 0.02650030041222841, 0.025702574984163437, 0.02508614376039264, 0.0245763763443698, 0.022506943879587637, 0.021796839139803792, 0.02094531434806141, 0.01825700034925917, 0.016650818240831873, 0.016424185048199005, 0.015969713212078917, 0.015717326955540283, 0.015520777944412126, 0.014030740215060806, 0.013470354814681815, 0.010978621138933711, 0.010385659808925217, 0.009312594694354916, 0.007490561598627302, 0.0049271809002862, 0.004009036603188798, 0.003285136755607327, 0.0032464221822267668, 0.0031976750367422486, 0.003156447378348095, 0.0031203666152565825, 0.0030681956545488592, 0.0030338041720230544, 0.0029960027611391107, 0.002961023162217599, 0.002928778962897751, 0.0028911839665013215, 0.002850379540593248, 0.0028201893553891112, 0.0027925333159291403, 0.0027577221006967758, 0.0027216759616053086, 0.0026806572699190376, 0.0026497560460990582, 0.002595367148014693, 0.002560326182039999, 0.002495035715963195, 0.0024615444047376006, 0.00243757904132019, 0.0023857453048662072, 0.002310288966163962, 0.00219793183304316, 0.002106475390876317, 0.002031963925490133, 0.001889316082529056, 0.0018531588183878594, 0.0018309251997234745, 0.0016035620082661872, 0.0007935165422576042])}, payload={'text': 'Alterations of the architecture of cerebral white matter in the developing human brain can affect cortical development and result in functional disabilities. A line scan diffusion-weighted magnetic resonance imaging (MRI) sequence with diffusion tensor analysis was applied to measure the apparent diffusion coefficient, to calculate relative anisotropy, and to delineate three-dimensional fiber architecture in cerebral white matter in preterm (n = 17) and full-term infants (n = 7). To assess effects of prematurity on cerebral white matter development, early gestation preterm infants (n = 10) were studied a second time at term. In the central white matter the mean apparent diffusion coefficient at 28 wk was high, 1.8 microm2/ms, and decreased toward term to 1.2 microm2/ms. In the posterior limb of the internal capsule, the mean apparent diffusion coefficients at both times were similar (1.2 versus 1.1 microm2/ms). Relative anisotropy was higher the closer birth was to term with greater absolute values in the internal capsule than in the central white matter. Preterm infants at term showed higher mean diffusion coefficients in the central white matter (1.4 +/- 0.24 versus 1.15 +/- 0.09 microm2/ms, p = 0.016) and lower relative anisotropy in both areas compared with full-term infants (white matter, 10.9 +/- 0.6 versus 22.9 +/- 3.0%, p = 0.001; internal capsule, 24.0 +/- 4.44 versus 33.1 +/- 0.6% p = 0.006). Nonmyelinated fibers in the corpus callosum were visible by diffusion tensor MRI as early as 28 wk; full-term and preterm infants at term showed marked differences in white matter fiber organization. The data indicate that quantitative assessment of water diffusion by diffusion tensor MRI provides insight into microstructural development in cerebral white matter in living infants.', 'title': 'Microstructural development of human newborn cerebral white matter assessed in vivo by diffusion tensor magnetic resonance imaging.', 'id': '4983'})"
      ]
     },
     "execution_count": 73,
     "metadata": {},
     "output_type": "execute_result"
    }
   ],
   "source": [
    "points[0]"
   ]
  },
  {
   "cell_type": "markdown",
   "metadata": {},
   "source": [
    "## Queries"
   ]
  },
  {
   "cell_type": "code",
   "execution_count": 45,
   "metadata": {},
   "outputs": [
    {
     "data": {
      "text/plain": [
       "300"
      ]
     },
     "execution_count": 45,
     "metadata": {},
     "output_type": "execute_result"
    }
   ],
   "source": [
    "test = pd.read_csv(f\"../data/{canonical_dataset_name}/qrels/test.tsv\", sep=\"\\t\")\n",
    "test[\"query-id\"] = test[\"query-id\"].astype(int)\n",
    "\n",
    "with open(f\"../data/{canonical_dataset_name}/queries.jsonl\") as f:\n",
    "    queries = [json.loads(line) for line in f]\n",
    "\n",
    "# Only keep the test set queries\n",
    "queries = [q for q in queries if int(q[\"_id\"]) in list(test[\"query-id\"])]\n",
    "len(queries)"
   ]
  },
  {
   "cell_type": "code",
   "execution_count": 46,
   "metadata": {},
   "outputs": [
    {
     "data": {
      "text/plain": [
       "{'_id': '1',\n",
       " 'text': '0-dimensional biomaterials show inductive properties.',\n",
       " 'metadata': {}}"
      ]
     },
     "execution_count": 46,
     "metadata": {},
     "output_type": "execute_result"
    }
   ],
   "source": [
    "queries[0]"
   ]
  },
  {
   "cell_type": "markdown",
   "metadata": {},
   "source": [
    "## Create query vectors"
   ]
  },
  {
   "cell_type": "code",
   "execution_count": 48,
   "metadata": {},
   "outputs": [
    {
     "data": {
      "application/vnd.jupyter.widget-view+json": {
       "model_id": "7df320623f4c4f7d961d6c619ba503c0",
       "version_major": 2,
       "version_minor": 0
      },
      "text/plain": [
       "Fetching 30 files:   0%|          | 0/30 [00:00<?, ?it/s]"
      ]
     },
     "metadata": {},
     "output_type": "display_data"
    }
   ],
   "source": [
    "model = BGEM3FlagModel(\n",
    "    \"BAAI/bge-m3\", use_fp16=True\n",
    ")  # Setting use_fp16 to True speeds up computation with a slight performance degradation"
   ]
  },
  {
   "cell_type": "code",
   "execution_count": 51,
   "metadata": {},
   "outputs": [],
   "source": [
    "def get_sparse_vector(batch: List[str]):\n",
    "    output = model.encode(\n",
    "        batch, return_dense=False, return_sparse=True, return_colbert_vecs=False\n",
    "    )\n",
    "    return output[\"lexical_weights\"]"
   ]
  },
  {
   "cell_type": "code",
   "execution_count": 54,
   "metadata": {},
   "outputs": [
    {
     "name": "stderr",
     "output_type": "stream",
     "text": [
      "Inference Embeddings: 100%|██████████████████████████████████████████████████████████████████████████████████████████████████████████████████████████████████| 25/25 [00:01<00:00, 17.11it/s]"
     ]
    },
    {
     "name": "stdout",
     "output_type": "stream",
     "text": [
      "CPU times: user 514 ms, sys: 149 ms, total: 663 ms\n",
      "Wall time: 1.46 s\n"
     ]
    },
    {
     "name": "stderr",
     "output_type": "stream",
     "text": [
      "\n"
     ]
    }
   ],
   "source": [
    "%%time\n",
    "raw_query_vectors = get_sparse_vector([q[\"text\"] for q in queries])"
   ]
  },
  {
   "cell_type": "code",
   "execution_count": 64,
   "metadata": {},
   "outputs": [],
   "source": [
    "float_sparse_vectors = []\n",
    "for sv in raw_query_vectors:\n",
    "    # print(sv, type(sv))\n",
    "    new_sv = {}\n",
    "    new_sv[\"tokens\"] = list(sv.keys())\n",
    "    new_sv[\"weights\"] = [float(v) for v in sv.values()]\n",
    "    float_sparse_vectors.append(new_sv)"
   ]
  },
  {
   "cell_type": "code",
   "execution_count": 65,
   "metadata": {},
   "outputs": [
    {
     "data": {
      "text/plain": [
       "{'tokens': ['757',\n",
       "  '9',\n",
       "  '157955',\n",
       "  '3530',\n",
       "  '39886',\n",
       "  '7',\n",
       "  '7639',\n",
       "  '135989',\n",
       "  '4935',\n",
       "  '183871',\n",
       "  '5'],\n",
       " 'weights': [0.2288818359375,\n",
       "  0.046051025390625,\n",
       "  0.2142333984375,\n",
       "  0.17333984375,\n",
       "  0.271728515625,\n",
       "  0.10894775390625,\n",
       "  0.169677734375,\n",
       "  0.264404296875,\n",
       "  0.1953125,\n",
       "  0.209716796875,\n",
       "  0.060150146484375]}"
      ]
     },
     "execution_count": 65,
     "metadata": {},
     "output_type": "execute_result"
    }
   ],
   "source": [
    "float_sparse_vectors[0]"
   ]
  },
  {
   "cell_type": "code",
   "execution_count": 66,
   "metadata": {},
   "outputs": [
    {
     "data": {
      "application/vnd.jupyter.widget-view+json": {
       "model_id": "e27dd01b6b6946179d4e6a749c14e3b7",
       "version_major": 2,
       "version_minor": 0
      },
      "text/plain": [
       "  0%|          | 0/300 [00:00<?, ?it/s]"
      ]
     },
     "metadata": {},
     "output_type": "display_data"
    }
   ],
   "source": [
    "rescored_query_vectors = process_text(float_sparse_vectors)"
   ]
  },
  {
   "cell_type": "code",
   "execution_count": 100,
   "metadata": {},
   "outputs": [
    {
     "data": {
      "application/vnd.jupyter.widget-view+json": {
       "model_id": "6843f3bc24154c2887c8b5153174f039",
       "version_major": 2,
       "version_minor": 0
      },
      "text/plain": [
       "  0%|          | 0/300 [00:00<?, ?it/s]"
      ]
     },
     "metadata": {},
     "output_type": "display_data"
    }
   ],
   "source": [
    "id_remapped_query_vectors = map_to_new_vocab(rescored_query_vectors, vocab)"
   ]
  },
  {
   "cell_type": "code",
   "execution_count": 101,
   "metadata": {},
   "outputs": [
    {
     "data": {
      "text/plain": [
       "{14060: 0.8855759883697092,\n",
       " 28603: 0.5629001174083158,\n",
       " 3645: 0.0707565964509435}"
      ]
     },
     "execution_count": 101,
     "metadata": {},
     "output_type": "execute_result"
    }
   ],
   "source": [
    "id_remapped_query_vectors[0]"
   ]
  },
  {
   "cell_type": "code",
   "execution_count": 102,
   "metadata": {},
   "outputs": [],
   "source": [
    "qdrant_query_vectors = [\n",
    "    models.SparseVector(\n",
    "        indices=qv.keys(),\n",
    "        values=qv.values(),\n",
    "    )\n",
    "    for qv in id_remapped_query_vectors\n",
    "]"
   ]
  },
  {
   "cell_type": "code",
   "execution_count": 103,
   "metadata": {},
   "outputs": [
    {
     "data": {
      "text/plain": [
       "SparseVector(indices=[11524, 43689, 57604, 28603], values=[0.7015496154504479, 0.2541993780490931, 0.22612549833322165, 0.18431289512563168])"
      ]
     },
     "execution_count": 103,
     "metadata": {},
     "output_type": "execute_result"
    }
   ],
   "source": [
    "idx =2\n",
    "qdrant_query_vectors[idx]"
   ]
  },
  {
   "cell_type": "code",
   "execution_count": 104,
   "metadata": {},
   "outputs": [
    {
     "data": {
      "text/plain": [
       "[ScoredPoint(id=28821565, version=81, score=1.7186244, payload={'id': '28821565', 'text': 'To prevent acquisition of HIV through oral sex, drugs used for preexposure prophylaxis (Prep) need to diffuse in saliva. We measured tenofovir (TFV) and emtricitabine (FTC) concentrations simultaneously in the plasma and saliva of 41 HIV-infected patients under stable antiretroviral treatment. Mean ratios of saliva/plasma concentration were 3% (±4%) and 86.9% (±124%) for TFV and FTC, respectively. Tenofovir disoproxil fumarate (TDF) should be used in combination with FTC to prevent oral acquisition of HIV.', 'title': 'Concentrations of tenofovir and emtricitabine in saliva: implications for preexposure prophylaxis of oral HIV acquisition.'}, vector=None, shard_key=None),\n",
       " ScoredPoint(id=16267205, version=52, score=1.3225147, payload={'id': '16267205', 'text': 'Sex differences in longevity and aging are seen throughout the animal kingdom. These are likely to result, in part, from sex differences in endocrinology. In the nematode Caenorhabditis elegans, males are the longer-lived sex. Here we explore the possibility that sex differences in insulin/insulin-like growth factor 1 (IGF-1) and steroid endocrinology contribute to this sex difference in aging by studying C. elegans populations in liquid culture. We report that in hermaphrodite populations, mutational loss of the DAF-12 steroid receptor affected life span as in previous plate-culture studies: mutant longevity is suppressed in a weak daf-2 insulin/IGF-1 receptor mutant but enhanced in a stronger daf-2 mutant. However, in males, mutation of daf-12 had little effect on aging in either weak or strong daf-2 mutants. Moreover, while mutation of daf-12 marginally reduced life span in daf-2(+) hermaphrodites, as in plate-cultured populations, it did not in daf-2(+) males. These results could imply that in C. elegans, as in mammals, sex differences in steroid endocrinology contribute to sex differences in aging.', 'title': 'Sex-specific effects of the DAF-12 steroid receptor on aging in Caenorhabditis elegans.'}, vector=None, shard_key=None),\n",
       " ScoredPoint(id=7662395, version=27, score=0.7109913, payload={'id': '7662395', 'text': 'OBJECTIVES To explore the use of local civil registration data to assess the perinatal mortality in a typical rural county in a less developed province in China, 1999-2000. DESIGN Retrospective cohort study. Pregnancies in a cohort of women followed from registration of pregnancy to outcome of infant seven days after birth. SETTING Routine family planning records in 20 rural townships in eastern China. SUBJECTS 3697 pregnancies registered by the local family planning system during 1999. MAIN OUTCOME MEASURES Abortions, stillbirths, early neonatal mortality, perinatal mortality. RESULTS Only three cases were lost to follow up. The average age of the women at pregnancy was 25.9 years. Three hundred and twelve pregnancies were aborted and 240 ended in miscarriage (total 552, 15%). The perinatal mortality rate was 69 per 1000 births, the rate of stillbirth was 24 per 1000 births, and the early neonatal mortality was 46 per 1000 live births. The early neonatal mortality was 29 in boys and 69 in girls per 1000 live births. The perinatal mortality rate increased notably with parity and was higher in townships having lower income per capita. CONCLUSIONS The family planning system at the most local level is a useful data source for studying perinatal mortality in rural China. The perinatal mortality rate in the study county was higher than previously reported for both rural and urban areas in China. The results by parity and sex of the infant raise concern over the impact of the one child policy.', 'title': 'Perinatal mortality in rural China: retrospective cohort study.'}, vector=None, shard_key=None),\n",
       " ScoredPoint(id=8082528, version=28, score=0.35633376, payload={'id': '8082528', 'text': 'BACKGROUND For over 20 years the association between sarcoidosis and malignancy, particularly lymphoma and lung cancer, has been disputed with misclassification being the major concern. The aim of the present study was to analyse the incidence of malignancies in a cohort of patients with sarcoidosis by linkage to a nationwide population based cancer register. METHODS The cohort comprised 254 patients followed for a median of 25 years until death, emigration, or 31 December 1992, whichever came first. The expected number of cancer cases was calculated using the annual age and sex specific cancer rates from the Danish Cancer Registry. RESULTS Thirty six cancers were registered, three of which were misclassified as sarcoidosis, leaving 33 cancers compared with 23 expected (standardised incidence ratio (SIR) = 1.4; 95% CI 0.99 to 2.0). Five lung cancers were observed compared with 2.5 expected, yielding an SIR of 2.0 (95% CI 0.7 to 4.7). There was no incidence of lymphoma and only one case of leukaemia. There was a significant excess number of pharyngeal cancers based on two cases (SIR = 15.4; 95% CI 1.7 to 56). CONCLUSIONS This study does not support the theory of an association between sarcoidosis and malignancy, and the main reason other studies have shown such an association is most likely to have been due to selection bias and misclassification.', 'title': 'Risk of malignant neoplasms in patients with pulmonary sarcoidosis.'}, vector=None, shard_key=None),\n",
       " ScoredPoint(id=4388470, version=15, score=0.2775329, payload={'id': '4388470', 'text': 'In the mammalian model of sex determination, embryos are considered to be sexually indifferent until the transient action of a sex-determining gene initiates gonadal differentiation. Although this model is thought to apply to all vertebrates, this has yet to be established. Here we have examined three lateral gynandromorph chickens (a rare, naturally occurring phenomenon in which one side of the animal appears male and the other female) to investigate the sex-determining mechanism in birds. These studies demonstrated that gynandromorph birds are genuine male:female chimaeras, and indicated that male and female avian somatic cells may have an inherent sex identity. To test this hypothesis, we transplanted presumptive mesoderm between embryos of reciprocal sexes to generate embryos containing male:female chimaeric gonads. In contrast to the outcome for mammalian mixed-sex chimaeras, in chicken mixed-sex chimaeras the donor cells were excluded from the functional structures of the host gonad. In an example where female tissue was transplanted into a male host, donor cells contributing to the developing testis retained a female identity and expressed a marker of female function. Our study demonstrates that avian somatic cells possess an inherent sex identity and that, in birds, sexual differentiation is substantively cell autonomous.', 'title': 'Somatic sex identity is cell-autonomous in the chicken'}, vector=None, shard_key=None),\n",
       " ScoredPoint(id=12232678, version=40, score=0.25057498, payload={'id': '12232678', 'text': \"Recent reports have suggested that birds lack a mechanism of wholesale dosage compensation for the Z sex chromosome. This discovery was rather unexpected, as all other animals investigated with chromosomal mechanisms of sex determination have some method to counteract the effects of gene dosage of the dominant sex chromosome in males and females. Despite the lack of a global mechanism of avian dosage compensation, the pattern of gene expression difference between males and females varies a great deal for individual Z-linked genes. This suggests that some genes may be individually dosage compensated, and that some less-than-global pattern of dosage compensation, such as local or temporal, exists on the avian Z chromosome. We used global gene expression profiling in males and females for both somatic and gonadal tissue at several time points in the life cycle of the chicken to assess the pattern of sex-biased gene expression on the Z chromosome. Average fold-change between males and females varied somewhat among tissue time-point combinations, with embryonic brain samples having the smallest gene dosage effects, and adult gonadal tissue having the largest degree of male bias. Overall, there were no neighborhoods of overall dosage compensation along the Z. Taken together, this suggests that dosage compensation is regulated on the Z chromosome entirely on a gene-by-gene level, and can vary during the life cycle and by tissue type. This regulation may be an indication of how critical a given gene's functionality is, as the expression level for essential genes will be tightly regulated in order to avoid perturbing important pathways and networks with differential expression levels in males and females.\", 'title': 'All dosage compensation is local: Gene-by-gene regulation of sex-biased expression on the chicken Z chromosome'}, vector=None, shard_key=None),\n",
       " ScoredPoint(id=4688277, version=18, score=0.24425012, payload={'id': '4688277', 'text': 'The ecologic study design is routinely used by epidemiologists in spite of its limitations. It is presently unknown how well the challenges of the design are dealt with in epidemiologic research. The purpose of this bibliometric review was to critically evaluate the characteristics, statistical methods, and reporting of results of modern cross-sectional ecologic papers. A search through 6 major epidemiology journals identified all cross-sectional ecologic studies published since January 1, 2000. A total of 125 articles met the inclusion requirements and were assessed via common evaluative criteria. It was found that a considerable number of cross-sectional ecologic studies use unreliable methods or contain statistical oversights; most investigators who adjusted their outcomes for age or sex did so improperly (64%), statistical validity was a potential issue for 20% of regression models, and simple linear regression was the most common analytic approach (31%). Many authors omitted important information when discussing the ecologic nature of their study (31%), the choice of study design (58%), and the susceptibility of their research to the ecological fallacy (49%). These results suggest that there is a need for an international set of guidelines that standardizes reporting on ecologic studies. Additionally, greater attention should be given to the relevant biostatistical literature.', 'title': 'The quality of modern cross-sectional ecologic studies: a bibliometric review.'}, vector=None, shard_key=None),\n",
       " ScoredPoint(id=33920995, version=87, score=0.20896077, payload={'id': '33920995', 'text': 'No direct evidence has been reported whether the spatial organization of ICAM-1 on the cell surface is linked to its physiological function in terms of leukocyte adhesion and transendothelial migration (TEM). Here we observed that ICAM-1 by itself directly regulates the de novo elongation of microvilli and is thereby clustered on the microvilli. However, truncation of the intracellular domain resulted in uniform cell surface distribution of ICAM-1. Mutation analysis revealed that the C-terminal 21 amino acids are dispensable, whereas a segment of 5 amino acids ((507)RKIKK(511)) in the NH-terminal third of intracellular domain, is required for the proper localization and dynamic distribution of ICAM-1 and the association of ICAM-1 with F-actin, ezrin, and moesin. Importantly, deletion of the (507)RKIKK(511) significantly delayed the LFA-1-dependent membrane projection and decreased leukocyte adhesion and subsequent TEM. Endothelial cells treated with cell-permeant penetratin-ICAM-1 peptides comprising ICAM-1 RKIKK sequences inhibited leukocyte TEM. Collectively, these findings demonstrate that (507)RKIKK(511) is an essential motif for the microvillus ICAM-1 presentation and further suggest a novel regulatory role for ICAM-1 topography in leukocyte TEM.', 'title': 'RKIKK motif in the intracellular domain is critical for spatial and dynamic organization of ICAM-1: functional implication for the leukocyte adhesion and transmigration.'}, vector=None, shard_key=None),\n",
       " ScoredPoint(id=51386222, version=100, score=0.17757797, payload={'id': '51386222', 'text': 'Objective. —To examine more closely the association between apolipoprotein E (APOE) genotype and Alzheimer disease (AD) by age and sex in populations of various ethnic and racial denominations. Data Sources. —Forty research teams contributed data onAPOEgenotype, sex, age at disease onset, and ethnic background for 5930 patients who met criteria for probable or definite AD and 8607 controls without dementia who were recruited from clinical, community, and brain bank sources. Main Outcome Measures. —Odds ratios (ORs) and 95% confidence intervals (Cls) for AD, adjusted for age and study and stratified by major ethnic group (Caucasian, African American, Hispanic, and Japanese) and source, were computed forAPOEgenotypes ∈2/∈2,∈2/∈3,∈2/∈4,∈3/∈4 and ∈4/∈4 relative to the ∈3/∈3 group. The influence of age and sex on the OR for each genotype was assessed using logistic regression procedures. Results. —Among Caucasian subjects from clinic- or autopsy-based studies, the risk of AD was significantly increased for people with genotypes ∈2/∈4 (OR=2.6, 95% Cl=1.6-4.0), ∈3/∈4 (OR=3.2, 95% Cl=2.8-3.8), and ∈4/∈4 (OR=14.9, 95% CI=10.8-20.6); whereas, the ORs were decreased for people with genotypes ∈2/∈2 (OR=0.6, 95% Cl=0.2-2.0) and ∈2/∈3 (OR=0.6, 95% Cl=0.5-0.8). TheAPOE∈4-AD association was weaker among African Americans and Hispanics, but there was significant heterogeneity in ORs among studies of African Americans (P Conclusions. —TheAPOE∈4 allele represents a major risk factor for AD in all ethnic groups studied, across all ages between 40 and 90 years, and in both men and women. The association betweenAPOE∈4 and AD in African Americans requires clarification, and the attenuated effect ofAPOE∈4 in Hispanics should be investigated further.', 'title': 'Effects of Age, Sex, and Ethnicity on the Association Between Apolipoprotein E Genotype and Alzheimer Disease: A Meta-analysis'}, vector=None, shard_key=None),\n",
       " ScoredPoint(id=25355575, version=74, score=0.16805261, payload={'id': '25355575', 'text': 'Since the beginning of the 1990s the public health situation in Russia has been characterized by an extremely high mortality and a significant reduction in life expectancy. Cardiovascular diseases remained the major cause of death. Only a few large population studies were conducted in Russia during this period. A total of 1968 men and 1737 women aged 18–75 years participated in a health survey in Arkhangelsk, Russia, over the period 1999–2000. Investigation included assessment of classic cardiovascular risk factors (family history, smoking, blood pressure, and blood lipids) along with general health variables. The paper presents sex specific data on risk factors for coronary heart disease. Though the cardiovascular mortality is high in Russia, the calculated risk for coronary heart disease (the Framingham risk score and the Norwegian risk score) was lower in all age groups of men and women in Arkhangelsk compared with studies from the Western Europe and USA. Our data suggest that high cardiovascular mortality in Russia may be driven not only by the classic risk factors for coronary heart disease.', 'title': 'High cardiovascular mortality in Russia cannot be explained by the classical risk factors. The Arkhangelsk study 2000'}, vector=None, shard_key=None)]"
      ]
     },
     "execution_count": 104,
     "metadata": {},
     "output_type": "execute_result"
    }
   ],
   "source": [
    "client.search(\n",
    "    collection_name=collection_name,\n",
    "    query_vector=models.NamedSparseVector(name=col_name, vector=qv),\n",
    "    with_payload=True,\n",
    "    limit=limit,\n",
    ")"
   ]
  },
  {
   "cell_type": "code",
   "execution_count": 105,
   "metadata": {},
   "outputs": [
    {
     "data": {
      "application/vnd.jupyter.widget-view+json": {
       "model_id": "3a71f6c789ab43c19876c718669148d0",
       "version_major": 2,
       "version_minor": 0
      },
      "text/plain": [
       "  0%|          | 0/300 [00:00<?, ?it/s]"
      ]
     },
     "metadata": {},
     "output_type": "display_data"
    }
   ],
   "source": [
    "limit = 10\n",
    "results = []\n",
    "for qv in tqdm(qdrant_query_vectors):\n",
    "    try:\n",
    "        result = client.search(\n",
    "            collection_name=collection_name,\n",
    "            query_vector=models.NamedSparseVector(name=col_name, vector=qv),\n",
    "            with_payload=True,\n",
    "            limit=limit,\n",
    "        )\n",
    "        results.append(result)\n",
    "    except Exception as e:\n",
    "        print(e)\n",
    "        # print(qv)\n",
    "        results.append(None)"
   ]
  },
  {
   "cell_type": "code",
   "execution_count": 107,
   "metadata": {},
   "outputs": [
    {
     "data": {
      "text/plain": [
       "[[ScoredPoint(id=3866315, version=13, score=2.3259325, payload={'id': '3866315', 'text': 'Aspirin therapy inhibits prostaglandin biosynthesis without directly acting on lipoxygenases, yet via acetylation of cyclooxygenase 2 (COX-2) it leads to bioactive lipoxins (LXs) epimeric at carbon 15 (15-epi-LX, also termed aspirin-triggered LX [ATL]). Here, we report that inflammatory exudates from mice treated with ω-3 polyunsaturated fatty acid and aspirin (ASA) generate a novel array of bioactive lipid signals. Human endothelial cells with upregulated COX-2 treated with ASA converted C20:5 ω-3 to 18R-hydroxyeicosapentaenoic acid (HEPE) and 15R-HEPE. Each was used by polymorphonuclear leukocytes to generate separate classes of novel trihydroxy-containing mediators, including 5-series 15R-LX5 and 5,12,18R-triHEPE. These new compounds proved to be potent inhibitors of human polymorphonuclear leukocyte transendothelial migration and infiltration in vivo (ATL analogue > 5,12,18R-triHEPE > 18R-HEPE). Acetaminophen and indomethacin also permitted 18R-HEPE and 15R-HEPE generation with recombinant COX-2 as well as ω-5 and ω-9 oxygenations of other fatty acids that act on hematologic cells. These findings establish new transcellular routes for producing arrays of bioactive lipid mediators via COX-2–nonsteroidal antiinflammatory drug–dependent oxygenations and cell–cell interactions that impact microinflammation. The generation of these and related compounds provides a novel mechanism(s) for the therapeutic benefits of ω-3 dietary supplementation, which may be important in inflammation, neoplasia, and vascular diseases.', 'title': 'Novel Functional Sets of Lipid-Derived Mediators with Antiinflammatory Actions Generated from Omega-3 Fatty Acids via Cyclooxygenase 2–Nonsteroidal Antiinflammatory Drugs and Transcellular Processing'}, vector=None, shard_key=None),\n",
       "  ScoredPoint(id=25510546, version=74, score=2.1355662, payload={'id': '25510546', 'text': 'Increased lipid supply causes beta cell death, which may contribute to reduced beta cell mass in type 2 diabetes. We investigated whether endoplasmic reticulum (ER) stress is necessary for lipid-induced apoptosis in beta cells and also whether ER stress is present in islets of an animal model of diabetes and of humans with type 2 diabetes. Expression of genes involved in ER stress was evaluated in insulin-secreting MIN6 cells exposed to elevated lipids, in islets isolated from db/db mice and in pancreas sections of humans with type 2 diabetes. Overproduction of the ER chaperone heat shock 70 kDa protein 5 (HSPA5, previously known as immunoglobulin heavy chain binding protein [BIP]) was performed to assess whether attenuation of ER stress affected lipid-induced apoptosis. We demonstrated that the pro-apoptotic fatty acid palmitate triggers a comprehensive ER stress response in MIN6 cells, which was virtually absent using non-apoptotic fatty acid oleate. Time-dependent increases in mRNA levels for activating transcription factor 4 (Atf4), DNA-damage inducible transcript 3 (Ddit3, previously known as C/EBP homologous protein [Chop]) and DnaJ homologue (HSP40) C3 (Dnajc3, previously known as p58) correlated with increased apoptosis in palmitate- but not in oleate-treated MIN6 cells. Attenuation of ER stress by overproduction of HSPA5 in MIN6 cells significantly protected against lipid-induced apoptosis. In islets of db/db mice, a variety of marker genes of ER stress were also upregulated. Increased processing (activation) of X-box binding protein 1 (Xbp1) mRNA was also observed, confirming the existence of ER stress. Finally, we observed increased islet protein production of HSPA5, DDIT3, DNAJC3 and BCL2-associated X protein in human pancreas sections of type 2 diabetes subjects. Our results provide evidence that ER stress occurs in type 2 diabetes and is required for aspects of the underlying beta cell failure.', 'title': 'Endoplasmic reticulum stress contributes to beta cell apoptosis in type 2 diabetes'}, vector=None, shard_key=None),\n",
       "  ScoredPoint(id=13373629, version=43, score=1.6550683, payload={'id': '13373629', 'text': 'BACKGROUND Recent genome-wide association studies (GWAS) have mapped several novel loci influencing blood lipid levels in Caucasians. We sought to explore whether the genetic variants at newly identified lipid-associated loci were associated with CHD susceptibility in a Chinese Han population. METHODOLOGY/PRINCIPAL FINDINGS We conducted a two-stage case-control study in a Chinese Han population. The first-stage, consisting of 1,376 CHD cases and 1,376 sex and age- frequency matched controls, examined 5 novel lipid-associated single-nucleotide polymorphisms (SNPs) identified from GWAS among Caucasians in relation to CHD risk in Chinese. We then validated significant SNPs in the second-stage, consisting of 1,269 cases and 2,745 controls. We also tested associations between SNPs within the five novel loci and blood lipid levels in 4,121 controls. We identified two novel SNPs (rs599839 in CELSR2-PSRC1-SORT1 and rs16996148 in NCAN-CILP2) that were significantly associated with reduced CHD risk in Chinese (odds ratios (95% confidence intervals) in the dominant model 0.76 (0.61-0.90; P = 0.001), 0.67 (0.57-0.77; P = 3.4×10(-8)), respectively). Multiple linear regression analyses using dominant model showed that rs599839 was significantly associated with decreased LDL levels (P = 0.022) and rs16996148 was significantly associated with increased LDL and HDL levels (P = 2.9×10(-4) and 0.001, respectively). CONCLUSIONS/SIGNIFICANCE We identified two novel SNPs (rs599839 and rs16996148) at newly identified lipid-associated loci that were significantly associated with CHD susceptibility in a Chinese Han population.', 'title': 'Genetic Variants at Newly Identified Lipid Loci Are Associated with Coronary Heart Disease in a Chinese Han Population'}, vector=None, shard_key=None),\n",
       "  ScoredPoint(id=23262027, version=68, score=1.3652354, payload={'id': '23262027', 'text': 'Eight isolates of Desulfovibrio spp. have been obtained over 5 years from abdominal or brain abscesses or blood. Seven isolates were part of a mixed flora [corrected]. One strain was isolated in pure culture from the blood of a patient with peritonitis of appendicular origin. According to the 16S rRNA gene sequences, this strain was close to Desulfovibrio fairfieldensis. The present report describes the fourth isolate of this recently described species to be isolated in pure culture or as a predominant part of the flora and to be associated with infectious processes. Thus, D. fairfieldensis may possess a higher pathogenic potential than other Desulfovibrio species.', 'title': 'Bacteremia caused by a strain of Desulfovibrio related to the provisionally named Desulfovibrio fairfieldensis.'}, vector=None, shard_key=None),\n",
       "  ScoredPoint(id=11090688, version=37, score=1.273366, payload={'id': '11090688', 'text': 'The weight lowering potential of glucagon-like peptide 1 (GLP-1) receptor agonists (RAs) is inter-individually different and clinically unpredictable. The potential role of genetic variability of GLP-1R on body weight response to GLP-1 RAs in obese women with polycystic ovary syndrome (PCOS) has not yet been evaluated. Fifty-seven obese women with PCOS (aged 30.7 ± 7.0, BMI 38.6 ± 5.3 kg/m2) were assigned to liraglutide 1.2 mg QD s.c. for 12 weeks and classified as strong responders regarding weight loss if they lost 5 % or more of their initial body weight. They were genotyped for common GLP-1R single nucleotide polymorphisms (SNPs) rs6923761 and rs10305420. Changes of measures of obesity were measured before and at the end of the treatment. Twenty out of 57 subjects were strong responders and lost 7.38 ± 1.74 compared to 2.11 ± 2.17 kg lost in poor responders. Carriers of at least one polymorphic rs10305420 allele had poor treatment response compared to carriers of two wild type alleles (OR = 0.27, 95 % CI = 0.09–0.85, P = 0.025). Carriers of at least one polymorphic rs6923761 allele tended to have stronger treatment response compared to carriers of two wild type alleles (OR = 3.06, 95 % CI = 0.96–9.74, P = 0.058). Fasting glucose and glucose after oral glucose tolerance test (OGTT) comparably decreased in both groups when compared to baseline, whereas no within treatment differences were found in androgen profile. Gastrointestinal adverse events were transit and balanced between strong and poor responders. GLP-1R rs10305420 polymorphism explained some of the inter-individual differences in response to liraglutide regarding weight loss in obese PCOS women.', 'title': 'Genetic variability in GLP-1 receptor is associated with inter-individual differences in weight lowering potential of liraglutide in obese women with PCOS: a pilot study'}, vector=None, shard_key=None),\n",
       "  ScoredPoint(id=1606628, version=5, score=1.2678871, payload={'id': '1606628', 'text': 'CONTEXT One key target of the United Nations Millennium Development goals is to reduce the prevalence of underweight among children younger than 5 years by half between 1990 and 2015. OBJECTIVE To estimate trends in childhood underweight by geographic regions of the world. DESIGN, SETTING, AND PARTICIPANTS Time series study of prevalence of underweight, defined as weight 2 SDs below the mean weight for age of the National Center for Health Statistics and World Health Organization (WHO) reference population. National prevalence rates derived from the WHO Global Database on Child Growth and Malnutrition, which includes data on approximately 31 million children younger than 5 years who participated in 419 national nutritional surveys in 139 countries from 1965 through 2002. MAIN OUTCOME MEASURES Linear mixed-effects modeling was used to estimate prevalence rates and numbers of underweight children by region in 1990 and 2015 and to calculate the changes (ie, increase or decrease) to these values between 1990 and 2015. RESULTS Worldwide, underweight prevalence was projected to decline from 26.5% in 1990 to 17.6% in 2015, a change of -34% (95% confidence interval [CI], -43% to -23%). In developed countries, the prevalence was estimated to decrease from 1.6% to 0.9%, a change of -41% (95% CI, -92% to 343%). In developing regions, the prevalence was forecasted to decline from 30.2% to 19.3%, a change of -36% (95% CI, -45% to -26%). In Africa, the prevalence of underweight was forecasted to increase from 24.0% to 26.8%, a change of 12% (95% CI, 8%-16%). In Asia, the prevalence was estimated to decrease from 35.1% to 18.5%, a change of -47% (95% CI, -58% to -34%). Worldwide, the number of underweight children was projected to decline from 163.8 million in 1990 to 113.4 million in 2015, a change of -31% (95% CI, -40% to -20%). Numbers are projected to decrease in all subregions except the subregions of sub-Saharan, Eastern, Middle, and Western Africa, which are expected to experience substantial increases in the number of underweight children. CONCLUSIONS An overall improvement in the global situation is anticipated; however, neither the world as a whole, nor the developing regions, are expected to achieve the Millennium Development goals. This is largely due to the deteriorating situation in Africa where all subregions, except Northern Africa, are expected to fail to meet the goal.', 'title': 'Estimates of global prevalence of childhood underweight in 1990 and 2015.'}, vector=None, shard_key=None),\n",
       "  ScoredPoint(id=13580614, version=44, score=1.1573566, payload={'id': '13580614', 'text': 'To the Editor: From May 1995, when metformin was introduced in the United States, through June 30, 1996, the Food and Drug Administration (FDA) received reports of lactic acidosis in 66 patients treated with metformin. In 47 patients, the diagnosis was confirmed on the basis of circulating lactate values (>5 mmol per liter), in accordance with established criteria for the diagnosis of lactic acidosis (Table 1).1,2 Of the 47 patients with confirmed diagnoses, 43 had one or more risk factors for lactic acidosis. Thirty (64 percent) had preexisting cardiac disease, of whom 18 had histories of congestive heart failure. . . .', 'title': 'Lactic acidosis in patients with diabetes treated with metformin.'}, vector=None, shard_key=None),\n",
       "  ScoredPoint(id=36950726, version=90, score=0.6168342, payload={'id': '36950726', 'text': 'Several research groups have recently reported on markedly reduced levels of 5-hydroxymethylcytosine (5hmC) in human breast, liver, lung, pancreatic, colon, prostate, brain, and myeloid cancers. We studied benign compound nevi (BCN, n=17), dysplastic compound nevi (DCN, n=15), superficial spreading melanomas [SSM, stratified in <1 mm (n=19) and >4 mm (n=18) Breslow tumor thickness], and cutaneous metastatic disease (CMD, n=24). Immunohistochemistry included specific antibodies against 5hmC, 5-methylcytosine (5mC), and ten-eleven translocation 2 protein (TET2). Immunohistological scoring showed significantly (P<0.0001) higher median 5hmC levels in BCN and DCN than in thin SSM, thick SSM, and CMD. 5mC immunoreactivity did not differ significantly (P=0.15) between nevi and melanoma. The intensity of TET2 expression was predominantly weak but was found to be significantly (P<0.0001) more often in nevi than in thin SSM, thick SSM, and CMD. We have shown that 5hmC levels and TET2 expression are significantly reduced in advanced melanomas compared with nevi and thin melanomas. It is suggested that 5hmC and TET2 possibly play an important role in the epigenetic regulation of melanoma development and progression.', 'title': 'Loss of 5-hydroxymethylcytosine and ten-eleven translocation 2 protein expression in malignant melanoma.'}, vector=None, shard_key=None),\n",
       "  ScoredPoint(id=38485364, version=92, score=0.6163373, payload={'id': '38485364', 'text': 'Tks5/Fish is a scaffolding protein with five SH3 domains and one PX domain. In Src-transformed cells, Tks5/Fish localizes to podosomes, discrete protrusions of the ventral membrane. We generated Src-transformed cells with reduced Tks5/Fish levels. They no longer formed podosomes, did not degrade gelatin, and were poorly invasive. We detected Tks5/Fish expression in podosomes in invasive cancer cells, as well as in human breast cancer and melanoma samples. Tks5/Fish expression was also required for protease-driven matrigel invasion in human cancer cells. Finally, coexpression of Tks5/Fish and Src in epithelial cells resulted in the appearance of podosomes. Thus, Tks5/Fish appears to be required for podosome formation, for degradation of the extracellular matrix, and for invasion of some cancer cells.', 'title': 'The adaptor protein Tks5/Fish is required for podosome formation and function, and for the protease-driven invasion of cancer cells.'}, vector=None, shard_key=None),\n",
       "  ScoredPoint(id=665817, version=2, score=0.59147143, payload={'id': '665817', 'text': 'AIMS Frontotemporal lobar degeneration (FTLD) is clinically and pathologically heterogeneous. Although associated with variations in MAPT, GRN and C9ORF72, the pathogenesis of these, and of other nongenetic, forms of FTLD, remains unknown. Epigenetic factors such as histone regulation by histone deacetylases (HDAC) may play a role in the dysregulation of transcriptional activity, thought to underpin the neurodegenerative process. METHODS The distribution and intensity of HDACs 4, 5 and 6 was assessed semi-quantitatively in immunostained sections of temporal cortex with hippocampus, and cerebellum, from 33 pathologically confirmed cases of FTLD and 27 controls. RESULTS We found a significantly greater intensity of cytoplasmic immunostaining for HDAC4 and HDAC6 in granule cells of the dentate gyrus in cases of FTLD overall compared with controls, and specifically in cases of FTLD tau-Picks compared with FTLD tau-MAPT and controls. No differences were noted between FTLD-TDP subtypes, or between the different genetic and nongenetic forms of FTLD. No changes were seen in HDAC5 in any FTLD or control cases. CONCLUSIONS Dysregulation of HDAC4 and/or HDAC6 could play a role in the pathogenesis of FTLD-tau associated with Pick bodies, although their lack of immunostaining implies that such changes do not contribute directly to the formation of Pick bodies.', 'title': 'Histone deacetylases (HDACs) in frontotemporal lobar degeneration.'}, vector=None, shard_key=None)],\n",
       " [ScoredPoint(id=3866315, version=13, score=2.424655, payload={'id': '3866315', 'text': 'Aspirin therapy inhibits prostaglandin biosynthesis without directly acting on lipoxygenases, yet via acetylation of cyclooxygenase 2 (COX-2) it leads to bioactive lipoxins (LXs) epimeric at carbon 15 (15-epi-LX, also termed aspirin-triggered LX [ATL]). Here, we report that inflammatory exudates from mice treated with ω-3 polyunsaturated fatty acid and aspirin (ASA) generate a novel array of bioactive lipid signals. Human endothelial cells with upregulated COX-2 treated with ASA converted C20:5 ω-3 to 18R-hydroxyeicosapentaenoic acid (HEPE) and 15R-HEPE. Each was used by polymorphonuclear leukocytes to generate separate classes of novel trihydroxy-containing mediators, including 5-series 15R-LX5 and 5,12,18R-triHEPE. These new compounds proved to be potent inhibitors of human polymorphonuclear leukocyte transendothelial migration and infiltration in vivo (ATL analogue > 5,12,18R-triHEPE > 18R-HEPE). Acetaminophen and indomethacin also permitted 18R-HEPE and 15R-HEPE generation with recombinant COX-2 as well as ω-5 and ω-9 oxygenations of other fatty acids that act on hematologic cells. These findings establish new transcellular routes for producing arrays of bioactive lipid mediators via COX-2–nonsteroidal antiinflammatory drug–dependent oxygenations and cell–cell interactions that impact microinflammation. The generation of these and related compounds provides a novel mechanism(s) for the therapeutic benefits of ω-3 dietary supplementation, which may be important in inflammation, neoplasia, and vascular diseases.', 'title': 'Novel Functional Sets of Lipid-Derived Mediators with Antiinflammatory Actions Generated from Omega-3 Fatty Acids via Cyclooxygenase 2–Nonsteroidal Antiinflammatory Drugs and Transcellular Processing'}, vector=None, shard_key=None),\n",
       "  ScoredPoint(id=25510546, version=74, score=2.2262087, payload={'id': '25510546', 'text': 'Increased lipid supply causes beta cell death, which may contribute to reduced beta cell mass in type 2 diabetes. We investigated whether endoplasmic reticulum (ER) stress is necessary for lipid-induced apoptosis in beta cells and also whether ER stress is present in islets of an animal model of diabetes and of humans with type 2 diabetes. Expression of genes involved in ER stress was evaluated in insulin-secreting MIN6 cells exposed to elevated lipids, in islets isolated from db/db mice and in pancreas sections of humans with type 2 diabetes. Overproduction of the ER chaperone heat shock 70 kDa protein 5 (HSPA5, previously known as immunoglobulin heavy chain binding protein [BIP]) was performed to assess whether attenuation of ER stress affected lipid-induced apoptosis. We demonstrated that the pro-apoptotic fatty acid palmitate triggers a comprehensive ER stress response in MIN6 cells, which was virtually absent using non-apoptotic fatty acid oleate. Time-dependent increases in mRNA levels for activating transcription factor 4 (Atf4), DNA-damage inducible transcript 3 (Ddit3, previously known as C/EBP homologous protein [Chop]) and DnaJ homologue (HSP40) C3 (Dnajc3, previously known as p58) correlated with increased apoptosis in palmitate- but not in oleate-treated MIN6 cells. Attenuation of ER stress by overproduction of HSPA5 in MIN6 cells significantly protected against lipid-induced apoptosis. In islets of db/db mice, a variety of marker genes of ER stress were also upregulated. Increased processing (activation) of X-box binding protein 1 (Xbp1) mRNA was also observed, confirming the existence of ER stress. Finally, we observed increased islet protein production of HSPA5, DDIT3, DNAJC3 and BCL2-associated X protein in human pancreas sections of type 2 diabetes subjects. Our results provide evidence that ER stress occurs in type 2 diabetes and is required for aspects of the underlying beta cell failure.', 'title': 'Endoplasmic reticulum stress contributes to beta cell apoptosis in type 2 diabetes'}, vector=None, shard_key=None),\n",
       "  ScoredPoint(id=13373629, version=43, score=1.7386454, payload={'id': '13373629', 'text': 'BACKGROUND Recent genome-wide association studies (GWAS) have mapped several novel loci influencing blood lipid levels in Caucasians. We sought to explore whether the genetic variants at newly identified lipid-associated loci were associated with CHD susceptibility in a Chinese Han population. METHODOLOGY/PRINCIPAL FINDINGS We conducted a two-stage case-control study in a Chinese Han population. The first-stage, consisting of 1,376 CHD cases and 1,376 sex and age- frequency matched controls, examined 5 novel lipid-associated single-nucleotide polymorphisms (SNPs) identified from GWAS among Caucasians in relation to CHD risk in Chinese. We then validated significant SNPs in the second-stage, consisting of 1,269 cases and 2,745 controls. We also tested associations between SNPs within the five novel loci and blood lipid levels in 4,121 controls. We identified two novel SNPs (rs599839 in CELSR2-PSRC1-SORT1 and rs16996148 in NCAN-CILP2) that were significantly associated with reduced CHD risk in Chinese (odds ratios (95% confidence intervals) in the dominant model 0.76 (0.61-0.90; P = 0.001), 0.67 (0.57-0.77; P = 3.4×10(-8)), respectively). Multiple linear regression analyses using dominant model showed that rs599839 was significantly associated with decreased LDL levels (P = 0.022) and rs16996148 was significantly associated with increased LDL and HDL levels (P = 2.9×10(-4) and 0.001, respectively). CONCLUSIONS/SIGNIFICANCE We identified two novel SNPs (rs599839 and rs16996148) at newly identified lipid-associated loci that were significantly associated with CHD susceptibility in a Chinese Han population.', 'title': 'Genetic Variants at Newly Identified Lipid Loci Are Associated with Coronary Heart Disease in a Chinese Han Population'}, vector=None, shard_key=None),\n",
       "  ScoredPoint(id=23262027, version=68, score=1.4231818, payload={'id': '23262027', 'text': 'Eight isolates of Desulfovibrio spp. have been obtained over 5 years from abdominal or brain abscesses or blood. Seven isolates were part of a mixed flora [corrected]. One strain was isolated in pure culture from the blood of a patient with peritonitis of appendicular origin. According to the 16S rRNA gene sequences, this strain was close to Desulfovibrio fairfieldensis. The present report describes the fourth isolate of this recently described species to be isolated in pure culture or as a predominant part of the flora and to be associated with infectious processes. Thus, D. fairfieldensis may possess a higher pathogenic potential than other Desulfovibrio species.', 'title': 'Bacteremia caused by a strain of Desulfovibrio related to the provisionally named Desulfovibrio fairfieldensis.'}, vector=None, shard_key=None),\n",
       "  ScoredPoint(id=11090688, version=37, score=1.3274131, payload={'id': '11090688', 'text': 'The weight lowering potential of glucagon-like peptide 1 (GLP-1) receptor agonists (RAs) is inter-individually different and clinically unpredictable. The potential role of genetic variability of GLP-1R on body weight response to GLP-1 RAs in obese women with polycystic ovary syndrome (PCOS) has not yet been evaluated. Fifty-seven obese women with PCOS (aged 30.7 ± 7.0, BMI 38.6 ± 5.3 kg/m2) were assigned to liraglutide 1.2 mg QD s.c. for 12 weeks and classified as strong responders regarding weight loss if they lost 5 % or more of their initial body weight. They were genotyped for common GLP-1R single nucleotide polymorphisms (SNPs) rs6923761 and rs10305420. Changes of measures of obesity were measured before and at the end of the treatment. Twenty out of 57 subjects were strong responders and lost 7.38 ± 1.74 compared to 2.11 ± 2.17 kg lost in poor responders. Carriers of at least one polymorphic rs10305420 allele had poor treatment response compared to carriers of two wild type alleles (OR = 0.27, 95 % CI = 0.09–0.85, P = 0.025). Carriers of at least one polymorphic rs6923761 allele tended to have stronger treatment response compared to carriers of two wild type alleles (OR = 3.06, 95 % CI = 0.96–9.74, P = 0.058). Fasting glucose and glucose after oral glucose tolerance test (OGTT) comparably decreased in both groups when compared to baseline, whereas no within treatment differences were found in androgen profile. Gastrointestinal adverse events were transit and balanced between strong and poor responders. GLP-1R rs10305420 polymorphism explained some of the inter-individual differences in response to liraglutide regarding weight loss in obese PCOS women.', 'title': 'Genetic variability in GLP-1 receptor is associated with inter-individual differences in weight lowering potential of liraglutide in obese women with PCOS: a pilot study'}, vector=None, shard_key=None),\n",
       "  ScoredPoint(id=1606628, version=5, score=1.3217015, payload={'id': '1606628', 'text': 'CONTEXT One key target of the United Nations Millennium Development goals is to reduce the prevalence of underweight among children younger than 5 years by half between 1990 and 2015. OBJECTIVE To estimate trends in childhood underweight by geographic regions of the world. DESIGN, SETTING, AND PARTICIPANTS Time series study of prevalence of underweight, defined as weight 2 SDs below the mean weight for age of the National Center for Health Statistics and World Health Organization (WHO) reference population. National prevalence rates derived from the WHO Global Database on Child Growth and Malnutrition, which includes data on approximately 31 million children younger than 5 years who participated in 419 national nutritional surveys in 139 countries from 1965 through 2002. MAIN OUTCOME MEASURES Linear mixed-effects modeling was used to estimate prevalence rates and numbers of underweight children by region in 1990 and 2015 and to calculate the changes (ie, increase or decrease) to these values between 1990 and 2015. RESULTS Worldwide, underweight prevalence was projected to decline from 26.5% in 1990 to 17.6% in 2015, a change of -34% (95% confidence interval [CI], -43% to -23%). In developed countries, the prevalence was estimated to decrease from 1.6% to 0.9%, a change of -41% (95% CI, -92% to 343%). In developing regions, the prevalence was forecasted to decline from 30.2% to 19.3%, a change of -36% (95% CI, -45% to -26%). In Africa, the prevalence of underweight was forecasted to increase from 24.0% to 26.8%, a change of 12% (95% CI, 8%-16%). In Asia, the prevalence was estimated to decrease from 35.1% to 18.5%, a change of -47% (95% CI, -58% to -34%). Worldwide, the number of underweight children was projected to decline from 163.8 million in 1990 to 113.4 million in 2015, a change of -31% (95% CI, -40% to -20%). Numbers are projected to decrease in all subregions except the subregions of sub-Saharan, Eastern, Middle, and Western Africa, which are expected to experience substantial increases in the number of underweight children. CONCLUSIONS An overall improvement in the global situation is anticipated; however, neither the world as a whole, nor the developing regions, are expected to achieve the Millennium Development goals. This is largely due to the deteriorating situation in Africa where all subregions, except Northern Africa, are expected to fail to meet the goal.', 'title': 'Estimates of global prevalence of childhood underweight in 1990 and 2015.'}, vector=None, shard_key=None),\n",
       "  ScoredPoint(id=13580614, version=44, score=1.2064797, payload={'id': '13580614', 'text': 'To the Editor: From May 1995, when metformin was introduced in the United States, through June 30, 1996, the Food and Drug Administration (FDA) received reports of lactic acidosis in 66 patients treated with metformin. In 47 patients, the diagnosis was confirmed on the basis of circulating lactate values (>5 mmol per liter), in accordance with established criteria for the diagnosis of lactic acidosis (Table 1).1,2 Of the 47 patients with confirmed diagnoses, 43 had one or more risk factors for lactic acidosis. Thirty (64 percent) had preexisting cardiac disease, of whom 18 had histories of congestive heart failure. . . .', 'title': 'Lactic acidosis in patients with diabetes treated with metformin.'}, vector=None, shard_key=None),\n",
       "  ScoredPoint(id=36950726, version=90, score=0.64301527, payload={'id': '36950726', 'text': 'Several research groups have recently reported on markedly reduced levels of 5-hydroxymethylcytosine (5hmC) in human breast, liver, lung, pancreatic, colon, prostate, brain, and myeloid cancers. We studied benign compound nevi (BCN, n=17), dysplastic compound nevi (DCN, n=15), superficial spreading melanomas [SSM, stratified in <1 mm (n=19) and >4 mm (n=18) Breslow tumor thickness], and cutaneous metastatic disease (CMD, n=24). Immunohistochemistry included specific antibodies against 5hmC, 5-methylcytosine (5mC), and ten-eleven translocation 2 protein (TET2). Immunohistological scoring showed significantly (P<0.0001) higher median 5hmC levels in BCN and DCN than in thin SSM, thick SSM, and CMD. 5mC immunoreactivity did not differ significantly (P=0.15) between nevi and melanoma. The intensity of TET2 expression was predominantly weak but was found to be significantly (P<0.0001) more often in nevi than in thin SSM, thick SSM, and CMD. We have shown that 5hmC levels and TET2 expression are significantly reduced in advanced melanomas compared with nevi and thin melanomas. It is suggested that 5hmC and TET2 possibly play an important role in the epigenetic regulation of melanoma development and progression.', 'title': 'Loss of 5-hydroxymethylcytosine and ten-eleven translocation 2 protein expression in malignant melanoma.'}, vector=None, shard_key=None),\n",
       "  ScoredPoint(id=38485364, version=92, score=0.64249724, payload={'id': '38485364', 'text': 'Tks5/Fish is a scaffolding protein with five SH3 domains and one PX domain. In Src-transformed cells, Tks5/Fish localizes to podosomes, discrete protrusions of the ventral membrane. We generated Src-transformed cells with reduced Tks5/Fish levels. They no longer formed podosomes, did not degrade gelatin, and were poorly invasive. We detected Tks5/Fish expression in podosomes in invasive cancer cells, as well as in human breast cancer and melanoma samples. Tks5/Fish expression was also required for protease-driven matrigel invasion in human cancer cells. Finally, coexpression of Tks5/Fish and Src in epithelial cells resulted in the appearance of podosomes. Thus, Tks5/Fish appears to be required for podosome formation, for degradation of the extracellular matrix, and for invasion of some cancer cells.', 'title': 'The adaptor protein Tks5/Fish is required for podosome formation and function, and for the protease-driven invasion of cancer cells.'}, vector=None, shard_key=None),\n",
       "  ScoredPoint(id=665817, version=2, score=0.6128406, payload={'id': '665817', 'text': 'AIMS Frontotemporal lobar degeneration (FTLD) is clinically and pathologically heterogeneous. Although associated with variations in MAPT, GRN and C9ORF72, the pathogenesis of these, and of other nongenetic, forms of FTLD, remains unknown. Epigenetic factors such as histone regulation by histone deacetylases (HDAC) may play a role in the dysregulation of transcriptional activity, thought to underpin the neurodegenerative process. METHODS The distribution and intensity of HDACs 4, 5 and 6 was assessed semi-quantitatively in immunostained sections of temporal cortex with hippocampus, and cerebellum, from 33 pathologically confirmed cases of FTLD and 27 controls. RESULTS We found a significantly greater intensity of cytoplasmic immunostaining for HDAC4 and HDAC6 in granule cells of the dentate gyrus in cases of FTLD overall compared with controls, and specifically in cases of FTLD tau-Picks compared with FTLD tau-MAPT and controls. No differences were noted between FTLD-TDP subtypes, or between the different genetic and nongenetic forms of FTLD. No changes were seen in HDAC5 in any FTLD or control cases. CONCLUSIONS Dysregulation of HDAC4 and/or HDAC6 could play a role in the pathogenesis of FTLD-tau associated with Pick bodies, although their lack of immunostaining implies that such changes do not contribute directly to the formation of Pick bodies.', 'title': 'Histone deacetylases (HDACs) in frontotemporal lobar degeneration.'}, vector=None, shard_key=None)],\n",
       " [ScoredPoint(id=19799455, version=59, score=1.015687, payload={'id': '19799455', 'text': 'The only proven requirement for ascorbic acid (vitamin C) is in preventing scurvy, presumably because it is a cofactor for hydroxylases required for post-translational modifications that stabilize collagen. We have created mice deficient in the mouse ortholog (solute carrier family 23 member 1 or Slc23a1) of a rat ascorbic-acid transporter, Svct2 (ref. 4). Cultured embryonic fibroblasts from homozygous Slc23a1−/− mice had less than 5% of normal ascorbic-acid uptake. Ascorbic-acid levels were undetectable or markedly reduced in the blood and tissues of Slc23a1−/− mice. Prenatal supplementation of pregnant females did not elevate blood ascorbic acid in Slc23a1−/− fetuses, suggesting Slc23a1 is important in placental ascorbic-acid transport. Slc23a1−/− mice died within a few minutes of birth with respiratory failure and intraparenchymal brain hemorrhage. Lungs showed no postnatal expansion but had normal surfactant protein B levels. Brain hemorrhage was unlikely to be simply a form of scurvy since Slc23a1−/− mice showed no hemorrhage in any other tissues and their skin had normal skin 4-hydroxyproline levels despite low ascorbic-acid content. We conclude that Slc23a1 is required for transport of ascorbic acid into many tissues and across the placenta. Deficiency of the transporter is lethal in newborn mice, thereby revealing a previously unrecognized requirement for ascorbic acid in the perinatal period.', 'title': 'Ascorbic-acid transporter Slc23a1 is essential for vitamin C transport into the brain and for perinatal survival'}, vector=None, shard_key=None),\n",
       "  ScoredPoint(id=3866315, version=13, score=0.7615905, payload={'id': '3866315', 'text': 'Aspirin therapy inhibits prostaglandin biosynthesis without directly acting on lipoxygenases, yet via acetylation of cyclooxygenase 2 (COX-2) it leads to bioactive lipoxins (LXs) epimeric at carbon 15 (15-epi-LX, also termed aspirin-triggered LX [ATL]). Here, we report that inflammatory exudates from mice treated with ω-3 polyunsaturated fatty acid and aspirin (ASA) generate a novel array of bioactive lipid signals. Human endothelial cells with upregulated COX-2 treated with ASA converted C20:5 ω-3 to 18R-hydroxyeicosapentaenoic acid (HEPE) and 15R-HEPE. Each was used by polymorphonuclear leukocytes to generate separate classes of novel trihydroxy-containing mediators, including 5-series 15R-LX5 and 5,12,18R-triHEPE. These new compounds proved to be potent inhibitors of human polymorphonuclear leukocyte transendothelial migration and infiltration in vivo (ATL analogue > 5,12,18R-triHEPE > 18R-HEPE). Acetaminophen and indomethacin also permitted 18R-HEPE and 15R-HEPE generation with recombinant COX-2 as well as ω-5 and ω-9 oxygenations of other fatty acids that act on hematologic cells. These findings establish new transcellular routes for producing arrays of bioactive lipid mediators via COX-2–nonsteroidal antiinflammatory drug–dependent oxygenations and cell–cell interactions that impact microinflammation. The generation of these and related compounds provides a novel mechanism(s) for the therapeutic benefits of ω-3 dietary supplementation, which may be important in inflammation, neoplasia, and vascular diseases.', 'title': 'Novel Functional Sets of Lipid-Derived Mediators with Antiinflammatory Actions Generated from Omega-3 Fatty Acids via Cyclooxygenase 2–Nonsteroidal Antiinflammatory Drugs and Transcellular Processing'}, vector=None, shard_key=None),\n",
       "  ScoredPoint(id=25510546, version=74, score=0.6992579, payload={'id': '25510546', 'text': 'Increased lipid supply causes beta cell death, which may contribute to reduced beta cell mass in type 2 diabetes. We investigated whether endoplasmic reticulum (ER) stress is necessary for lipid-induced apoptosis in beta cells and also whether ER stress is present in islets of an animal model of diabetes and of humans with type 2 diabetes. Expression of genes involved in ER stress was evaluated in insulin-secreting MIN6 cells exposed to elevated lipids, in islets isolated from db/db mice and in pancreas sections of humans with type 2 diabetes. Overproduction of the ER chaperone heat shock 70 kDa protein 5 (HSPA5, previously known as immunoglobulin heavy chain binding protein [BIP]) was performed to assess whether attenuation of ER stress affected lipid-induced apoptosis. We demonstrated that the pro-apoptotic fatty acid palmitate triggers a comprehensive ER stress response in MIN6 cells, which was virtually absent using non-apoptotic fatty acid oleate. Time-dependent increases in mRNA levels for activating transcription factor 4 (Atf4), DNA-damage inducible transcript 3 (Ddit3, previously known as C/EBP homologous protein [Chop]) and DnaJ homologue (HSP40) C3 (Dnajc3, previously known as p58) correlated with increased apoptosis in palmitate- but not in oleate-treated MIN6 cells. Attenuation of ER stress by overproduction of HSPA5 in MIN6 cells significantly protected against lipid-induced apoptosis. In islets of db/db mice, a variety of marker genes of ER stress were also upregulated. Increased processing (activation) of X-box binding protein 1 (Xbp1) mRNA was also observed, confirming the existence of ER stress. Finally, we observed increased islet protein production of HSPA5, DDIT3, DNAJC3 and BCL2-associated X protein in human pancreas sections of type 2 diabetes subjects. Our results provide evidence that ER stress occurs in type 2 diabetes and is required for aspects of the underlying beta cell failure.', 'title': 'Endoplasmic reticulum stress contributes to beta cell apoptosis in type 2 diabetes'}, vector=None, shard_key=None),\n",
       "  ScoredPoint(id=13373629, version=43, score=0.5419264, payload={'id': '13373629', 'text': 'BACKGROUND Recent genome-wide association studies (GWAS) have mapped several novel loci influencing blood lipid levels in Caucasians. We sought to explore whether the genetic variants at newly identified lipid-associated loci were associated with CHD susceptibility in a Chinese Han population. METHODOLOGY/PRINCIPAL FINDINGS We conducted a two-stage case-control study in a Chinese Han population. The first-stage, consisting of 1,376 CHD cases and 1,376 sex and age- frequency matched controls, examined 5 novel lipid-associated single-nucleotide polymorphisms (SNPs) identified from GWAS among Caucasians in relation to CHD risk in Chinese. We then validated significant SNPs in the second-stage, consisting of 1,269 cases and 2,745 controls. We also tested associations between SNPs within the five novel loci and blood lipid levels in 4,121 controls. We identified two novel SNPs (rs599839 in CELSR2-PSRC1-SORT1 and rs16996148 in NCAN-CILP2) that were significantly associated with reduced CHD risk in Chinese (odds ratios (95% confidence intervals) in the dominant model 0.76 (0.61-0.90; P = 0.001), 0.67 (0.57-0.77; P = 3.4×10(-8)), respectively). Multiple linear regression analyses using dominant model showed that rs599839 was significantly associated with decreased LDL levels (P = 0.022) and rs16996148 was significantly associated with increased LDL and HDL levels (P = 2.9×10(-4) and 0.001, respectively). CONCLUSIONS/SIGNIFICANCE We identified two novel SNPs (rs599839 and rs16996148) at newly identified lipid-associated loci that were significantly associated with CHD susceptibility in a Chinese Han population.', 'title': 'Genetic Variants at Newly Identified Lipid Loci Are Associated with Coronary Heart Disease in a Chinese Han Population'}, vector=None, shard_key=None),\n",
       "  ScoredPoint(id=23262027, version=68, score=0.44702512, payload={'id': '23262027', 'text': 'Eight isolates of Desulfovibrio spp. have been obtained over 5 years from abdominal or brain abscesses or blood. Seven isolates were part of a mixed flora [corrected]. One strain was isolated in pure culture from the blood of a patient with peritonitis of appendicular origin. According to the 16S rRNA gene sequences, this strain was close to Desulfovibrio fairfieldensis. The present report describes the fourth isolate of this recently described species to be isolated in pure culture or as a predominant part of the flora and to be associated with infectious processes. Thus, D. fairfieldensis may possess a higher pathogenic potential than other Desulfovibrio species.', 'title': 'Bacteremia caused by a strain of Desulfovibrio related to the provisionally named Desulfovibrio fairfieldensis.'}, vector=None, shard_key=None),\n",
       "  ScoredPoint(id=11090688, version=37, score=0.4169439, payload={'id': '11090688', 'text': 'The weight lowering potential of glucagon-like peptide 1 (GLP-1) receptor agonists (RAs) is inter-individually different and clinically unpredictable. The potential role of genetic variability of GLP-1R on body weight response to GLP-1 RAs in obese women with polycystic ovary syndrome (PCOS) has not yet been evaluated. Fifty-seven obese women with PCOS (aged 30.7 ± 7.0, BMI 38.6 ± 5.3 kg/m2) were assigned to liraglutide 1.2 mg QD s.c. for 12 weeks and classified as strong responders regarding weight loss if they lost 5 % or more of their initial body weight. They were genotyped for common GLP-1R single nucleotide polymorphisms (SNPs) rs6923761 and rs10305420. Changes of measures of obesity were measured before and at the end of the treatment. Twenty out of 57 subjects were strong responders and lost 7.38 ± 1.74 compared to 2.11 ± 2.17 kg lost in poor responders. Carriers of at least one polymorphic rs10305420 allele had poor treatment response compared to carriers of two wild type alleles (OR = 0.27, 95 % CI = 0.09–0.85, P = 0.025). Carriers of at least one polymorphic rs6923761 allele tended to have stronger treatment response compared to carriers of two wild type alleles (OR = 3.06, 95 % CI = 0.96–9.74, P = 0.058). Fasting glucose and glucose after oral glucose tolerance test (OGTT) comparably decreased in both groups when compared to baseline, whereas no within treatment differences were found in androgen profile. Gastrointestinal adverse events were transit and balanced between strong and poor responders. GLP-1R rs10305420 polymorphism explained some of the inter-individual differences in response to liraglutide regarding weight loss in obese PCOS women.', 'title': 'Genetic variability in GLP-1 receptor is associated with inter-individual differences in weight lowering potential of liraglutide in obese women with PCOS: a pilot study'}, vector=None, shard_key=None),\n",
       "  ScoredPoint(id=1606628, version=5, score=0.4151499, payload={'id': '1606628', 'text': 'CONTEXT One key target of the United Nations Millennium Development goals is to reduce the prevalence of underweight among children younger than 5 years by half between 1990 and 2015. OBJECTIVE To estimate trends in childhood underweight by geographic regions of the world. DESIGN, SETTING, AND PARTICIPANTS Time series study of prevalence of underweight, defined as weight 2 SDs below the mean weight for age of the National Center for Health Statistics and World Health Organization (WHO) reference population. National prevalence rates derived from the WHO Global Database on Child Growth and Malnutrition, which includes data on approximately 31 million children younger than 5 years who participated in 419 national nutritional surveys in 139 countries from 1965 through 2002. MAIN OUTCOME MEASURES Linear mixed-effects modeling was used to estimate prevalence rates and numbers of underweight children by region in 1990 and 2015 and to calculate the changes (ie, increase or decrease) to these values between 1990 and 2015. RESULTS Worldwide, underweight prevalence was projected to decline from 26.5% in 1990 to 17.6% in 2015, a change of -34% (95% confidence interval [CI], -43% to -23%). In developed countries, the prevalence was estimated to decrease from 1.6% to 0.9%, a change of -41% (95% CI, -92% to 343%). In developing regions, the prevalence was forecasted to decline from 30.2% to 19.3%, a change of -36% (95% CI, -45% to -26%). In Africa, the prevalence of underweight was forecasted to increase from 24.0% to 26.8%, a change of 12% (95% CI, 8%-16%). In Asia, the prevalence was estimated to decrease from 35.1% to 18.5%, a change of -47% (95% CI, -58% to -34%). Worldwide, the number of underweight children was projected to decline from 163.8 million in 1990 to 113.4 million in 2015, a change of -31% (95% CI, -40% to -20%). Numbers are projected to decrease in all subregions except the subregions of sub-Saharan, Eastern, Middle, and Western Africa, which are expected to experience substantial increases in the number of underweight children. CONCLUSIONS An overall improvement in the global situation is anticipated; however, neither the world as a whole, nor the developing regions, are expected to achieve the Millennium Development goals. This is largely due to the deteriorating situation in Africa where all subregions, except Northern Africa, are expected to fail to meet the goal.', 'title': 'Estimates of global prevalence of childhood underweight in 1990 and 2015.'}, vector=None, shard_key=None),\n",
       "  ScoredPoint(id=6536598, version=24, score=0.40643165, payload={'id': '6536598', 'text': 'Chromatin structure is modulated during deoxyribonucleic acid excision repair, but how this is achieved is unclear. Loss of the yeast Ino80 chromatin-remodeling complex (Ino80-C) moderately sensitizes cells to ultraviolet (UV) light. In this paper, we show that INO80 acts in the same genetic pathway as nucleotide excision repair (NER) and that the Ino80-C contributes to efficient UV photoproduct removal in a region of high nucleosome occupancy. Moreover, Ino80 interacts with the early NER damage recognition complex Rad4-Rad23 and is recruited to chromatin by Rad4 in a UV damage-dependent manner. Using a modified chromatin immunoprecipitation assay, we find that chromatin disruption during UV lesion repair is normal, whereas the restoration of nucleosome structure is defective in ino80 mutant cells. Collectively, our work suggests that Ino80 is recruited to sites of UV lesion repair through interactions with the NER apparatus and is required for the restoration of chromatin structure after repair.', 'title': 'The Ino80 chromatin-remodeling complex restores chromatin structure during UV DNA damage repair'}, vector=None, shard_key=None),\n",
       "  ScoredPoint(id=13580614, version=44, score=0.37895843, payload={'id': '13580614', 'text': 'To the Editor: From May 1995, when metformin was introduced in the United States, through June 30, 1996, the Food and Drug Administration (FDA) received reports of lactic acidosis in 66 patients treated with metformin. In 47 patients, the diagnosis was confirmed on the basis of circulating lactate values (>5 mmol per liter), in accordance with established criteria for the diagnosis of lactic acidosis (Table 1).1,2 Of the 47 patients with confirmed diagnoses, 43 had one or more risk factors for lactic acidosis. Thirty (64 percent) had preexisting cardiac disease, of whom 18 had histories of congestive heart failure. . . .', 'title': 'Lactic acidosis in patients with diabetes treated with metformin.'}, vector=None, shard_key=None),\n",
       "  ScoredPoint(id=2891825, version=10, score=0.2956739, payload={'id': '2891825', 'text': 'OBJECTIVES To study the prevalence of asthma (asthma symptoms and bronchial hyperresponsiveness) in Swedish cross country skiers compared with non-skiers and monitor changes in symptoms and bronchial hyperresponsiveness during the year. DESIGN Cross sectional study during the winter ski season and in the summer. SETTING Six ski clubs for élite skiers (total 47) in two different areas of Sweden. SUBJECTS 42 élite cross country skiers and 29 non-skiing referents. MAIN OUTCOME MEASURES Bronchial responsiveness, asthma symptoms, and lung function. RESULTS Bronchial responsiveness was significantly greater and asthma symptoms more prevalent in the skiers than in the referents. There was no difference in bronchial responsiveness within either group between winter and summer. 15 of the 42 skiers used antiasthmatic drugs regularly and 23 had a combination of asthma symptoms and hyperresponsive airways or physician diagnosed asthma, or both. Altogether 33 skiers had symptoms of asthma or bronchial hyperresponsiveness. One of the referents had symptoms of asthma and bronchial hyperresponsiveness, and none used antiasthmatic drugs regularly. CONCLUSIONS Asthma, asthma-like symptoms, and bronchial hyperresponsiveness are much more common in cross country skiers than in the general population and non-skiers. Strenuous exercise at low temperatures entailing breathing large volumes of cold air is the most probable explanation of persistent asthma in skiers.', 'title': 'High prevalence of asthma in cross country skiers.'}, vector=None, shard_key=None)]]"
      ]
     },
     "execution_count": 107,
     "metadata": {},
     "output_type": "execute_result"
    }
   ],
   "source": [
    "results[:3]"
   ]
  },
  {
   "cell_type": "code",
   "execution_count": 108,
   "metadata": {},
   "outputs": [],
   "source": [
    "query_ids, doc_ids, ranks, scores = [], [], [], []\n",
    "for query, result in zip(queries, results):\n",
    "    query_id = query[\"_id\"]\n",
    "    result_ids = [str(r.id) for r in result]\n",
    "    result_scores = [r.score for r in result]\n",
    "    result_ranks = list(range(len(result)))\n",
    "    query_ids.extend(len(result) * [query_id])\n",
    "    doc_ids.extend(result_ids)\n",
    "    ranks.extend(result_ranks)\n",
    "    scores.extend(result_scores)\n",
    "    # print(f\"query: {query_id}\")\n",
    "    # print(f\"docid: {result_ids}\")\n",
    "    # print(f\"rank: {result_ranks}\")\n",
    "    # print(f\"score: {result_scores}\")\n",
    "\n",
    "run = {\n",
    "    \"query\": [int(q) for q in query_ids],\n",
    "    \"q0\": len(query_ids) * [\"q0\"],\n",
    "    \"docid\": doc_ids,\n",
    "    \"rank\": ranks,\n",
    "    \"score\": scores,\n",
    "    \"system\": len(query_ids) * [\"splade\"],\n",
    "}\n",
    "\n",
    "with open(\"bge-m3-sentence-piece-retokenizer.run.json\", \"w\") as f:\n",
    "    json.dump(run, f, indent=2)"
   ]
  }
 ],
 "metadata": {
  "kernelspec": {
   "display_name": "Python 3 (ipykernel)",
   "language": "python",
   "name": "python3"
  },
  "language_info": {
   "codemirror_mode": {
    "name": "ipython",
    "version": 3
   },
   "file_extension": ".py",
   "mimetype": "text/x-python",
   "name": "python",
   "nbconvert_exporter": "python",
   "pygments_lexer": "ipython3",
   "version": "3.9.19"
  }
 },
 "nbformat": 4,
 "nbformat_minor": 4
}
