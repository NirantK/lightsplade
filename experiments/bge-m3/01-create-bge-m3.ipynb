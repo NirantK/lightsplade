{
 "cells": [
  {
   "cell_type": "code",
   "execution_count": 1,
   "metadata": {},
   "outputs": [],
   "source": [
    "# !pip install -U FlagEmbedding -qq"
   ]
  },
  {
   "cell_type": "code",
   "execution_count": 8,
   "metadata": {},
   "outputs": [],
   "source": [
    "%load_ext autoreload\n",
    "%autoreload 2"
   ]
  },
  {
   "cell_type": "code",
   "execution_count": 36,
   "metadata": {},
   "outputs": [
    {
     "data": {
      "text/plain": [
       "True"
      ]
     },
     "execution_count": 36,
     "metadata": {},
     "output_type": "execute_result"
    }
   ],
   "source": [
    "import getpass\n",
    "import json\n",
    "import os\n",
    "from typing import List\n",
    "\n",
    "from datasets import Dataset, load_dataset\n",
    "from FlagEmbedding import BGEM3FlagModel\n",
    "\n",
    "from dotenv import load_dotenv\n",
    "\n",
    "load_dotenv()"
   ]
  },
  {
   "cell_type": "code",
   "execution_count": 3,
   "metadata": {},
   "outputs": [
    {
     "data": {
      "application/vnd.jupyter.widget-view+json": {
       "model_id": "59d60722aabb40e5b010861931ec10cf",
       "version_major": 2,
       "version_minor": 0
      },
      "text/plain": [
       "Fetching 30 files:   0%|          | 0/30 [00:00<?, ?it/s]"
      ]
     },
     "metadata": {},
     "output_type": "display_data"
    }
   ],
   "source": [
    "model = BGEM3FlagModel(\n",
    "    \"BAAI/bge-m3\", use_fp16=True\n",
    ")  # Setting use_fp16 to True speeds up computation with a slight performance degradation"
   ]
  },
  {
   "cell_type": "code",
   "execution_count": 4,
   "metadata": {},
   "outputs": [],
   "source": [
    "# sentences_1 = [\"What is BGE M3?\", \"Defination of BM25\"]\n",
    "# sentences_2 = [\"BGE M3 is an embedding model supporting dense retrieval, lexical matching and multi-vector interaction.\",\n",
    "sample = \"BM25 is a bag-of-words retrieval function that ranks a set of documents based on the query terms appearing in each document\"\n",
    "batch = [sample] * 2\n",
    "\n",
    "\n",
    "def get_sparse_vector(batch: List[str]):\n",
    "    output = model.encode(\n",
    "        batch, return_dense=False, return_sparse=True, return_colbert_vecs=False\n",
    "    )\n",
    "    return output[\"lexical_weights\"]"
   ]
  },
  {
   "cell_type": "code",
   "execution_count": 5,
   "metadata": {},
   "outputs": [
    {
     "data": {
      "application/vnd.jupyter.widget-view+json": {
       "model_id": "ceeec703da7c49b5bc488858d6c31597",
       "version_major": 2,
       "version_minor": 0
      },
      "text/plain": [
       "Downloading data:   0%|          | 0.00/4.58M [00:00<?, ?B/s]"
      ]
     },
     "metadata": {},
     "output_type": "display_data"
    },
    {
     "data": {
      "application/vnd.jupyter.widget-view+json": {
       "model_id": "41d987c84cd04a79905a6c553dad693a",
       "version_major": 2,
       "version_minor": 0
      },
      "text/plain": [
       "Generating corpus split:   0%|          | 0/5183 [00:00<?, ? examples/s]"
      ]
     },
     "metadata": {},
     "output_type": "display_data"
    }
   ],
   "source": [
    "corpus = load_dataset(\"BeIR/scifact\", \"corpus\")[\"corpus\"]"
   ]
  },
  {
   "cell_type": "code",
   "execution_count": 6,
   "metadata": {},
   "outputs": [
    {
     "name": "stdout",
     "output_type": "stream",
     "text": [
      "range(0, 10)\n"
     ]
    }
   ],
   "source": [
    "def batch_iterator(iterable, batch_size=128):\n",
    "    \"\"\"\n",
    "    Iterates over an iterable in batches of a given size.\n",
    "\n",
    "    Args:\n",
    "        iterable: An iterable object.\n",
    "        batch_size: The size of each batch.\n",
    "\n",
    "    Yields:\n",
    "        A batch of items from the iterable.\n",
    "    \"\"\"\n",
    "\n",
    "    iterable_length = len(iterable)\n",
    "    for ndx in range(0, iterable_length, batch_size):\n",
    "        yield iterable[ndx : min(ndx + batch_size, iterable_length)]\n",
    "\n",
    "\n",
    "# Example usage:\n",
    "for batch in batch_iterator(range(10), 12):\n",
    "    print(batch)"
   ]
  },
  {
   "cell_type": "code",
   "execution_count": 7,
   "metadata": {},
   "outputs": [],
   "source": [
    "corpus = load_dataset(\"BeIR/scifact\", \"corpus\")[\"corpus\"]"
   ]
  },
  {
   "cell_type": "code",
   "execution_count": 10,
   "metadata": {},
   "outputs": [
    {
     "data": {
      "text/plain": [
       "{'_id': Value(dtype='string', id=None),\n",
       " 'title': Value(dtype='string', id=None),\n",
       " 'text': Value(dtype='string', id=None)}"
      ]
     },
     "execution_count": 10,
     "metadata": {},
     "output_type": "execute_result"
    }
   ],
   "source": [
    "corpus.features"
   ]
  },
  {
   "cell_type": "code",
   "execution_count": 39,
   "metadata": {},
   "outputs": [
    {
     "name": "stderr",
     "output_type": "stream",
     "text": [
      "Inference Embeddings: 100%|██████████| 432/432 [10:38<00:00,  1.48s/it]\n"
     ]
    }
   ],
   "source": [
    "raw_sparse_vectors = get_sparse_vector(corpus[\"text\"])"
   ]
  },
  {
   "cell_type": "code",
   "execution_count": 1,
   "metadata": {},
   "outputs": [
    {
     "ename": "NameError",
     "evalue": "name 'raw_sparse_vectors' is not defined",
     "output_type": "error",
     "traceback": [
      "\u001b[0;31m---------------------------------------------------------------------------\u001b[0m",
      "\u001b[0;31mNameError\u001b[0m                                 Traceback (most recent call last)",
      "Cell \u001b[0;32mIn[1], line 1\u001b[0m\n\u001b[0;32m----> 1\u001b[0m \u001b[43mraw_sparse_vectors\u001b[49m[\u001b[38;5;241m0\u001b[39m]\n",
      "\u001b[0;31mNameError\u001b[0m: name 'raw_sparse_vectors' is not defined"
     ]
    }
   ],
   "source": [
    "raw_sparse_vectors[0]"
   ]
  },
  {
   "cell_type": "code",
   "execution_count": 70,
   "metadata": {},
   "outputs": [],
   "source": [
    "# change type of all values to float from float16\n",
    "float_sparse_vectors = []\n",
    "for sv in raw_sparse_vectors:\n",
    "    # print(sv, type(sv))\n",
    "    new_sv = {}\n",
    "    for k, v in sv.items():\n",
    "        new_sv[k] = float(v)\n",
    "    float_sparse_vectors.append(new_sv)\n",
    "\n",
    "# convert to json\n",
    "json_sparse_vectors = [json.dumps(sv) for sv in float_sparse_vectors]"
   ]
  },
  {
   "cell_type": "code",
   "execution_count": 71,
   "metadata": {},
   "outputs": [],
   "source": [
    "new_ds = corpus.add_column(\"bge_m3_sparse_vector\", json_sparse_vectors)"
   ]
  },
  {
   "cell_type": "code",
   "execution_count": 72,
   "metadata": {},
   "outputs": [
    {
     "data": {
      "text/plain": [
       "{'_id': '4983',\n",
       " 'title': 'Microstructural development of human newborn cerebral white matter assessed in vivo by diffusion tensor magnetic resonance imaging.',\n",
       " 'text': 'Alterations of the architecture of cerebral white matter in the developing human brain can affect cortical development and result in functional disabilities. A line scan diffusion-weighted magnetic resonance imaging (MRI) sequence with diffusion tensor analysis was applied to measure the apparent diffusion coefficient, to calculate relative anisotropy, and to delineate three-dimensional fiber architecture in cerebral white matter in preterm (n = 17) and full-term infants (n = 7). To assess effects of prematurity on cerebral white matter development, early gestation preterm infants (n = 10) were studied a second time at term. In the central white matter the mean apparent diffusion coefficient at 28 wk was high, 1.8 microm2/ms, and decreased toward term to 1.2 microm2/ms. In the posterior limb of the internal capsule, the mean apparent diffusion coefficients at both times were similar (1.2 versus 1.1 microm2/ms). Relative anisotropy was higher the closer birth was to term with greater absolute values in the internal capsule than in the central white matter. Preterm infants at term showed higher mean diffusion coefficients in the central white matter (1.4 +/- 0.24 versus 1.15 +/- 0.09 microm2/ms, p = 0.016) and lower relative anisotropy in both areas compared with full-term infants (white matter, 10.9 +/- 0.6 versus 22.9 +/- 3.0%, p = 0.001; internal capsule, 24.0 +/- 4.44 versus 33.1 +/- 0.6% p = 0.006). Nonmyelinated fibers in the corpus callosum were visible by diffusion tensor MRI as early as 28 wk; full-term and preterm infants at term showed marked differences in white matter fiber organization. The data indicate that quantitative assessment of water diffusion by diffusion tensor MRI provides insight into microstructural development in cerebral white matter in living infants.',\n",
       " 'bge_m3_sparse_vector': '{\"39176\": 0.1639404296875, \"21094\": 0.033599853515625, \"159958\": 0.1788330078125, \"119856\": 0.1939697265625, \"35011\": 0.1964111328125, \"26866\": 0.2216796875, \"70\": 0.011077880859375, \"168698\": 0.161865234375, \"14135\": 0.04254150390625, \"78574\": 0.1883544921875, \"831\": 0.051239013671875, \"52490\": 0.16845703125, \"8231\": 0.067626953125, \"70760\": 0.1358642578125, \"34754\": 0.1903076171875, \"136\": 0.01042938232421875, \"16750\": 0.024810791015625, \"23\": 0.01120758056640625, \"123309\": 0.1346435546875, \"164462\": 0.1981201171875, \"13315\": 0.131591796875, \"44954\": 0.168701171875, \"45755\": 0.1553955078125, \"92105\": 0.1864013671875, \"9\": 0.01116943359375, \"165598\": 0.1431884765625, \"297\": 0.010650634765625, \"214706\": 0.0733642578125, \"3332\": 0.016510009765625, \"191\": 0.01358795166015625, \"7154\": 0.00965118408203125, \"86898\": 0.06939697265625, \"177\": 0.0108184814453125, \"594\": 0.03509521484375, \"16625\": 0.197265625, \"16\": 0.0110626220703125, \"944\": 0.052734375, \"3956\": 0.0084228515625, \"1492\": 0.15283203125, \"4970\": 0.1644287109375, \"114137\": 0.157470703125, \"190659\": 0.030487060546875, \"72350\": 0.1312255859375, \"173676\": 0.300537109375, \"552\": 0.07379150390625, \"13\": 0.0109710693359375, \"24500\": 0.1395263671875, \"45964\": 0.0036983489990234375, \"4\": 0.011260986328125, \"74481\": 0.09429931640625, \"67\": 0.01102447509765625, \"35845\": 0.18408203125, \"1866\": 0.1240234375, \"991\": 0.059906005859375, \"29813\": 0.2294921875, \"53\": 0.01084136962890625, \"2256\": 0.07647705078125, \"2182\": 0.01110076904296875, \"17262\": 0.07257080078125, \"157955\": 0.11798095703125, \"109197\": 0.191162109375, \"479\": 0.11041259765625, \"32166\": 0.22314453125, \"15\": 0.0109710693359375, \"19\": 0.007411956787109375, \"2203\": 0.01097869873046875, \"729\": 0.07940673828125, \"4393\": 0.0728759765625, \"145048\": 0.2222900390625, \"49413\": 0.0479736328125, \"202120\": 0.0888671875, \"93425\": 0.1439208984375, \"111\": 0.0111846923828125, \"170176\": 0.2430419921875, \"2481\": 0.1390380859375, \"39395\": 0.0487060546875, \"700\": 0.08599853515625, \"41311\": 0.12744140625, \"209\": 0.048736572265625, \"3542\": 0.0108795166015625, \"22282\": 0.06719970703125, \"71\": 0.01125335693359375, \"10\": 0.01105499267578125, \"17932\": 0.0885009765625, \"1733\": 0.047821044921875, \"99\": 0.0111083984375, \"13579\": 0.1953125, \"9879\": 0.1702880859375, \"29459\": 0.1761474609375, \"1372\": 0.1883544921875, \"148\": 0.0596923828125, \"92\": 0.06829833984375, \"509\": 0.0100555419921875, \"11192\": 0.061279296875, \"79875\": 0.08502197265625, \"11948\": 0.08941650390625, \"39\": 0.01090240478515625, \"45792\": 0.00933074951171875, \"4432\": 0.08441162109375, \"227204\": 0.17333984375, \"154732\": 0.0090789794921875, \"47\": 0.0106964111328125, \"39225\": 0.162353515625, \"400\": 0.062408447265625, \"6492\": 0.047821044921875, \"70796\": 0.1552734375, \"150143\": 0.1650390625, \"4240\": 0.07659912109375, \"11044\": 0.072509765625, \"35066\": 0.0104217529296875, \"15044\": 0.01047515869140625, \"20028\": 0.01029205322265625, \"21373\": 0.086181640625, \"119475\": 0.008392333984375, \"231839\": 0.13818359375, \"77546\": 0.146728515625, \"20903\": 0.12060546875, \"42\": 0.01117706298828125, \"127319\": 0.1744384765625, \"678\": 0.0109405517578125, \"117396\": 0.025146484375, \"89931\": 0.130859375, \"3501\": 0.008514404296875, \"1914\": 0.12408447265625, \"91977\": 0.0919189453125, \"617\": 0.01123046875, \"615\": 0.010650634765625, \"1837\": 0.01062774658203125, \"194692\": 0.01126861572265625, \"89678\": 0.0265045166015625, \"1126\": 0.01122283935546875, \"915\": 0.0110321044921875, \"60978\": 0.01024627685546875, \"92319\": 0.12261962890625, \"58555\": 0.009979248046875, \"154186\": 0.0019407272338867188, \"148477\": 0.0716552734375, \"6\": 0.0110626220703125, \"122887\": 0.002315521240234375, \"8892\": 0.01103973388671875, \"17596\": 0.0077362060546875, \"29094\": 0.01113128662109375, \"6746\": 0.01122283935546875, \"74\": 0.01128387451171875, \"151152\": 0.0341796875, \"1398\": 0.01102447509765625, \"12465\": 0.01122283935546875, \"97109\": 0.01113128662109375, \"757\": 0.01102447509765625, \"5\": 0.01108551025390625, \"110156\": 0.01325225830078125, \"3775\": 0.045745849609375, \"1176\": 0.007965087890625, \"37755\": 0.1085205078125, \"27686\": 0.01065826416015625, \"7\": 0.01117706298828125, \"88591\": 0.1160888671875, \"11782\": 0.10772705078125, \"232\": 0.0697021484375, \"316\": 0.042694091796875, \"75693\": 0.11834716796875, \"390\": 0.01073455810546875, \"237\": 0.011077880859375, \"168360\": 0.00615692138671875, \"60212\": 0.146240234375, \"53702\": 0.1529541015625, \"581\": 0.010986328125, \"450\": 0.0112152099609375, \"88779\": 0.046142578125, \"5844\": 0.01117706298828125, \"164031\": 0.09832763671875, \"7401\": 0.145751953125, \"276\": 0.016021728515625, \"149201\": 0.08697509765625, \"3934\": 0.0067291259765625, \"36716\": 0.07403564453125, \"82451\": 0.005756378173828125, \"38043\": 0.1378173828125}'}"
      ]
     },
     "execution_count": 72,
     "metadata": {},
     "output_type": "execute_result"
    }
   ],
   "source": [
    "new_ds[0]"
   ]
  },
  {
   "cell_type": "code",
   "execution_count": 73,
   "metadata": {},
   "outputs": [
    {
     "data": {
      "text/plain": [
       "{'_id': Value(dtype='string', id=None),\n",
       " 'title': Value(dtype='string', id=None),\n",
       " 'text': Value(dtype='string', id=None),\n",
       " 'bge_m3_sparse_vector': Value(dtype='string', id=None)}"
      ]
     },
     "execution_count": 73,
     "metadata": {},
     "output_type": "execute_result"
    }
   ],
   "source": [
    "new_ds.features"
   ]
  },
  {
   "cell_type": "code",
   "execution_count": 74,
   "metadata": {},
   "outputs": [
    {
     "data": {
      "application/vnd.jupyter.widget-view+json": {
       "model_id": "adec9e7836f8403e84eded1860ae284e",
       "version_major": 2,
       "version_minor": 0
      },
      "text/plain": [
       "Uploading the dataset shards:   0%|          | 0/1 [00:00<?, ?it/s]"
      ]
     },
     "metadata": {},
     "output_type": "display_data"
    },
    {
     "data": {
      "application/vnd.jupyter.widget-view+json": {
       "model_id": "fe6899a7085d47e3b62aa49a73723b02",
       "version_major": 2,
       "version_minor": 0
      },
      "text/plain": [
       "Creating parquet from Arrow format:   0%|          | 0/6 [00:00<?, ?ba/s]"
      ]
     },
     "metadata": {},
     "output_type": "display_data"
    },
    {
     "data": {
      "application/vnd.jupyter.widget-view+json": {
       "model_id": "effe188c75004c1586a1fd51e6787103",
       "version_major": 2,
       "version_minor": 0
      },
      "text/plain": [
       "README.md:   0%|          | 0.00/764k [00:00<?, ?B/s]"
      ]
     },
     "metadata": {},
     "output_type": "display_data"
    },
    {
     "data": {
      "text/plain": [
       "CommitInfo(commit_url='https://huggingface.co/datasets/nirantk/scifact-bge-m3-sparse-vectors/commit/25678d95f13b366c6a8a50e0290ad0667ba79f75', commit_message='Upload dataset', commit_description='', oid='25678d95f13b366c6a8a50e0290ad0667ba79f75', pr_url=None, pr_revision=None, pr_num=None)"
      ]
     },
     "execution_count": 74,
     "metadata": {},
     "output_type": "execute_result"
    }
   ],
   "source": [
    "new_ds.push_to_hub(\n",
    "    \"nirantk/scifact-bge-m3-sparse-vectors\",\n",
    "    token=os.getenv(\"HF_WRITE_KEY\", getpass.getpass(\"Enter token: \")),\n",
    ")"
   ]
  }
 ],
 "metadata": {
  "kernelspec": {
   "display_name": "lightsplade",
   "language": "python",
   "name": "python3"
  },
  "language_info": {
   "codemirror_mode": {
    "name": "ipython",
    "version": 3
   },
   "file_extension": ".py",
   "mimetype": "text/x-python",
   "name": "python",
   "nbconvert_exporter": "python",
   "pygments_lexer": "ipython3",
   "version": "3.9.19"
  }
 },
 "nbformat": 4,
 "nbformat_minor": 2
}
