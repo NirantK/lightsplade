{
 "cells": [
  {
   "cell_type": "code",
   "execution_count": 17,
   "metadata": {},
   "outputs": [],
   "source": [
    "import json\n",
    "\n",
    "import pandas as pd\n",
    "from datasets import load_dataset\n",
    "from evaluate import load\n",
    "from dotenv import load_dotenv\n",
    "from pathlib import Path\n",
    "\n",
    "\n",
    "load_dotenv()\n",
    "canonical_dataset_name = \"scifact\"\n",
    "dataset_name = \"scifact-bge-m3-sparse-vectors\""
   ]
  },
  {
   "cell_type": "code",
   "execution_count": 2,
   "metadata": {},
   "outputs": [
    {
     "name": "stdout",
     "output_type": "stream",
     "text": [
      "Dataset({\n",
      "    features: ['_id', 'title', 'text', 'bge_m3_sparse_vector'],\n",
      "    num_rows: 5183\n",
      "})\n"
     ]
    }
   ],
   "source": [
    "ds = load_dataset(f\"nirantk/{dataset_name}\", split=\"corpus\")\n",
    "print(ds)"
   ]
  },
  {
   "cell_type": "code",
   "execution_count": 3,
   "metadata": {},
   "outputs": [],
   "source": [
    "trec_eval = load(\"trec_eval\")"
   ]
  },
  {
   "cell_type": "markdown",
   "metadata": {},
   "source": [
    "## Example Qrels and Runs"
   ]
  },
  {
   "cell_type": "code",
   "execution_count": 4,
   "metadata": {},
   "outputs": [
    {
     "name": "stderr",
     "output_type": "stream",
     "text": [
      "/opt/homebrew/Caskroom/miniconda/base/envs/lightsplade/lib/python3.9/site-packages/trectools/trec_eval.py:294: FutureWarning: The default of observed=False is deprecated and will be changed to True in a future version of pandas. Pass observed=False to retain current behavior or observed=True to adopt the future default and silence this warning.\n",
      "  selection = selection[~selection[\"rel\"].isnull()].groupby(\"query\").first().copy()\n"
     ]
    }
   ],
   "source": [
    "qrel = {\"query\": [0], \"q0\": [\"q0\"], \"docid\": [\"doc_1\"], \"rel\": [2]}\n",
    "run = {\n",
    "    \"query\": [0, 0],\n",
    "    \"q0\": [\"q0\", \"q0\"],\n",
    "    \"docid\": [\"doc_2\", \"doc_1\"],\n",
    "    \"rank\": [0, 1],\n",
    "    \"score\": [1.5, 1.2],\n",
    "    \"system\": [\"test\", \"test\"],\n",
    "}\n",
    "results = trec_eval.compute(predictions=[run], references=[qrel])"
   ]
  },
  {
   "cell_type": "markdown",
   "metadata": {},
   "source": [
    "## Load reference Qrels from test.tsv"
   ]
  },
  {
   "cell_type": "code",
   "execution_count": 11,
   "metadata": {},
   "outputs": [],
   "source": [
    "df = pd.read_csv(f\"../../data/{canonical_dataset_name}/qrels/test.tsv\", sep=\"\\t\")\n",
    "df.head()\n",
    "\n",
    "## Convert to qrel\n",
    "qrel = {\n",
    "    \"query\": [int(q) for q in df[\"query-id\"].tolist()],\n",
    "    \"q0\": [\"q0\"] * len(df),\n",
    "    \"docid\": [str(d) for d in df[\"corpus-id\"].tolist()],\n",
    "    \"rel\": df[\"score\"].tolist(),\n",
    "}"
   ]
  },
  {
   "cell_type": "code",
   "execution_count": 12,
   "metadata": {},
   "outputs": [],
   "source": [
    "def validate_data(predictions, references):\n",
    "    # Define expected fields and types for predictions and references\n",
    "    expected_pred_keys = {\n",
    "        \"query\": int,\n",
    "        \"q0\": str,\n",
    "        \"docid\": str,\n",
    "        \"rank\": int,\n",
    "        \"score\": float,\n",
    "        \"system\": str,\n",
    "    }\n",
    "    expected_ref_keys = {\"query\": int, \"q0\": str, \"docid\": str, \"rel\": int}\n",
    "\n",
    "    # Function to validate each record against expected fields and types\n",
    "    def check_record(record, expected_keys):\n",
    "        for key, expected_type in expected_keys.items():\n",
    "            if key not in record:\n",
    "                return f\"Missing key: {key}\"\n",
    "            if not all(isinstance(item, expected_type) for item in record[key]):\n",
    "                return f\"Incorrect type for key {key}, expected {expected_type}, got {type(record[key][0])}\"\n",
    "\n",
    "        # Check for consistent lengths across fields\n",
    "        length = len(record[next(iter(record))])  # get length of first item\n",
    "        if not all(len(value) == length for value in record.values()):\n",
    "            return \"Inconsistent lengths among fields\"\n",
    "\n",
    "        return \"Valid\"\n",
    "\n",
    "    # Validate predictions and references\n",
    "    pred_validation = check_record(predictions, expected_pred_keys)\n",
    "    ref_validation = check_record(references, expected_ref_keys)\n",
    "\n",
    "    return pred_validation, ref_validation"
   ]
  },
  {
   "cell_type": "code",
   "execution_count": 16,
   "metadata": {},
   "outputs": [
    {
     "data": {
      "text/plain": [
       "[PosixPath('bge_m3_retoken_reconstruct_sentence_piece_rescore_False.json')]"
      ]
     },
     "execution_count": 16,
     "metadata": {},
     "output_type": "execute_result"
    }
   ],
   "source": []
  },
  {
   "cell_type": "code",
   "execution_count": 21,
   "metadata": {},
   "outputs": [
    {
     "name": "stdout",
     "output_type": "stream",
     "text": [
      "File: bge_m3_retoken_reconstruct_sentence_piece_rescore_False.json\n",
      "0.01660019702639439\n",
      "File: bge_m3_retoken_reconstruct_bpe_rescore_False.json\n"
     ]
    },
    {
     "name": "stderr",
     "output_type": "stream",
     "text": [
      "/opt/homebrew/Caskroom/miniconda/base/envs/lightsplade/lib/python3.9/site-packages/trectools/trec_eval.py:294: FutureWarning: The default of observed=False is deprecated and will be changed to True in a future version of pandas. Pass observed=False to retain current behavior or observed=True to adopt the future default and silence this warning.\n",
      "  selection = selection[~selection[\"rel\"].isnull()].groupby(\"query\").first().copy()\n",
      "/opt/homebrew/Caskroom/miniconda/base/envs/lightsplade/lib/python3.9/site-packages/trectools/trec_eval.py:294: FutureWarning: The default of observed=False is deprecated and will be changed to True in a future version of pandas. Pass observed=False to retain current behavior or observed=True to adopt the future default and silence this warning.\n",
      "  selection = selection[~selection[\"rel\"].isnull()].groupby(\"query\").first().copy()\n"
     ]
    },
    {
     "name": "stdout",
     "output_type": "stream",
     "text": [
      "0.05675311925775384\n",
      "File: bge_m3_retoken_reconstruct_bpe_rescore_True.json\n",
      "0.5042811658445359\n",
      "File: bge_m3_retoken_reconstruct_sentence_piece_rescore_True.json\n",
      "0.3720435190652301\n"
     ]
    },
    {
     "name": "stderr",
     "output_type": "stream",
     "text": [
      "/opt/homebrew/Caskroom/miniconda/base/envs/lightsplade/lib/python3.9/site-packages/trectools/trec_eval.py:294: FutureWarning: The default of observed=False is deprecated and will be changed to True in a future version of pandas. Pass observed=False to retain current behavior or observed=True to adopt the future default and silence this warning.\n",
      "  selection = selection[~selection[\"rel\"].isnull()].groupby(\"query\").first().copy()\n",
      "/opt/homebrew/Caskroom/miniconda/base/envs/lightsplade/lib/python3.9/site-packages/trectools/trec_eval.py:294: FutureWarning: The default of observed=False is deprecated and will be changed to True in a future version of pandas. Pass observed=False to retain current behavior or observed=True to adopt the future default and silence this warning.\n",
      "  selection = selection[~selection[\"rel\"].isnull()].groupby(\"query\").first().copy()\n"
     ]
    }
   ],
   "source": [
    "prediction_files = list(Path(\".\").glob(\"*.json\"))\n",
    "prediction_files\n",
    "\n",
    "for file in prediction_files:\n",
    "    with open(file) as f:\n",
    "        run = json.load(f)\n",
    "\n",
    "    validation = validate_data(run, qrel)\n",
    "\n",
    "    print(f\"File: {file}\")\n",
    "    results = trec_eval.compute(predictions=[run], references=[qrel])\n",
    "    print(results[\"NDCG@10\"])"
   ]
  }
 ],
 "metadata": {
  "kernelspec": {
   "display_name": "Python 3 (ipykernel)",
   "language": "python",
   "name": "python3"
  },
  "language_info": {
   "codemirror_mode": {
    "name": "ipython",
    "version": 3
   },
   "file_extension": ".py",
   "mimetype": "text/x-python",
   "name": "python",
   "nbconvert_exporter": "python",
   "pygments_lexer": "ipython3",
   "version": "3.9.19"
  }
 },
 "nbformat": 4,
 "nbformat_minor": 4
}
