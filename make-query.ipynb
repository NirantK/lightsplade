{
 "cells": [
  {
   "cell_type": "code",
   "execution_count": 1,
   "metadata": {},
   "outputs": [
    {
     "name": "stderr",
     "output_type": "stream",
     "text": [
      "/home/generall/projects/vector_search/tmp/msmacro/venv/lib/python3.11/site-packages/tqdm/auto.py:21: TqdmWarning: IProgress not found. Please update jupyter and ipywidgets. See https://ipywidgets.readthedocs.io/en/stable/user_install.html\n",
      "  from .autonotebook import tqdm as notebook_tqdm\n"
     ]
    }
   ],
   "source": [
    "from inference import SparseModel"
   ]
  },
  {
   "cell_type": "code",
   "execution_count": 2,
   "metadata": {},
   "outputs": [
    {
     "name": "stderr",
     "output_type": "stream",
     "text": [
      "/home/generall/projects/vector_search/tmp/msmacro/venv/lib/python3.11/site-packages/torch/cuda/__init__.py:141: UserWarning: CUDA initialization: Unexpected error from cudaGetDeviceCount(). Did you run some cuda functions before calling NumCudaDevices() that might have already set an error? Error 803: system has unsupported display driver / cuda driver combination (Triggered internally at ../c10/cuda/CUDAFunctions.cpp:108.)\n",
      "  return torch._C._cuda_getDeviceCount() > 0\n"
     ]
    }
   ],
   "source": [
    "model = SparseModel()"
   ]
  },
  {
   "cell_type": "code",
   "execution_count": 3,
   "metadata": {},
   "outputs": [],
   "source": [
    "QDRANT_URL='http://localhost:6333'\n",
    "QDRANT_API_KEY=''\n",
    "COLLECTION_NAME=\"quora\""
   ]
  },
  {
   "cell_type": "code",
   "execution_count": 92,
   "metadata": {},
   "outputs": [],
   "source": [
    "from qdrant_client import QdrantClient, models\n",
    "import math"
   ]
  },
  {
   "cell_type": "code",
   "execution_count": 101,
   "metadata": {},
   "outputs": [],
   "source": [
    "def rescore_vector(vector: dict) -> dict:\n",
    "    new_vector = {}\n",
    "\n",
    "    sorted_vector = sorted(vector.items(), key=lambda x: x[1], reverse=True)\n",
    "\n",
    "    for num, (idx, _value) in enumerate(sorted_vector):\n",
    "        new_vector[idx] = math.log(1./(num + 1) + 1.) # * value\n",
    "    return new_vector\n"
   ]
  },
  {
   "cell_type": "code",
   "execution_count": 102,
   "metadata": {},
   "outputs": [],
   "source": [
    "def conver_sparse_vector(sparse_vector: dict) -> models.SparseVector:\n",
    "    indices = []\n",
    "    values = []\n",
    "\n",
    "    for (idx, value) in sparse_vector.items():\n",
    "        indices.append(int(idx))\n",
    "        values.append(value)\n",
    "\n",
    "    return models.SparseVector(\n",
    "        indices=indices,\n",
    "        values=values\n",
    "    )"
   ]
  },
  {
   "cell_type": "code",
   "execution_count": 103,
   "metadata": {},
   "outputs": [
    {
     "name": "stderr",
     "output_type": "stream",
     "text": [
      "/home/generall/projects/vector_search/tmp/msmacro/venv/lib/python3.11/site-packages/qdrant_client/qdrant_remote.py:122: UserWarning: Api key is used with unsecure connection.\n",
      "  warnings.warn(\"Api key is used with unsecure connection.\")\n"
     ]
    }
   ],
   "source": [
    "client = QdrantClient(QDRANT_URL, api_key=QDRANT_API_KEY)"
   ]
  },
  {
   "cell_type": "code",
   "execution_count": 104,
   "metadata": {},
   "outputs": [],
   "source": [
    "query = \"Do you think of mathematics as art or science?\"\n",
    "sparse_vector = rescore_vector(next(model.encode([query])))\n",
    "sparse_vector_qdrant = conver_sparse_vector(sparse_vector)\n",
    "\n",
    "limit = 20\n",
    "result = client.search(\n",
    "    collection_name=COLLECTION_NAME,\n",
    "    query_vector=models.NamedSparseVector(\n",
    "        name=\"attention\",\n",
    "        vector=sparse_vector_qdrant\n",
    "    ),\n",
    "    with_payload=True,\n",
    "    with_vectors=True,\n",
    "    limit=limit\n",
    ")"
   ]
  },
  {
   "cell_type": "code",
   "execution_count": 105,
   "metadata": {},
   "outputs": [
    {
     "name": "stdout",
     "output_type": "stream",
     "text": [
      "0 id=435817 version=19847 score=3.8775964 payload={'text': 'What are the similarities between philosophy of science and philosophy of mathematics?'} vector={'attention': SparseVector(indices=[1029, 1996, 1997, 1998, 2024, 2054, 2090, 2671, 4695, 5597, 12319], values=[0.0002131269, 0.12949592, 0.30499616, 0.17941843, 0.1838402, 0.11063437, 0.31784216, 2.0730793, 2.0757017, 4.6819096, 1.6534677])} shard_key=None\n",
      "1 id=142399 version=6473 score=3.841679 payload={'text': 'Is mathematics always necessary in doing good science?'} vector={'attention': SparseVector(indices=[1029, 1999, 2003, 2204, 2467, 2671, 2725, 4072, 5597], values=[0.0002520756, 0.16922376, 0.149325, 0.9866759, 0.8835106, 2.0730793, 0.5679861, 1.4954723, 4.6819096])} shard_key=None\n",
      "2 id=415418 version=18914 score=3.8416653 payload={'text': 'What are career options for a science student with mathematics except engineering?'} vector={'attention': SparseVector(indices=[1029, 1037, 2005, 2007, 2024, 2054, 2476, 2671, 3076, 3272, 3330, 5597, 7047], values=[0.00016284543, 0.14998978, 0.16276227, 0.28159645, 0.15182337, 0.069610104, 1.2086295, 2.0730793, 0.9365192, 1.0335405, 1.3541521, 4.6819096, 0.97952145])} shard_key=None\n",
      "3 id=40431 version=1838 score=3.668435 payload={'text': 'How is mathematics related to computer science?'} vector={'attention': SparseVector(indices=[1029, 2000, 2003, 2129, 2671, 3141, 3274, 5597], values=[0.0002520756, 0.17359637, 0.17238306, 0.18639104, 1.4708732, 1.3961991, 2.05766, 4.6819096])} shard_key=None\n",
      "4 id=492539 version=22436 score=3.6684246 payload={'text': 'What is the best mathematics book to learn computer science?'} vector={'attention': SparseVector(indices=[1029, 1996, 2000, 2003, 2054, 2190, 2338, 2671, 3274, 4553, 5597], values=[0.00018461891, 0.114223495, 0.12824309, 0.11782217, 0.089525476, 0.3990613, 1.1154639, 1.4708732, 2.05766, 0.7885604, 4.6819096])} shard_key=None\n",
      "5 id=160350 version=7289 score=3.6684213 payload={'text': 'How much mathematics is there in computer science (research) especially in theoretical computer science?'} vector={'attention': SparseVector(indices=[1006, 1007, 1029, 1999, 2003, 2045, 2129, 2172, 2470, 2671, 2926, 3274, 5597, 9373], values=[0.26994422, 0.6145752, 0.00016284543, 0.15137582, 0.10658312, 0.2563826, 0.12145565, 0.54120165, 0.92321503, 1.4708732, 0.49906933, 2.05766, 4.6819096, 1.8745773])} shard_key=None\n",
      "6 id=358356 version=16307 score=3.5942607 payload={'text': 'What is the importance of Mathematics in Computer Science?'} vector={'attention': SparseVector(indices=[1029, 1996, 1997, 1999, 2003, 2054, 2671, 3274, 5197, 5597], values=[0.0002131269, 0.17681159, 0.17625208, 0.19185008, 0.13171397, 0.089525476, 1.140898, 2.05766, 1.9831038, 4.6819096])} shard_key=None\n",
      "7 id=110214 version=5009 score=3.5193744 payload={'text': 'Which subject requires less use of mathematics Computer science or Software engineering?'} vector={'attention': SparseVector(indices=[1029, 1997, 2029, 2030, 2224, 2625, 2671, 3274, 3330, 3395, 4007, 5597, 5942], values=[0.0001456702, 0.123971336, 0.23496643, 0.24534795, 0.5409813, 0.70478016, 0.7881482, 1.4599332, 0.8582082, 1.5612351, 2.056422, 4.6819096, 0.8146302])} shard_key=None\n",
      "8 id=484316 version=22058 score=3.5134718 payload={'text': 'Is there mathematics in computer science and engineering?'} vector={'attention': SparseVector(indices=[1029, 1998, 1999, 2003, 2045, 2671, 3274, 3330, 5597], values=[0.00030851562, 0.25136867, 0.15137582, 0.17238306, 0.40748006, 0.9321815, 2.05766, 1.3541521, 4.6819096])} shard_key=None\n",
      "9 id=310560 version=14126 score=3.4609551 payload={'text': \"Why do people think that girls can't be as good in mathematics?\"} vector={'attention': SparseVector(indices=[1005, 1029, 1056, 1999, 2004, 2008, 2022, 2064, 2079, 2111, 2204, 2228, 2339, 3057, 5597], values=[0.5328692, 0.0002520756, 0.27741238, 0.16922376, 0.30409837, 0.40089583, 0.21673013, 0.21129824, 0.116109654, 0.33664402, 0.9866759, 0.6684208, 0.14768845, 2.2384164, 4.6819096])} shard_key=None\n",
      "10 id=340847 version=15509 score=3.4276793 payload={'text': 'After an MSc in mathematics, is it possible to go for an MS in computer science from the top universities of the US?'} vector={'attention': SparseVector(indices=[1010, 1029, 1996, 1997, 1999, 2000, 2003, 2005, 2009, 2013, 2019, 2044, 2149, 2175, 2327, 2671, 2825, 3274, 5534, 5597, 5796, 23794], values=[0.19957535, 0.0001106661, 0.12949592, 0.0778209, 0.099124916, 0.08935255, 0.063918896, 0.09921201, 0.17736995, 0.15840352, 0.31470156, 0.21454847, 0.69314164, 0.20037667, 1.1516452, 0.6022062, 0.30418766, 1.4599332, 0.5570905, 4.6819096, 2.3721032, 1.4025701])} shard_key=None\n",
      "11 id=340957 version=15512 score=3.362996 payload={'text': \"I'm a second year PhD student in theoretical computer science with a background in mathematics. Where can I get a job this summer?\"} vector={'attention': SparseVector(indices=[1005, 1012, 1029, 1037, 1045, 1049, 1999, 2007, 2023, 2064, 2073, 2095, 2117, 2131, 2621, 2671, 3076, 3105, 3274, 4281, 5597, 8065, 9373], values=[0.25160205, 0.15714134, 7.09175e-05, 0.25955048, 0.14844425, 0.19840826, 0.099124916, 0.12574351, 0.18133868, 0.10843065, 0.3279619, 0.28880784, 0.74423224, 0.14882773, 2.7912242, 0.4092458, 0.29360187, 0.5897763, 1.4599332, 0.51819104, 4.6819096, 1.4452976, 1.2949841])} shard_key=None\n",
      "12 id=383095 version=17438 score=3.36085 payload={'text': 'How do you learn mathematics as a beginner?'} vector={'attention': SparseVector(indices=[1029, 1037, 2004, 2017, 2079, 2129, 3678, 4088, 4553, 5597], values=[0.0002520756, 0.2194468, 0.36822724, 0.31449428, 0.16039965, 0.16440855, 1.9422256, 2.4700208, 0.96511996, 4.6819096])} shard_key=None\n",
      "13 id=531895 version=24236 score=3.3535695 payload={'text': \"I'm a first year student in computer science engineering. After my graduation, I want to do a PhD in mathematics. Is it possible?\"} vector={'attention': SparseVector(indices=[1005, 1010, 1012, 1029, 1037, 1045, 1049, 1999, 2000, 2003, 2009, 2026, 2034, 2044, 2079, 2095, 2215, 2671, 2825, 3076, 3274, 3330, 5597, 7665, 8065], values=[0.22760175, 0.16997921, 0.47258446, 7.09175e-05, 0.14998978, 0.2400875, 0.17505974, 0.08212186, 0.060166135, 0.05202223, 0.106390804, 0.1682931, 0.53077114, 0.24056941, 0.07162453, 0.3581886, 0.20992808, 0.3527497, 0.41010836, 0.27772355, 1.4599332, 1.050362, 4.6819096, 0.94142455, 2.6261916])} shard_key=None\n",
      "14 id=298695 version=13586 score=3.3267505 payload={'text': 'Can Ramanujan be considered as the King of Indian Mathematics, or be confined to the status of Prince?'} vector={'attention': SparseVector(indices=[1010, 1029, 1996, 1997, 2000, 2004, 2022, 2030, 2064, 2332, 2641, 2796, 3159, 3570, 5597, 8405, 11231, 12302, 14115], values=[0.19957535, 0.0001106661, 0.14949207, 0.17625208, 0.08935255, 0.19976445, 0.27873638, 0.18198073, 0.1383637, 1.2927896, 0.30963036, 0.58998793, 2.4674923, 0.507176, 4.6819096, 2.161361, 0.92950207, 0.5599132, 3.173684])} shard_key=None\n",
      "15 id=437265 version=19913 score=3.3221116 payload={'text': 'Are certain areas of mathematics strictly pure or applied?'} vector={'attention': SparseVector(indices=[1029, 1997, 2024, 2030, 2752, 3056, 4162, 5597, 5760, 9975], values=[0.0002520756, 0.1594394, 0.1838402, 0.43466216, 2.1183696, 0.94113046, 1.6397946, 4.6819096, 3.0322862, 1.1694123])} shard_key=None\n",
      "16 id=346755 version=15779 score=3.3194923 payload={'text': 'Which is the best country in mathematics including overall research, as well as in terms of the quality of education?'} vector={'attention': SparseVector(indices=[1010, 1029, 1996, 1997, 1999, 2003, 2004, 2029, 2092, 2164, 2190, 2406, 2470, 2495, 3408, 3452, 3737, 5597], values=[0.24166222, 0.0001106661, 0.114223495, 0.1594394, 0.2619489, 0.067795075, 0.30409837, 0.16778928, 0.31440556, 0.49648434, 0.3990613, 2.0697439, 1.3364162, 1.7350454, 0.41879165, 0.5915756, 0.8343064, 4.6819096])} shard_key=None\n",
      "17 id=269293 version=12248 score=3.3184705 payload={'text': 'How much in-depth Mathematics knowledge should you have as a Game Designer?'} vector={'attention': SparseVector(indices=[1011, 1029, 1037, 1999, 2004, 2017, 2031, 2129, 2172, 2208, 2323, 3716, 5597, 5859, 5995], values=[0.4828287, 0.00018461891, 0.14998978, 0.13693608, 0.241125, 0.27740362, 0.18839565, 0.12145565, 0.300359, 2.2275243, 0.24216053, 1.4422672, 4.6819096, 2.048589, 1.5752579])} shard_key=None\n",
      "18 id=288056 version=13103 score=3.3094347 payload={'text': 'How do you prepare for Mathematics exams?'} vector={'attention': SparseVector(indices=[1029, 2005, 2017, 2079, 2129, 5597, 7374, 13869], values=[0.00030851562, 0.3134566, 0.4294053, 0.19821972, 0.18639104, 4.6819096, 1.5081996, 2.598907])} shard_key=None\n",
      "19 id=300309 version=13661 score=3.308808 payload={'text': 'How can you overcome phobia of mathematics?'} vector={'attention': SparseVector(indices=[1029, 1997, 2017, 2064, 2129, 2401, 5597, 6887, 9462, 16429], values=[0.00030851562, 0.25787058, 0.31449428, 0.1911425, 0.14706846, 1.1969953, 4.6819096, 1.8742455, 0.7665973, 3.348426])} shard_key=None\n"
     ]
    }
   ],
   "source": [
    "for idx, hit in enumerate(result):\n",
    "    print(idx, hit)"
   ]
  },
  {
   "cell_type": "code",
   "execution_count": 110,
   "metadata": {},
   "outputs": [
    {
     "name": "stdout",
     "output_type": "stream",
     "text": [
      "mathematics: 0.6931471805599453\n",
      "art: 0.4054651081081644\n",
      "science: 0.28768207245178085\n",
      "think: 0.22314355131420976\n",
      "as: 0.1823215567939546\n",
      "?: 0.15415067982725836\n",
      "or: 0.13353139262452257\n",
      "of: 0.11778303565638346\n",
      "you: 0.10536051565782635\n",
      "do: 0.09531017980432493\n"
     ]
    }
   ],
   "source": [
    "for (idx, value) in zip(sparse_vector_qdrant.indices, sparse_vector_qdrant.values):\n",
    "    print(f\"{model.invert_vocab[idx]}: {value}\")"
   ]
  },
  {
   "cell_type": "code",
   "execution_count": 108,
   "metadata": {},
   "outputs": [
    {
     "name": "stdout",
     "output_type": "stream",
     "text": [
      "?: 0.00030851562 x 0.15415067982725836 = 4.75578925603281e-05\n",
      "of: 0.25787058 x 0.11778303565638346 = 0.030372779718872284\n",
      "you: 0.31449428 x 0.10536051565782635 = 0.033135279512236826\n",
      "can: 0.1911425\n",
      "how: 0.14706846\n",
      "##ia: 1.1969953\n",
      "mathematics: 4.6819096 x 0.6931471805599453 = 3.245252438876541\n",
      "ph: 1.8742455\n",
      "overcome: 0.7665973\n",
      "##ob: 3.348426\n"
     ]
    }
   ],
   "source": [
    "result_sparse_vector = result[19].vector['attention']\n",
    "\n",
    "for (idx, value) in zip(result_sparse_vector.indices, result_sparse_vector.values):\n",
    "    if idx in sparse_vector:\n",
    "        print(f\"{model.invert_vocab[idx]}: {value} x {sparse_vector[idx]} = {value * sparse_vector[idx]}\")\n",
    "    else:\n",
    "        print(f\"{model.invert_vocab[idx]}: {value}\")\n"
   ]
  },
  {
   "cell_type": "code",
   "execution_count": 82,
   "metadata": {},
   "outputs": [
    {
     "name": "stdout",
     "output_type": "stream",
     "text": [
      "is: 0.027513518929481506\n",
      "math: 0.2162715643644333\n",
      "an: 0.02588239312171936\n",
      "art: 0.1304435133934021\n",
      "or: 0.02149391360580921\n",
      "a: 0.021214833483099937\n",
      "science: 0.11642558127641678\n",
      "?: 0.028545841574668884\n"
     ]
    }
   ],
   "source": [
    "query = \"Is math an art or a science?\"\n",
    "sv = next(model.encode([query]))\n",
    "sv = conver_sparse_vector(sv)\n",
    "\n",
    "for (idx, value) in zip(sv.indices, sv.values):\n",
    "    print(f\"{model.invert_vocab[idx]}: {value}\")\n"
   ]
  },
  {
   "cell_type": "code",
   "execution_count": 40,
   "metadata": {},
   "outputs": [],
   "source": [
    "import math"
   ]
  },
  {
   "cell_type": "code",
   "execution_count": 52,
   "metadata": {},
   "outputs": [
    {
     "data": {
      "text/plain": [
       "0.04879016416943205"
      ]
     },
     "execution_count": 52,
     "metadata": {},
     "output_type": "execute_result"
    }
   ],
   "source": [
    "math.log(1/20 + 1)"
   ]
  },
  {
   "cell_type": "code",
   "execution_count": 112,
   "metadata": {},
   "outputs": [
    {
     "data": {
      "text/plain": [
       "[1, 3, 2]"
      ]
     },
     "execution_count": 112,
     "metadata": {},
     "output_type": "execute_result"
    }
   ],
   "source": [
    "a = [1,3,2]\n",
    "\n",
    "sorted(a, reverse=True)\n",
    "\n",
    "a"
   ]
  },
  {
   "cell_type": "code",
   "execution_count": null,
   "metadata": {},
   "outputs": [],
   "source": []
  }
 ],
 "metadata": {
  "kernelspec": {
   "display_name": "venv",
   "language": "python",
   "name": "python3"
  },
  "language_info": {
   "codemirror_mode": {
    "name": "ipython",
    "version": 3
   },
   "file_extension": ".py",
   "mimetype": "text/x-python",
   "name": "python",
   "nbconvert_exporter": "python",
   "pygments_lexer": "ipython3",
   "version": "3.11.4"
  }
 },
 "nbformat": 4,
 "nbformat_minor": 2
}
