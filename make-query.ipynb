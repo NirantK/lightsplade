{
 "cells": [
  {
   "cell_type": "code",
   "execution_count": 1,
   "metadata": {},
   "outputs": [
    {
     "name": "stderr",
     "output_type": "stream",
     "text": [
      "/home/generall/projects/vector_search/tmp/msmacro/venv/lib/python3.11/site-packages/tqdm/auto.py:21: TqdmWarning: IProgress not found. Please update jupyter and ipywidgets. See https://ipywidgets.readthedocs.io/en/stable/user_install.html\n",
      "  from .autonotebook import tqdm as notebook_tqdm\n"
     ]
    }
   ],
   "source": [
    "from inference import SparseModel"
   ]
  },
  {
   "cell_type": "code",
   "execution_count": 2,
   "metadata": {},
   "outputs": [
    {
     "name": "stderr",
     "output_type": "stream",
     "text": [
      "/home/generall/projects/vector_search/tmp/msmacro/venv/lib/python3.11/site-packages/torch/cuda/__init__.py:141: UserWarning: CUDA initialization: Unexpected error from cudaGetDeviceCount(). Did you run some cuda functions before calling NumCudaDevices() that might have already set an error? Error 803: system has unsupported display driver / cuda driver combination (Triggered internally at ../c10/cuda/CUDAFunctions.cpp:108.)\n",
      "  return torch._C._cuda_getDeviceCount() > 0\n"
     ]
    }
   ],
   "source": [
    "model = SparseModel()"
   ]
  },
  {
   "cell_type": "code",
   "execution_count": 3,
   "metadata": {},
   "outputs": [],
   "source": [
    "QDRANT_URL='http://localhost:6333'\n",
    "QDRANT_API_KEY=''\n",
    "COLLECTION_NAME=\"quora\""
   ]
  },
  {
   "cell_type": "code",
   "execution_count": 4,
   "metadata": {},
   "outputs": [
    {
     "name": "stderr",
     "output_type": "stream",
     "text": [
      "\u001b[32m2024-03-16 12:36:45.095\u001b[0m | \u001b[33m\u001b[1mWARNING \u001b[0m | \u001b[36mfastembed.embedding\u001b[0m:\u001b[36m<module>\u001b[0m:\u001b[36m7\u001b[0m - \u001b[33m\u001b[1mDefaultEmbedding, FlagEmbedding, JinaEmbedding are deprecated.Use from fastembed import TextEmbedding instead.\u001b[0m\n"
     ]
    }
   ],
   "source": [
    "from qdrant_client import QdrantClient, models\n",
    "import math"
   ]
  },
  {
   "cell_type": "code",
   "execution_count": 5,
   "metadata": {},
   "outputs": [],
   "source": [
    "def rescore_vector(vector: dict) -> dict:\n",
    "    new_vector = {}\n",
    "\n",
    "    sorted_vector = sorted(vector.items(), key=lambda x: x[1], reverse=True)\n",
    "\n",
    "    for num, (idx, _value) in enumerate(sorted_vector):\n",
    "        new_vector[idx] = 1. # math.log(1./(num + 1) + 1.) # * value\n",
    "    return new_vector\n"
   ]
  },
  {
   "cell_type": "code",
   "execution_count": 6,
   "metadata": {},
   "outputs": [],
   "source": [
    "def conver_sparse_vector(sparse_vector: dict) -> models.SparseVector:\n",
    "    indices = []\n",
    "    values = []\n",
    "\n",
    "    for (idx, value) in sparse_vector.items():\n",
    "        indices.append(int(idx))\n",
    "        values.append(value)\n",
    "\n",
    "    return models.SparseVector(\n",
    "        indices=indices,\n",
    "        values=values\n",
    "    )"
   ]
  },
  {
   "cell_type": "code",
   "execution_count": 7,
   "metadata": {},
   "outputs": [
    {
     "name": "stderr",
     "output_type": "stream",
     "text": [
      "/home/generall/projects/vector_search/tmp/msmacro/venv/lib/python3.11/site-packages/qdrant_client/qdrant_remote.py:122: UserWarning: Api key is used with unsecure connection.\n",
      "  warnings.warn(\"Api key is used with unsecure connection.\")\n"
     ]
    }
   ],
   "source": [
    "client = QdrantClient(QDRANT_URL, api_key=QDRANT_API_KEY)"
   ]
  },
  {
   "cell_type": "code",
   "execution_count": 8,
   "metadata": {},
   "outputs": [],
   "source": [
    "query = \"Do you think of mathematics as art or science?\"\n",
    "sparse_vector = rescore_vector(next(model.encode([query])))\n",
    "sparse_vector_qdrant = conver_sparse_vector(sparse_vector)\n",
    "\n",
    "limit = 20\n",
    "result = client.search(\n",
    "    collection_name=COLLECTION_NAME,\n",
    "    query_vector=models.NamedSparseVector(\n",
    "        name=\"attention\",\n",
    "        vector=sparse_vector_qdrant\n",
    "    ),\n",
    "    with_payload=True,\n",
    "    with_vectors=True,\n",
    "    limit=limit\n",
    ")"
   ]
  },
  {
   "cell_type": "code",
   "execution_count": 9,
   "metadata": {},
   "outputs": [
    {
     "name": "stdout",
     "output_type": "stream",
     "text": [
      "0 id=435817 version=19847 score=4.03919 payload={'text': 'What are the similarities between philosophy of science and philosophy of mathematics?'} vector={'attention': SparseVector(indices=[1029, 1996, 1997, 1998, 2024, 2054, 2090, 2671, 4695, 5597, 12319], values=[0.0001106661, 0.06690782, 0.1594394, 0.09184596, 0.09434017, 0.056945104, 0.16237697, 1.140898, 1.1122377, 2.7387416, 0.87275857])} shard_key=None\n",
      "1 id=107780 version=4898 score=3.9258626 payload={'text': 'What word could you use to replace Aesthete not for art but for science?'} vector={'attention': SparseVector(indices=[1029, 2000, 2005, 2017, 2021, 2025, 2054, 2063, 2071, 2224, 2396, 2671, 2773, 3367, 5672, 27065, 29347], values=[8.381888e-05, 0.055624176, 0.19380781, 0.09614431, 0.1876321, 0.12544827, 0.030799694, 0.20959824, 0.13683692, 0.12466651, 2.6887364, 1.140898, 0.36515567, 0.49572015, 0.38214764, 1.1065063, 1.254793])} shard_key=None\n",
      "2 id=206351 version=9380 score=3.9010863 payload={'text': 'In general, what do you think about art?'} vector={'attention': SparseVector(indices=[1010, 1029, 1999, 2017, 2054, 2055, 2079, 2228, 2236, 2396], values=[0.21861006, 0.00016284543, 0.07768061, 0.1624926, 0.056945104, 0.5612286, 0.08211007, 0.9675844, 0.4963972, 2.6887364])} shard_key=None\n",
      "3 id=142399 version=6473 score=3.8797712 payload={'text': 'Is mathematics always necessary in doing good science?'} vector={'attention': SparseVector(indices=[1029, 1999, 2003, 2204, 2467, 2671, 2725, 4072, 5597], values=[0.00013177472, 0.0871019, 0.077153094, 0.52869743, 0.45876268, 1.140898, 0.29147, 0.789363, 2.7387416])} shard_key=None\n",
      "4 id=415418 version=18914 score=3.8797235 payload={'text': 'What are career options for a science student with mathematics except engineering?'} vector={'attention': SparseVector(indices=[1029, 1037, 2005, 2007, 2024, 2054, 2476, 2671, 3076, 3272, 3330, 5597, 7047], values=[8.381888e-05, 0.076969355, 0.08300919, 0.14415182, 0.077562466, 0.035449736, 0.6379573, 1.140898, 0.48957357, 0.53400874, 0.7256047, 2.7387416, 0.5086163])} shard_key=None\n",
      "5 id=19961 version=908 score=3.8297973 payload={'text': 'Why are art and science equally important?'} vector={'attention': SparseVector(indices=[1029, 1998, 2024, 2339, 2396, 2590, 2671, 8053], values=[0.00016284543, 0.15067789, 0.120383464, 0.13873197, 2.6887364, 0.81147456, 1.140898, 0.83438426])} shard_key=None\n",
      "6 id=460222 version=20960 score=3.8297663 payload={'text': 'Is art history a science?'} vector={'attention': SparseVector(indices=[1029, 1037, 2003, 2381, 2396, 2671], values=[0.00013177472, 0.16767432, 0.08950986, 0.86911213, 2.6887364, 1.140898])} shard_key=None\n",
      "7 id=506220 version=23060 score=3.810779 payload={'text': 'What is science of art and art of science?'} vector={'attention': SparseVector(indices=[1029, 1997, 1998, 2003, 2054, 2396, 2671], values=[0.0001106661, 0.25787058, 0.22172289, 0.10658312, 0.064805456, 1.4797184, 2.0730793])} shard_key=None\n",
      "8 id=271092 version=12332 score=3.7238379 payload={'text': 'Which field has more scope in between science art or commerce after 10th?'} vector={'attention': SparseVector(indices=[1029, 1999, 2029, 2030, 2038, 2044, 2062, 2090, 2396, 2492, 2671, 6049, 6236, 9531], values=[9.538873e-05, 0.07009885, 0.11078723, 0.17094462, 0.16517799, 0.21454847, 0.18987, 0.1281844, 1.4797184, 0.58439416, 2.0730793, 0.87654006, 1.0352677, 0.5114833])} shard_key=None\n",
      "9 id=279015 version=12692 score=3.6211705 payload={'text': \"What is the meaning of the sentence, 'its art and not science'?\"} vector={'attention': SparseVector(indices=[1005, 1010, 1029, 1996, 1997, 1998, 2003, 2025, 2049, 2054, 2396, 2671, 3574, 6251], values=[0.19114286, 0.12401234, 8.381888e-05, 0.092429794, 0.068288974, 0.12987693, 0.042204116, 0.4210636, 0.7755066, 0.032961506, 1.4797184, 2.0730793, 0.24877454, 0.30081603])} shard_key=None\n",
      "10 id=435335 version=19826 score=3.5804806 payload={'text': 'What is the difference between mathematics and science?'} vector={'attention': SparseVector(indices=[1029, 1996, 1998, 2003, 2054, 2090, 2671, 4489, 5597], values=[0.00016284543, 0.14949207, 0.12987693, 0.08950986, 0.056945104, 0.1975011, 2.0730793, 0.38721925, 1.5072383])} shard_key=None\n",
      "11 id=30009 version=1364 score=3.5529606 payload={'text': 'What is the difference between art and science?'} vector={'attention': SparseVector(indices=[1029, 1996, 1998, 2003, 2054, 2090, 2396, 2671, 4489], values=[0.00016284543, 0.14949207, 0.17941843, 0.08950986, 0.056945104, 0.1975011, 1.4797184, 2.0730793, 0.2802992])} shard_key=None\n",
      "12 id=192854 version=8768 score=3.5529606 payload={'text': 'How is teaching both a science and an art?'} vector={'attention': SparseVector(indices=[1029, 1037, 1998, 2003, 2019, 2119, 2129, 2396, 2671, 4252], values=[0.00016284543, 0.1139477, 0.09184596, 0.067795075, 0.28468218, 0.40866798, 0.07547024, 1.4797184, 2.0730793, 1.1845689])} shard_key=None\n",
      "13 id=427829 version=19481 score=3.5528817 payload={'text': 'What careers are there that combines science/technology and art?'} vector={'attention': SparseVector(indices=[1013, 1029, 1998, 2008, 2024, 2045, 2054, 2396, 2671, 2974, 10922, 13585], values=[0.29362443, 8.381888e-05, 0.12987693, 0.13345571, 0.09434017, 0.14122704, 0.04582892, 1.4797184, 2.0730793, 0.90441304, 0.77458704, 1.2857096])} shard_key=None\n",
      "14 id=40431 version=1838 score=3.5270216 payload={'text': 'How is mathematics related to computer science?'} vector={'attention': SparseVector(indices=[1029, 2000, 2003, 2129, 2671, 3141, 3274, 5597], values=[0.00013177472, 0.08935255, 0.08950986, 0.09630434, 0.7881482, 0.7369631, 1.1324121, 2.7387416])} shard_key=None\n",
      "15 id=492539 version=22436 score=3.5269852 payload={'text': 'What is the best mathematics book to learn computer science?'} vector={'attention': SparseVector(indices=[1029, 1996, 2000, 2003, 2054, 2190, 2338, 2671, 3274, 4553, 5597], values=[9.538873e-05, 0.058792476, 0.06551593, 0.06046209, 0.04582892, 0.2072125, 0.5887811, 0.7881482, 1.1324121, 0.41222683, 2.7387416])} shard_key=None\n",
      "16 id=160350 version=7289 score=3.5269737 payload={'text': 'How much mathematics is there in computer science (research) especially in theoretical computer science?'} vector={'attention': SparseVector(indices=[1006, 1007, 1029, 1999, 2003, 2045, 2129, 2172, 2470, 2671, 2926, 3274, 5597, 9373], values=[0.13767226, 0.32127452, 8.381888e-05, 0.07768061, 0.054560885, 0.13056576, 0.06204841, 0.27962753, 0.4793792, 0.7881482, 0.25383785, 1.1324121, 2.7387416, 0.989468])} shard_key=None\n",
      "17 id=537770 version=24506 score=3.5114298 payload={'text': 'How hard is it to get into Art Center College of Design, CA for a middle-class Indian student with science background?'} vector={'attention': SparseVector(indices=[1010, 1011, 1029, 1037, 1997, 2000, 2003, 2005, 2007, 2009, 2046, 2129, 2131, 2267, 2396, 2415, 2465, 2524, 2640, 2671, 2690, 2796, 3076, 4281, 6187], values=[0.0804879, 0.13923122, 5.217933e-05, 0.046679143, 0.034492925, 0.040382408, 0.027613163, 0.047847923, 0.06354065, 0.07364886, 0.2451365, 0.031368945, 0.06040521, 0.39766458, 2.6887364, 0.59000736, 0.16091473, 0.2741992, 1.2923666, 0.7881482, 0.3979364, 0.52040625, 0.13342658, 0.2854429, 0.42468852])} shard_key=None\n",
      "18 id=358356 version=16307 score=3.4315047 payload={'text': 'What is the importance of Mathematics in Computer Science?'} vector={'attention': SparseVector(indices=[1029, 1996, 1997, 1999, 2003, 2054, 2671, 3274, 5197, 5597], values=[0.0001106661, 0.092429794, 0.09044622, 0.099124916, 0.067795075, 0.04582892, 0.6022062, 1.1324121, 1.0626203, 2.7387416])} shard_key=None\n",
      "19 id=110214 version=5009 score=3.3365376 payload={'text': 'Which subject requires less use of mathematics Computer science or Software engineering?'} vector={'attention': SparseVector(indices=[1029, 1997, 2029, 2030, 2224, 2625, 2671, 3274, 3330, 3395, 4007, 5597, 5942], values=[7.47527e-05, 0.06313381, 0.1198335, 0.12534164, 0.27951372, 0.36276048, 0.4092458, 0.7822861, 0.4486358, 0.824075, 1.1317307, 2.7387416, 0.41701674])} shard_key=None\n"
     ]
    }
   ],
   "source": [
    "for idx, hit in enumerate(result):\n",
    "    print(idx, hit)"
   ]
  },
  {
   "cell_type": "code",
   "execution_count": 10,
   "metadata": {},
   "outputs": [
    {
     "name": "stdout",
     "output_type": "stream",
     "text": [
      "mathematics: 1.0\n",
      "art: 1.0\n",
      "science: 1.0\n",
      "think: 1.0\n",
      "as: 1.0\n",
      "?: 1.0\n",
      "or: 1.0\n",
      "of: 1.0\n",
      "you: 1.0\n",
      "do: 1.0\n"
     ]
    }
   ],
   "source": [
    "for (idx, value) in zip(sparse_vector_qdrant.indices, sparse_vector_qdrant.values):\n",
    "    print(f\"{model.invert_vocab[idx]}: {value}\")"
   ]
  },
  {
   "cell_type": "code",
   "execution_count": 11,
   "metadata": {},
   "outputs": [
    {
     "name": "stdout",
     "output_type": "stream",
     "text": [
      "?: 7.47527e-05 x 1.0 = 7.47527e-05\n",
      "of: 0.06313381 x 1.0 = 0.06313381\n",
      "which: 0.1198335\n",
      "or: 0.12534164 x 1.0 = 0.12534164\n",
      "use: 0.27951372\n",
      "less: 0.36276048\n",
      "science: 0.4092458 x 1.0 = 0.4092458\n",
      "computer: 0.7822861\n",
      "engineering: 0.4486358\n",
      "subject: 0.824075\n",
      "software: 1.1317307\n",
      "mathematics: 2.7387416 x 1.0 = 2.7387416\n",
      "requires: 0.41701674\n"
     ]
    }
   ],
   "source": [
    "result_sparse_vector = result[19].vector['attention']\n",
    "\n",
    "for (idx, value) in zip(result_sparse_vector.indices, result_sparse_vector.values):\n",
    "    if idx in sparse_vector:\n",
    "        print(f\"{model.invert_vocab[idx]}: {value} x {sparse_vector[idx]} = {value * sparse_vector[idx]}\")\n",
    "    else:\n",
    "        print(f\"{model.invert_vocab[idx]}: {value}\")\n"
   ]
  },
  {
   "cell_type": "code",
   "execution_count": 82,
   "metadata": {},
   "outputs": [
    {
     "name": "stdout",
     "output_type": "stream",
     "text": [
      "is: 0.027513518929481506\n",
      "math: 0.2162715643644333\n",
      "an: 0.02588239312171936\n",
      "art: 0.1304435133934021\n",
      "or: 0.02149391360580921\n",
      "a: 0.021214833483099937\n",
      "science: 0.11642558127641678\n",
      "?: 0.028545841574668884\n"
     ]
    }
   ],
   "source": [
    "query = \"Is math an art or a science?\"\n",
    "sv = next(model.encode([query]))\n",
    "sv = conver_sparse_vector(sv)\n",
    "\n",
    "for (idx, value) in zip(sv.indices, sv.values):\n",
    "    print(f\"{model.invert_vocab[idx]}: {value}\")\n"
   ]
  },
  {
   "cell_type": "code",
   "execution_count": 40,
   "metadata": {},
   "outputs": [],
   "source": [
    "import math"
   ]
  },
  {
   "cell_type": "code",
   "execution_count": 52,
   "metadata": {},
   "outputs": [
    {
     "data": {
      "text/plain": [
       "0.04879016416943205"
      ]
     },
     "execution_count": 52,
     "metadata": {},
     "output_type": "execute_result"
    }
   ],
   "source": [
    "math.log(1/20 + 1)"
   ]
  },
  {
   "cell_type": "code",
   "execution_count": 112,
   "metadata": {},
   "outputs": [
    {
     "data": {
      "text/plain": [
       "[1, 3, 2]"
      ]
     },
     "execution_count": 112,
     "metadata": {},
     "output_type": "execute_result"
    }
   ],
   "source": [
    "a = [1,3,2]\n",
    "\n",
    "sorted(a, reverse=True)\n",
    "\n",
    "a"
   ]
  },
  {
   "cell_type": "code",
   "execution_count": null,
   "metadata": {},
   "outputs": [],
   "source": []
  }
 ],
 "metadata": {
  "kernelspec": {
   "display_name": "venv",
   "language": "python",
   "name": "python3"
  },
  "language_info": {
   "codemirror_mode": {
    "name": "ipython",
    "version": 3
   },
   "file_extension": ".py",
   "mimetype": "text/x-python",
   "name": "python",
   "nbconvert_exporter": "python",
   "pygments_lexer": "ipython3",
   "version": "3.11.4"
  }
 },
 "nbformat": 4,
 "nbformat_minor": 2
}
